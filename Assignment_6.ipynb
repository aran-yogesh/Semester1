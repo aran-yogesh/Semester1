{
 "cells": [
  {
   "cell_type": "code",
   "execution_count": 1,
   "id": "fb045193-1ea4-47ac-8fdf-476cbc78fd81",
   "metadata": {
    "id": "fb045193-1ea4-47ac-8fdf-476cbc78fd81"
   },
   "outputs": [],
   "source": [
    "import numpy as np\n",
    "import pandas as pd\n",
    "from sklearn.metrics import accuracy_score, confusion_matrix"
   ]
  },
  {
   "cell_type": "code",
   "execution_count": 2,
   "id": "7a17b6e0-eb6a-4bf8-9b0b-56b1e64bf5f6",
   "metadata": {
    "colab": {
     "base_uri": "https://localhost:8080/"
    },
    "id": "7a17b6e0-eb6a-4bf8-9b0b-56b1e64bf5f6",
    "outputId": "08d663f3-5a04-4bc1-f516-823fe6935e8c"
   },
   "outputs": [
    {
     "name": "stdout",
     "output_type": "stream",
     "text": [
      "(256, 1707)\n",
      "(1707,)\n",
      "(256, 2007)\n",
      "(2007,)\n"
     ]
    }
   ],
   "source": [
    "# load the datasets\n",
    "train_input = pd.read_csv('/Users/aran/Desktop/Semester 1/Introduction to machine learning/assignments/SVD assignment/Data/trainInput.csv', header = None).values\n",
    "train_output = pd.read_csv('/Users/aran/Desktop/Semester 1/Introduction to machine learning/assignments/SVD assignment/Data/trainOutput.csv', header = None).values.flatten()\n",
    "\n",
    "test_input = pd.read_csv('/Users/aran/Desktop/Semester 1/Introduction to machine learning/assignments/SVD assignment/Data/testInput.csv', header = None).values\n",
    "test_output = pd.read_csv('/Users/aran/Desktop/Semester 1/Introduction to machine learning/assignments/SVD assignment/Data/testOutput.csv', header = None).values.flatten()\n",
    "\n",
    "print(train_input.shape)\n",
    "print(train_output.shape)\n",
    "print(test_input.shape)\n",
    "print(test_output.shape)"
   ]
  },
  {
   "cell_type": "code",
   "execution_count": 3,
   "id": "ce12f1ba-76cb-4fca-bd98-77367cb7f831",
   "metadata": {
    "colab": {
     "base_uri": "https://localhost:8080/"
    },
    "id": "ce12f1ba-76cb-4fca-bd98-77367cb7f831",
    "outputId": "921d0928-8a6c-4ab8-cca3-29776171d6aa"
   },
   "outputs": [
    {
     "name": "stdout",
     "output_type": "stream",
     "text": [
      "A[0]:(256, 319)\n",
      "A[1]:(256, 252)\n",
      "A[2]:(256, 202)\n",
      "A[3]:(256, 131)\n",
      "A[4]:(256, 122)\n",
      "A[5]:(256, 88)\n",
      "A[6]:(256, 151)\n",
      "A[7]:(256, 166)\n",
      "A[8]:(256, 144)\n",
      "A[9]:(256, 132)\n"
     ]
    }
   ],
   "source": [
    "A = {}\n",
    "for digit in range(10):\n",
    "    A[digit] = train_input[:, train_output == digit]\n",
    "\n",
    "    print(f\"A[{digit}]:{A[digit].shape}\") \n"
   ]
  },
  {
   "cell_type": "code",
   "execution_count": 4,
   "id": "dc680e7e-0b69-435c-9f27-477fcc162548",
   "metadata": {},
   "outputs": [],
   "source": [
    "K = {}\n",
    "singular_vectors = {}\n",
    "\n"
   ]
  },
  {
   "cell_type": "code",
   "execution_count": 5,
   "id": "1250e3bc-9cea-40f4-81e0-77e1de159252",
   "metadata": {},
   "outputs": [
    {
     "name": "stdout",
     "output_type": "stream",
     "text": [
      "A[0] shape: (256, 319)\n",
      "A[1] shape: (256, 252)\n",
      "A[2] shape: (256, 202)\n",
      "A[3] shape: (256, 131)\n",
      "A[4] shape: (256, 122)\n",
      "A[5] shape: (256, 88)\n",
      "A[6] shape: (256, 151)\n",
      "A[7] shape: (256, 166)\n",
      "A[8] shape: (256, 144)\n",
      "A[9] shape: (256, 132)\n",
      "Basis shape for digit 0: (256, 20)\n",
      "Basis shape for digit 1: (256, 20)\n",
      "Basis shape for digit 2: (256, 20)\n",
      "Basis shape for digit 3: (256, 20)\n",
      "Basis shape for digit 4: (256, 20)\n",
      "Basis shape for digit 5: (256, 20)\n",
      "Basis shape for digit 6: (256, 20)\n",
      "Basis shape for digit 7: (256, 20)\n",
      "Basis shape for digit 8: (256, 20)\n",
      "Basis shape for digit 9: (256, 20)\n"
     ]
    }
   ],
   "source": [
    "# Define A[digit] for each digit and compute singular vectors once\n",
    "A = {}\n",
    "singular_vectors = {}\n",
    "\n",
    "for digit in range(10):\n",
    "    # Extract images of each digit as columns, resulting in (256, num_images_per_digit)\n",
    "    A[digit] = train_input[:, train_output == digit]\n",
    "    print(f\"A[{digit}] shape: {A[digit].shape}\")  # Verify shape of each A[digit]\n",
    "\n",
    "    # Perform SVD and select the first k=20 singular vectors from U\n",
    "    U, Σ, Vt = np.linalg.svd(A[digit], full_matrices=False)\n",
    "    singular_vectors[digit] = U[:, :20]  # Now should be (256, 20)\n",
    "\n",
    "# Check basis shapes after SVD\n",
    "for digit, basis in singular_vectors.items():\n",
    "    print(f\"Basis shape for digit {digit}: {basis.shape}\")"
   ]
  },
  {
   "cell_type": "code",
   "execution_count": 6,
   "id": "6d1ef537-dcba-4eb8-a0fe-55dd6d261ce8",
   "metadata": {
    "id": "6d1ef537-dcba-4eb8-a0fe-55dd6d261ce8"
   },
   "outputs": [],
   "source": [
    "# def project_onto_basis(image, basis):\n",
    "\n",
    "#     image = image.flatten()\n",
    "\n",
    "#     if basis.shape[0] != image.shape[0]:\n",
    "#         raise ValueError(f\"Incompatible dimensions: basis has {basis.shape[0]} rows, \"\n",
    "#                          f\"but image has {image.shape[0]} elements.\")\n",
    "\n",
    "#     coefficients = np.linalg.lstsq(basis, image, rcond=None)[0]\n",
    "#     approximation = basis @ coefficients\n",
    "#     return approximation\n"
   ]
  },
  {
   "cell_type": "code",
   "execution_count": 7,
   "id": "a9078317-df7b-4e2c-a763-e1ee165e0db1",
   "metadata": {
    "id": "a9078317-df7b-4e2c-a763-e1ee165e0db1"
   },
   "outputs": [],
   "source": [
    "# predictions = []\n",
    "\n",
    "# for test_image in test_input.T:\n",
    "#     residuals = []\n",
    "#     for digit in range(10):\n",
    "#         basis = singular_vectors[digit]\n",
    "#         approximation = project_onto_basis(test_image, basis)\n",
    "#         residual = np.linalg.norm(test_image.flatten() - approximation)\n",
    "#         residuals.append(residual)\n",
    "#     predicted_digit = np.argmin(residuals)\n",
    "#     predictions.append(predicted_digit)\n"
   ]
  },
  {
   "cell_type": "code",
   "execution_count": 8,
   "id": "jvtRexEE2Y5n",
   "metadata": {
    "id": "jvtRexEE2Y5n"
   },
   "outputs": [],
   "source": [
    "# Project test image onto the basis of each digit\n",
    "def project_onto_basis(image, basis):\n",
    "    image = image.flatten()\n",
    "    # Check dimensions for compatibility\n",
    "    print(f\"Image shape: {image.shape}, Basis shape: {basis.shape}\")\n",
    "\n",
    "    if basis.shape[0] != image.shape[0]:\n",
    "        raise ValueError(f\"Incompatible dimensions: basis has {basis.shape[0]} rows, \"\n",
    "                         f\"but image has {image.shape[0]} elements.\")\n",
    "\n",
    "    coefficients = np.linalg.lstsq(basis, image, rcond=None)[0]\n",
    "    approximation = basis @ coefficients\n",
    "    return approximation"
   ]
  },
  {
   "cell_type": "code",
   "execution_count": 9,
   "id": "RRDcYSTb3O9v",
   "metadata": {
    "colab": {
     "base_uri": "https://localhost:8080/"
    },
    "id": "RRDcYSTb3O9v",
    "outputId": "000f4e70-118e-484a-af9e-0f8dbd8df44d"
   },
   "outputs": [
    {
     "name": "stdout",
     "output_type": "stream",
     "text": [
      "A[0] shape: (256, 319)\n",
      "A[1] shape: (256, 252)\n",
      "A[2] shape: (256, 202)\n",
      "A[3] shape: (256, 131)\n",
      "A[4] shape: (256, 122)\n",
      "A[5] shape: (256, 88)\n",
      "A[6] shape: (256, 151)\n",
      "A[7] shape: (256, 166)\n",
      "A[8] shape: (256, 144)\n",
      "A[9] shape: (256, 132)\n",
      "Basis shape for digit 0: (20, 256)\n",
      "Basis shape for digit 1: (20, 252)\n",
      "Basis shape for digit 2: (20, 202)\n",
      "Basis shape for digit 3: (20, 131)\n",
      "Basis shape for digit 4: (20, 122)\n",
      "Basis shape for digit 5: (20, 88)\n",
      "Basis shape for digit 6: (20, 151)\n",
      "Basis shape for digit 7: (20, 166)\n",
      "Basis shape for digit 8: (20, 144)\n",
      "Basis shape for digit 9: (20, 132)\n",
      "Image shape: (256,), Basis shape: (20, 256)\n"
     ]
    },
    {
     "ename": "ValueError",
     "evalue": "Incompatible dimensions: basis has 20 rows, but image has 256 elements.",
     "output_type": "error",
     "traceback": [
      "\u001b[0;31m---------------------------------------------------------------------------\u001b[0m",
      "\u001b[0;31mValueError\u001b[0m                                Traceback (most recent call last)",
      "Cell \u001b[0;32mIn[9], line 24\u001b[0m\n\u001b[1;32m     22\u001b[0m \u001b[38;5;28;01mfor\u001b[39;00m digit \u001b[38;5;129;01min\u001b[39;00m \u001b[38;5;28mrange\u001b[39m(\u001b[38;5;241m10\u001b[39m):\n\u001b[1;32m     23\u001b[0m     basis \u001b[38;5;241m=\u001b[39m singular_vectors[digit]\n\u001b[0;32m---> 24\u001b[0m     approximation \u001b[38;5;241m=\u001b[39m project_onto_basis(test_image, basis)\n\u001b[1;32m     25\u001b[0m     residual \u001b[38;5;241m=\u001b[39m np\u001b[38;5;241m.\u001b[39mlinalg\u001b[38;5;241m.\u001b[39mnorm(test_image\u001b[38;5;241m.\u001b[39mflatten() \u001b[38;5;241m-\u001b[39m approximation)\n\u001b[1;32m     26\u001b[0m     residuals\u001b[38;5;241m.\u001b[39mappend(residual)\n",
      "Cell \u001b[0;32mIn[8], line 8\u001b[0m, in \u001b[0;36mproject_onto_basis\u001b[0;34m(image, basis)\u001b[0m\n\u001b[1;32m      5\u001b[0m \u001b[38;5;28mprint\u001b[39m(\u001b[38;5;124mf\u001b[39m\u001b[38;5;124m\"\u001b[39m\u001b[38;5;124mImage shape: \u001b[39m\u001b[38;5;132;01m{\u001b[39;00mimage\u001b[38;5;241m.\u001b[39mshape\u001b[38;5;132;01m}\u001b[39;00m\u001b[38;5;124m, Basis shape: \u001b[39m\u001b[38;5;132;01m{\u001b[39;00mbasis\u001b[38;5;241m.\u001b[39mshape\u001b[38;5;132;01m}\u001b[39;00m\u001b[38;5;124m\"\u001b[39m)\n\u001b[1;32m      7\u001b[0m \u001b[38;5;28;01mif\u001b[39;00m basis\u001b[38;5;241m.\u001b[39mshape[\u001b[38;5;241m0\u001b[39m] \u001b[38;5;241m!=\u001b[39m image\u001b[38;5;241m.\u001b[39mshape[\u001b[38;5;241m0\u001b[39m]:\n\u001b[0;32m----> 8\u001b[0m     \u001b[38;5;28;01mraise\u001b[39;00m \u001b[38;5;167;01mValueError\u001b[39;00m(\u001b[38;5;124mf\u001b[39m\u001b[38;5;124m\"\u001b[39m\u001b[38;5;124mIncompatible dimensions: basis has \u001b[39m\u001b[38;5;132;01m{\u001b[39;00mbasis\u001b[38;5;241m.\u001b[39mshape[\u001b[38;5;241m0\u001b[39m]\u001b[38;5;132;01m}\u001b[39;00m\u001b[38;5;124m rows, \u001b[39m\u001b[38;5;124m\"\u001b[39m\n\u001b[1;32m      9\u001b[0m                      \u001b[38;5;124mf\u001b[39m\u001b[38;5;124m\"\u001b[39m\u001b[38;5;124mbut image has \u001b[39m\u001b[38;5;132;01m{\u001b[39;00mimage\u001b[38;5;241m.\u001b[39mshape[\u001b[38;5;241m0\u001b[39m]\u001b[38;5;132;01m}\u001b[39;00m\u001b[38;5;124m elements.\u001b[39m\u001b[38;5;124m\"\u001b[39m)\n\u001b[1;32m     11\u001b[0m coefficients \u001b[38;5;241m=\u001b[39m np\u001b[38;5;241m.\u001b[39mlinalg\u001b[38;5;241m.\u001b[39mlstsq(basis, image, rcond\u001b[38;5;241m=\u001b[39m\u001b[38;5;28;01mNone\u001b[39;00m)[\u001b[38;5;241m0\u001b[39m]\n\u001b[1;32m     12\u001b[0m approximation \u001b[38;5;241m=\u001b[39m basis \u001b[38;5;241m@\u001b[39m coefficients\n",
      "\u001b[0;31mValueError\u001b[0m: Incompatible dimensions: basis has 20 rows, but image has 256 elements."
     ]
    }
   ],
   "source": [
    "# Define A[digit] for each digit and compute singular vectors once\n",
    "A = {}\n",
    "singular_vectors = {}\n",
    "\n",
    "for digit in range(10):\n",
    "    # Extract images of each digit as columns, resulting in (256, num_images_per_digit)\n",
    "    A[digit] = train_input[:, train_output == digit]\n",
    "    print(f\"A[{digit}] shape: {A[digit].shape}\")  # Verify shape of each A[digit]\n",
    "\n",
    "    # Perform SVD and select the first k=20 singular vectors from U\n",
    "    U, Σ, Vt = np.linalg.svd(A[digit], full_matrices=False)\n",
    "    singular_vectors[digit] = U[:20, :]  # Now should be (256, 20)\n",
    "\n",
    "# Check basis shapes after SVD\n",
    "for digit, basis in singular_vectors.items():\n",
    "    print(f\"Basis shape for digit {digit}: {basis.shape}\")\n",
    "\n",
    "# Predict digits for test images\n",
    "predictions = []\n",
    "for test_image in test_input.T:\n",
    "    residuals = []\n",
    "    for digit in range(10):\n",
    "        basis = singular_vectors[digit]\n",
    "        approximation = project_onto_basis(test_image, basis)\n",
    "        residual = np.linalg.norm(test_image.flatten() - approximation)\n",
    "        residuals.append(residual)\n",
    "    predicted_digit = np.argmin(residuals)\n",
    "    predictions.append(predicted_digit)\n",
    "\n",
    "print(predictions[:10])  # Print first 10 predictions as a quick check\n"
   ]
  },
  {
   "cell_type": "code",
   "execution_count": null,
   "id": "043b5c23-4678-4737-8415-00a86d82cc0b",
   "metadata": {},
   "outputs": [],
   "source": [
    "accuracy = accuracy_score(test_output, predictions)\n",
    "print(f\"Overall Classification Accuracy: {accuracy * 100:.2f}%\")\n"
   ]
  },
  {
   "cell_type": "code",
   "execution_count": null,
   "id": "bf51474c-da3b-4275-a392-b3eadc782195",
   "metadata": {},
   "outputs": [],
   "source": [
    "conf_matrix = confusion_matrix(test_output, predictions)\n",
    "print(\"Confusion Matrix:\")\n",
    "print(conf_matrix)"
   ]
  }
 ],
 "metadata": {
  "colab": {
   "provenance": []
  },
  "kernelspec": {
   "display_name": "Python 3 (ipykernel)",
   "language": "python",
   "name": "python3"
  },
  "language_info": {
   "codemirror_mode": {
    "name": "ipython",
    "version": 3
   },
   "file_extension": ".py",
   "mimetype": "text/x-python",
   "name": "python",
   "nbconvert_exporter": "python",
   "pygments_lexer": "ipython3",
   "version": "3.12.4"
  }
 },
 "nbformat": 4,
 "nbformat_minor": 5
}
