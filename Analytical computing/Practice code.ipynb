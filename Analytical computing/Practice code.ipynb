{
 "cells": [
  {
   "cell_type": "code",
   "execution_count": 75,
   "id": "9406b556-7569-4450-b651-6942dc82761d",
   "metadata": {},
   "outputs": [
    {
     "name": "stdout",
     "output_type": "stream",
     "text": [
      "10\n",
      "5\n",
      "6\n",
      "9\n",
      "1\n",
      "8\n"
     ]
    }
   ],
   "source": [
    "import random\n",
    "\n",
    "# Set a random seed\n",
    "random.seed(5)\n",
    "\n",
    "# Generate some random numbers\n",
    "print(random.randint(1, 10))  # Always outputs 10 if seed is 5\n",
    "print(random.randint(1, 10))  # Always outputs 8 if seed is 5\n",
    "print(random.randint(1, 10))\n",
    "print(random.randint(1, 10))\n",
    "print(random.randint(1, 10))\n",
    "print(random.randint(1, 10))"
   ]
  },
  {
   "cell_type": "code",
   "execution_count": 37,
   "id": "3a0cc238-7318-4b03-b31b-245b1b0e52f3",
   "metadata": {},
   "outputs": [
    {
     "name": "stdout",
     "output_type": "stream",
     "text": [
      "2\n"
     ]
    }
   ],
   "source": [
    "import random\n",
    "\n",
    "random.seed(42)  # Set the seed to 42\n",
    "print(random.randint(1, 10))  # Will always output 7"
   ]
  },
  {
   "cell_type": "code",
   "execution_count": 80,
   "id": "274481b1-79a0-42a6-8ac9-db9a3e0c454c",
   "metadata": {},
   "outputs": [
    {
     "name": "stdout",
     "output_type": "stream",
     "text": [
      "Aiden\n",
      "40000\n",
      "9c40\n",
      "40,000\n",
      "9C40\n",
      "1001110001000000\n",
      "40000.000000\n"
     ]
    }
   ],
   "source": [
    "name = 'Aiden'\n",
    "number = 40000\n",
    "\n",
    "\n",
    "print(f'{name:s}')\n",
    "print(f'{number:d}')\n",
    "print(f'{number:x}')\n",
    "print(f'{number:,d}')\n",
    "print(f'{number:X}')\n",
    "print(f'{number:b}')\n",
    "print(f'{number:f}')"
   ]
  },
  {
   "cell_type": "code",
   "execution_count": 88,
   "id": "e7c5c193-2347-454f-8092-1f170c3c7db0",
   "metadata": {},
   "outputs": [
    {
     "name": "stdin",
     "output_type": "stream",
     "text": [
      " 5\n"
     ]
    },
    {
     "name": "stdout",
     "output_type": "stream",
     "text": [
      "*\n",
      "**\n",
      "***\n",
      "****\n",
      "*****\n"
     ]
    }
   ],
   "source": [
    "no = int(input())\n",
    "\n",
    "for i in range(no):\n",
    "    print('*' * (i+1))"
   ]
  },
  {
   "cell_type": "code",
   "execution_count": 100,
   "id": "0a0a7129-480c-413f-a273-cd45a197c3a7",
   "metadata": {},
   "outputs": [
    {
     "name": "stdin",
     "output_type": "stream",
     "text": [
      " 7\n"
     ]
    },
    {
     "name": "stdout",
     "output_type": "stream",
     "text": [
      "*\n",
      "**\n",
      "***\n",
      "****\n",
      "*****\n",
      "******\n",
      "*******\n"
     ]
    }
   ],
   "source": [
    "def star(num):\n",
    "    print('*' * (num+1))\n",
    "\n",
    "no = int(input())\n",
    "for i in range(no):\n",
    "    star(i)"
   ]
  },
  {
   "cell_type": "code",
   "execution_count": 130,
   "id": "61265735-27d2-4296-b1ee-40a5574c6877",
   "metadata": {},
   "outputs": [
    {
     "name": "stdin",
     "output_type": "stream",
     "text": [
      " 100\n",
      " 25\n"
     ]
    },
    {
     "name": "stdout",
     "output_type": "stream",
     "text": [
      "14.0\n",
      "Driving cost: $14.0\n"
     ]
    }
   ],
   "source": [
    "miles = int(input())\n",
    "fuel_efficency = float(input())\n",
    "gas_price = 3.50\n",
    "\n",
    "gallon_per_mile = miles/fuel_efficency\n",
    "Driving_cost = gallon_per_mile * gas_price\n",
    "print(Driving_cost)\n",
    "\n",
    "\n",
    "print (f\"Driving cost: ${(miles/fuel_efficency)  * gas_price}\")"
   ]
  },
  {
   "cell_type": "code",
   "execution_count": 141,
   "id": "0baddee9-e86a-4bd1-a75e-cd3b573fe247",
   "metadata": {},
   "outputs": [
    {
     "name": "stdout",
     "output_type": "stream",
     "text": [
      "433\n",
      "86.6\n",
      "86\n"
     ]
    }
   ],
   "source": [
    "grades = [85, 92, 78, 90, 88]\n",
    "\n",
    "print(sum(grades))\n",
    "print(sum(grades)/len(grades))\n",
    "print(int(sum(grades)/len(grades)))"
   ]
  },
  {
   "cell_type": "code",
   "execution_count": 153,
   "id": "910d6c94-e195-4d87-9a36-fb2056133f69",
   "metadata": {},
   "outputs": [
    {
     "name": "stdin",
     "output_type": "stream",
     "text": [
      " ugvafilgriubd\n"
     ]
    },
    {
     "name": "stdout",
     "output_type": "stream",
     "text": [
      "5\n"
     ]
    },
    {
     "data": {
      "text/plain": [
       "['u', 'a', 'i', 'i', 'u']"
      ]
     },
     "execution_count": 153,
     "metadata": {},
     "output_type": "execute_result"
    }
   ],
   "source": [
    "str = input()\n",
    "vowel = ['a','e','i','o','u','A','E','I','O','U']\n",
    "count = 0\n",
    "store = []\n",
    "for i in range(len(str)):\n",
    "    if str[i] in vowel:\n",
    "        count +=1\n",
    "        store.append(str[i])\n",
    "print(count)\n",
    "store\n"
   ]
  },
  {
   "cell_type": "code",
   "execution_count": 5,
   "id": "8ca063c4-0e0c-4e25-a87f-3cf1e9a017da",
   "metadata": {},
   "outputs": [
    {
     "name": "stdin",
     "output_type": "stream",
     "text": [
      " 1\n",
      " 2\n",
      " /\n"
     ]
    },
    {
     "name": "stdout",
     "output_type": "stream",
     "text": [
      "The result is: 2\n"
     ]
    }
   ],
   "source": [
    "class Calculator:\n",
    "    def add(self,a,b):\n",
    "        return a + b\n",
    "    def sub(self,a,b):\n",
    "        return a - b\n",
    "    def mul(self,a,b):\n",
    "        return a * b\n",
    "    def div(self,a,b):\n",
    "        return a * b\n",
    "num1 = int(input())\n",
    "num2 = int(input())\n",
    "operation =input()\n",
    "\n",
    "calc = Calculator()\n",
    "\n",
    "if operation == '+':\n",
    "    result = calc.add(num1, num2)\n",
    "elif operation == '-':\n",
    "    result = calc.sub(num1, num2)\n",
    "elif operation == '*':\n",
    "    result = calc.mul(num1, num2)\n",
    "elif operation == '/':\n",
    "    result = calc.div(num1, num2)\n",
    "else:\n",
    "    result = \"Invalid operation\"\n",
    "\n",
    "# Output\n",
    "print(\"The result is:\", result)"
   ]
  },
  {
   "cell_type": "code",
   "execution_count": 21,
   "id": "d8010869-7a69-49ad-9251-e19b9ba35a44",
   "metadata": {},
   "outputs": [
    {
     "name": "stdin",
     "output_type": "stream",
     "text": [
      "enter the title hgc\n",
      "enter the author kb\n",
      "enter the price 13.09\n"
     ]
    },
    {
     "name": "stdout",
     "output_type": "stream",
     "text": [
      "title: hgc\n",
      "author: kb\n",
      "price: 13.09\n"
     ]
    }
   ],
   "source": [
    "class Book:\n",
    "    def __init__(self, title, author, price):\n",
    "        self.title = title\n",
    "        self.author = author \n",
    "        self.price = price\n",
    "\n",
    "title = input(\"enter the title\")\n",
    "author = input(\"enter the author\")\n",
    "price = float(input(\"enter the price\"))\n",
    "\n",
    "# Creating an instance of the Book class\n",
    "book = Book(title, author, price)\n",
    "\n",
    "print(f\"title: {book.title}\")\n",
    "print(f\"author: {book.author}\")\n",
    "print(f\"price: {book.price}\")"
   ]
  },
  {
   "cell_type": "code",
   "execution_count": 29,
   "id": "e94c8ff5-2d1b-446a-b421-e7216e31b9c3",
   "metadata": {},
   "outputs": [
    {
     "name": "stdin",
     "output_type": "stream",
     "text": [
      "enter account 1234567890\n",
      "enter the intial balance 200\n"
     ]
    },
    {
     "name": "stdout",
     "output_type": "stream",
     "text": [
      "\n",
      "Choose an operation:\n",
      "1. Deposit Money\n",
      "2. Withdraw Money\n",
      "3. Check Balance\n",
      "4. Exit\n"
     ]
    },
    {
     "name": "stdin",
     "output_type": "stream",
     "text": [
      "Enter your choice:  2\n",
      "Enter withdrawal amount:  150\n"
     ]
    },
    {
     "name": "stdout",
     "output_type": "stream",
     "text": [
      "successfully withdrawed\n",
      "\n",
      "Choose an operation:\n",
      "1. Deposit Money\n",
      "2. Withdraw Money\n",
      "3. Check Balance\n",
      "4. Exit\n"
     ]
    },
    {
     "name": "stdin",
     "output_type": "stream",
     "text": [
      "Enter your choice:  2\n",
      "Enter withdrawal amount:  1000\n"
     ]
    },
    {
     "name": "stdout",
     "output_type": "stream",
     "text": [
      "insufficient funds\n",
      "\n",
      "Choose an operation:\n",
      "1. Deposit Money\n",
      "2. Withdraw Money\n",
      "3. Check Balance\n",
      "4. Exit\n"
     ]
    },
    {
     "name": "stdin",
     "output_type": "stream",
     "text": [
      "Enter your choice:  tgh\n"
     ]
    },
    {
     "name": "stdout",
     "output_type": "stream",
     "text": [
      "Invalid choice. Please try again.\n",
      "\n",
      "Choose an operation:\n",
      "1. Deposit Money\n",
      "2. Withdraw Money\n",
      "3. Check Balance\n",
      "4. Exit\n"
     ]
    },
    {
     "name": "stdin",
     "output_type": "stream",
     "text": [
      "Enter your choice:  4\n"
     ]
    },
    {
     "name": "stdout",
     "output_type": "stream",
     "text": [
      "Exiting. Thank you for banking with us!\n"
     ]
    }
   ],
   "source": [
    "class BankAccount:\n",
    "    def __init__(self, acc_num, balance):\n",
    "        self.acc_num = acc_num\n",
    "        self.balance = balance\n",
    "\n",
    "    def deposit(self, amount):\n",
    "        if amount > 0:\n",
    "            self.balance += amount\n",
    "            print(\"successfully deposited\")\n",
    "        else:\n",
    "            print(\"deposit mount must be positive\")\n",
    "    def withdraw(self,amount):\n",
    "        if amount > self.balance:\n",
    "            print(\"insufficient funds\")\n",
    "        elif amount <= 0:\n",
    "            print(\"withdrawl amount must be positive\")\n",
    "        else:\n",
    "            self.balance -= amount\n",
    "            print(\"successfully withdrawed\")\n",
    "    def check_balance(self):\n",
    "        print(f\"account number :{self.acc_num}\")\n",
    "        print(f\"current balance: {self.balance}\")\n",
    "\n",
    "acc_num = input(\"enter account\")\n",
    "inital_balance = float(input(\"enter the intial balance\"))\n",
    "account = BankAccount(acc_num, inital_balance)\n",
    "\n",
    "while True:\n",
    "    print(\"\\nChoose an operation:\")\n",
    "    print(\"1. Deposit Money\")\n",
    "    print(\"2. Withdraw Money\")\n",
    "    print(\"3. Check Balance\")\n",
    "    print(\"4. Exit\")\n",
    "    choice = input(\"Enter your choice: \")\n",
    "\n",
    "    if choice == \"1\":\n",
    "        amount = float(input(\"Enter deposit amount: \"))\n",
    "        account.deposit(amount)\n",
    "    elif choice == \"2\":\n",
    "        amount = float(input(\"Enter withdrawal amount: \"))\n",
    "        account.withdraw(amount)\n",
    "    elif choice == \"3\":\n",
    "        account.check_balance()\n",
    "    elif choice == \"4\":\n",
    "        print(\"Exiting. Thank you for banking with us!\")\n",
    "        break\n",
    "    else:\n",
    "        print(\"Invalid choice. Please try again.\")"
   ]
  },
  {
   "cell_type": "markdown",
   "id": "1b0d7413-b660-4bed-ad35-5e8e5ce4c9d7",
   "metadata": {},
   "source": [
    "#### function Basics"
   ]
  },
  {
   "cell_type": "code",
   "execution_count": 1,
   "id": "5cf372cf-a789-42d7-a23d-38947baf3c92",
   "metadata": {},
   "outputs": [],
   "source": [
    "def my_function(param1, param2):\n",
    "    # Do something\n",
    "    return result"
   ]
  },
  {
   "cell_type": "markdown",
   "id": "60a94cd2-26f4-443b-a3fe-b9d37eed8f8c",
   "metadata": {},
   "source": [
    "#### error Handling"
   ]
  },
  {
   "cell_type": "code",
   "execution_count": 10,
   "id": "b3fbbee1-277b-4e4e-be89-3fd2c672f69c",
   "metadata": {},
   "outputs": [],
   "source": [
    "input_value = 10\n",
    "try:\n",
    "    result = int(input_value)\n",
    "except ValueError:\n",
    "    print(\"Invalid input. Please enter a number.\")"
   ]
  },
  {
   "cell_type": "markdown",
   "id": "3e90677c-9f37-495f-a1ee-0385cb925c09",
   "metadata": {},
   "source": [
    "#### Math Operations"
   ]
  },
  {
   "cell_type": "code",
   "execution_count": 19,
   "id": "55bcd123-f066-4e5f-be1d-1e7fe8a4d97e",
   "metadata": {},
   "outputs": [
    {
     "name": "stdin",
     "output_type": "stream",
     "text": [
      " 2\n"
     ]
    },
    {
     "data": {
      "text/plain": [
       "33.510321638291124"
      ]
     },
     "execution_count": 19,
     "metadata": {},
     "output_type": "execute_result"
    }
   ],
   "source": [
    "import math\n",
    "radius = int(input())\n",
    "volume = (4/3) * math.pi * radius**3\n",
    "volume"
   ]
  },
  {
   "cell_type": "markdown",
   "id": "78980fba-8597-4b9e-bd10-ac12177b6aad",
   "metadata": {},
   "source": [
    "#### if condition:"
   ]
  },
  {
   "cell_type": "code",
   "execution_count": null,
   "id": "93a804a0-f8d3-4a71-9a5a-4ac8f2efbb53",
   "metadata": {},
   "outputs": [],
   "source": [
    "if condition:\n",
    "    # Execute if true"
   ]
  },
  {
   "cell_type": "markdown",
   "id": "9aa6cb6a-60f5-44f1-a6b8-504e9b46f8dd",
   "metadata": {},
   "source": [
    "#### List Iteration:"
   ]
  },
  {
   "cell_type": "code",
   "execution_count": 27,
   "id": "cbf7cb0f-8e55-48b6-ad19-90646d5c2686",
   "metadata": {},
   "outputs": [
    {
     "ename": "NameError",
     "evalue": "name 'my_list' is not defined",
     "output_type": "error",
     "traceback": [
      "\u001b[0;31m---------------------------------------------------------------------------\u001b[0m",
      "\u001b[0;31mNameError\u001b[0m                                 Traceback (most recent call last)",
      "Cell \u001b[0;32mIn[27], line 1\u001b[0m\n\u001b[0;32m----> 1\u001b[0m \u001b[38;5;28;01mfor\u001b[39;00m item \u001b[38;5;129;01min\u001b[39;00m my_list:\n\u001b[1;32m      2\u001b[0m     \u001b[38;5;28;01mif\u001b[39;00m item \u001b[38;5;241m>\u001b[39m \u001b[38;5;241m10\u001b[39m:\n\u001b[1;32m      3\u001b[0m         \u001b[38;5;28mprint\u001b[39m(item)\n",
      "\u001b[0;31mNameError\u001b[0m: name 'my_list' is not defined"
     ]
    }
   ],
   "source": [
    "for item in my_list:\n",
    "    if item > 10:\n",
    "        print(item)"
   ]
  },
  {
   "cell_type": "markdown",
   "id": "1b6a5d00-5842-47db-80b3-88cc59c0aa43",
   "metadata": {},
   "source": [
    "#### Dictionary "
   ]
  },
  {
   "cell_type": "code",
   "execution_count": 30,
   "id": "b5ac5c3d-845d-4e5b-8c2c-f74aa3c55285",
   "metadata": {},
   "outputs": [
    {
     "name": "stdout",
     "output_type": "stream",
     "text": [
      "1\n"
     ]
    }
   ],
   "source": [
    "my_dict = {\"a\": 1, \"b\": 2}\n",
    "print(my_dict[\"a\"])"
   ]
  },
  {
   "cell_type": "markdown",
   "id": "3d1cc6d7-6cd7-4efe-96bb-26cf0353ad41",
   "metadata": {},
   "source": [
    "#### Pandas DataFrame"
   ]
  },
  {
   "cell_type": "code",
   "execution_count": 35,
   "id": "3f4b0329-2a94-4bb3-ba6f-210112da34f3",
   "metadata": {},
   "outputs": [],
   "source": [
    "import pandas as pd\n",
    "df = pd.DataFrame({'col1': [1, 2], 'col2': [3, 4]})\n",
    "df['col1'] = df['col1'].replace(1, 0)"
   ]
  },
  {
   "cell_type": "markdown",
   "id": "7f0b196a-2759-41c0-b3d2-1e472eccbf08",
   "metadata": {},
   "source": [
    "#### string operation"
   ]
  },
  {
   "cell_type": "code",
   "execution_count": 40,
   "id": "2acf25ef-b755-414a-8563-00244bd66c55",
   "metadata": {},
   "outputs": [
    {
     "data": {
      "text/plain": [
       "'hello'"
      ]
     },
     "execution_count": 40,
     "metadata": {},
     "output_type": "execute_result"
    }
   ],
   "source": [
    "my_string = \" hello \"\n",
    "clean_string = my_string.strip()\n",
    "clean_string"
   ]
  },
  {
   "cell_type": "markdown",
   "id": "bc4c348e-5f5d-42d1-bdc6-2730230bfb6d",
   "metadata": {},
   "source": [
    "#### Regular expreession"
   ]
  },
  {
   "cell_type": "code",
   "execution_count": 45,
   "id": "b7c910a8-7874-4edb-957f-6f57ea34a277",
   "metadata": {},
   "outputs": [
    {
     "ename": "NameError",
     "evalue": "name 'filename' is not defined",
     "output_type": "error",
     "traceback": [
      "\u001b[0;31m---------------------------------------------------------------------------\u001b[0m",
      "\u001b[0;31mNameError\u001b[0m                                 Traceback (most recent call last)",
      "Cell \u001b[0;32mIn[45], line 2\u001b[0m\n\u001b[1;32m      1\u001b[0m \u001b[38;5;28;01mimport\u001b[39;00m \u001b[38;5;21;01mre\u001b[39;00m\n\u001b[0;32m----> 2\u001b[0m \u001b[38;5;28;01mif\u001b[39;00m re\u001b[38;5;241m.\u001b[39mmatch(\u001b[38;5;124mr\u001b[39m\u001b[38;5;124m'\u001b[39m\u001b[38;5;124m^.+\u001b[39m\u001b[38;5;124m\\\u001b[39m\u001b[38;5;124m.(txt|csv)$\u001b[39m\u001b[38;5;124m'\u001b[39m, filename):\n\u001b[1;32m      3\u001b[0m     \u001b[38;5;28mprint\u001b[39m(\u001b[38;5;124m\"\u001b[39m\u001b[38;5;124mValid file format\u001b[39m\u001b[38;5;124m\"\u001b[39m)\n",
      "\u001b[0;31mNameError\u001b[0m: name 'filename' is not defined"
     ]
    }
   ],
   "source": [
    "import re\n",
    "if re.match(r'^.+\\.(txt|csv)$', filename):\n",
    "    print(\"Valid file format\")"
   ]
  },
  {
   "cell_type": "code",
   "execution_count": 1,
   "id": "fd1d2d92-90d2-42b1-84b2-aef5ff35376c",
   "metadata": {},
   "outputs": [
    {
     "name": "stdin",
     "output_type": "stream",
     "text": [
      " 3\n"
     ]
    }
   ],
   "source": [
    "import math\n",
    "n= int(input())\n",
    "\n",
    "def is_prime(n):\n",
    "\n",
    "    if n <= 1:\n",
    "        return False\n",
    "    if n <= 3:\n",
    "        return True\n",
    "    if n % 2 == 0 or n % 3 == 0:\n",
    "        return False\n",
    "\n",
    "    i = 5\n",
    "    while i * i <= n:\n",
    "        if n % i == 0 or n % (i + 2) == 0:\n",
    "            return False\n",
    "        i += 6\n",
    "\n",
    "    return True\n"
   ]
  },
  {
   "cell_type": "code",
   "execution_count": 1,
   "id": "b585480d-050d-40c6-a95d-b9d7ea8f9dce",
   "metadata": {},
   "outputs": [
    {
     "name": "stdout",
     "output_type": "stream",
     "text": [
      "q1: 5.0\n",
      "q2: True\n",
      "q3: 8\n",
      "q4: 7\n",
      "q5: [2, 3, 4, 5, 6, 5]\n",
      "q6: True\n",
      "f1: False\n",
      "f2: 0.42857142857142855\n",
      "f3: 0.9607689228305226\n",
      "f5: (-1, 1, 1)\n"
     ]
    }
   ],
   "source": [
    "import pandas as pd\n",
    "import random\n",
    "import math\n",
    "\n",
    "def q1(t1, t2):\n",
    "    \"\"\"\n",
    "    Calculate the Euclidean distance between two 2D points.\n",
    "    \n",
    "    Args:\n",
    "        t1 (tuple): The first point as (x, y).\n",
    "        t2 (tuple): The second point as (x, y).\n",
    "    \n",
    "    Returns:\n",
    "        float: The Euclidean distance.\n",
    "    \n",
    "    Example:\n",
    "        Input: t1 = (0, 0), t2 = (3, 4)\n",
    "        Output: 5.0\n",
    "    \"\"\"\n",
    "    a = (t2[0] - t1[0]) ** 2\n",
    "    b = (t2[1] - t1[1]) ** 2\n",
    "    return math.sqrt(a + b)\n",
    "\n",
    "\n",
    "def q2(a, b, c):\n",
    "    \"\"\"\n",
    "    Check if the three integers are all even and if the first integer is the smallest.\n",
    "    \n",
    "    Args:\n",
    "        a, b, c (int): The integers to check.\n",
    "    \n",
    "    Returns:\n",
    "        bool: True if conditions are met, otherwise False.\n",
    "    \n",
    "    Example:\n",
    "        Input: a = 2, b = 4, c = 6\n",
    "        Output: True\n",
    "    \"\"\"\n",
    "    if a < b and a < c and a % 2 == 0 and b % 2 == 0 and c % 2 == 0:\n",
    "        return True\n",
    "    return False\n",
    "\n",
    "\n",
    "def q3(list_of_integers):\n",
    "    \"\"\"\n",
    "    Find the maximum value in a list of integers using Pandas.\n",
    "    \n",
    "    Args:\n",
    "        list_of_integers (list): List of integers.\n",
    "    \n",
    "    Returns:\n",
    "        int: The maximum value.\n",
    "    \n",
    "    Example:\n",
    "        Input: list_of_integers = [3, 5, 7, 2, 8]\n",
    "        Output: 8\n",
    "    \"\"\"\n",
    "    series = pd.Series(list_of_integers)\n",
    "    return series.max()\n",
    "\n",
    "\n",
    "def q4(list_of_integers_and_strings):\n",
    "    \"\"\"\n",
    "    Find the maximum integer from a mixed list of integers and strings.\n",
    "    \n",
    "    Args:\n",
    "        list_of_integers_and_strings (list): Mixed list of integers and strings.\n",
    "    \n",
    "    Returns:\n",
    "        int: The maximum integer.\n",
    "    \n",
    "    Example:\n",
    "        Input: list_of_integers_and_strings = [1, \"apple\", 7, \"banana\", 3]\n",
    "        Output: 7\n",
    "    \"\"\"\n",
    "    integers = [i for i in list_of_integers_and_strings if isinstance(i, int)]\n",
    "    return max(integers)\n",
    "\n",
    "\n",
    "def q5(list_of_integers):\n",
    "    \"\"\"\n",
    "    Modify the list of integers by marking the primes or adding them to a result list.\n",
    "    \n",
    "    Args:\n",
    "        list_of_integers (list): List of integers.\n",
    "    \n",
    "    Returns:\n",
    "        list: Modified list with all numbers retained.\n",
    "    \n",
    "    Example:\n",
    "        Input: list_of_integers = [2, 3, 4, 5, 6, 5]\n",
    "        Output: [2, 3, 4, 5, 6, 5]\n",
    "    \"\"\"\n",
    "    result = []\n",
    "    for i in list_of_integers:\n",
    "        if i <= 2:\n",
    "            result.append(i)\n",
    "            continue\n",
    "        is_prime = True\n",
    "        for j in range(2, int(i**0.5) + 1):\n",
    "            if i % j == 0:\n",
    "                is_prime = False\n",
    "                break\n",
    "        result.append(i)\n",
    "    return result\n",
    "\n",
    "\n",
    "def q6(df, column):\n",
    "    \"\"\"\n",
    "    Check if a specified column in a Pandas DataFrame contains any missing (NaN) values.\n",
    "    \n",
    "    Args:\n",
    "        df (pd.DataFrame): The DataFrame.\n",
    "        column (str): Column name to check.\n",
    "    \n",
    "    Returns:\n",
    "        bool: True if there are missing values, otherwise False.\n",
    "    \n",
    "    Example:\n",
    "        Input: df = pd.DataFrame({'A': [1, 2, None, 4]}), column = 'A'\n",
    "        Output: True\n",
    "    \"\"\"\n",
    "    return df[column].isna().sum() > 0\n",
    "\n",
    "\n",
    "class A:\n",
    "    def __init__(self, a=None, b=None, c=None):\n",
    "        \"\"\"\n",
    "        Initialize an object with attributes `a`, `b`, and `c`. Assign random values if not provided.\n",
    "        \n",
    "        Example:\n",
    "            Input: a=None, b=None, c=None\n",
    "            Output: a=4, b=7, c=2 (randomized)\n",
    "        \"\"\"\n",
    "        self.a = a if a is not None else random.randint(1, 10)\n",
    "        self.b = b if b is not None else random.randint(1, 10)\n",
    "        self.c = c if c is not None else random.randint(1, 10)\n",
    "\n",
    "    def f1(self, other):\n",
    "        \"\"\"\n",
    "        Compare if self's attributes are all greater than other's attributes.\n",
    "        \"\"\"\n",
    "        return self.a > other.a and self.b > other.b and self.c > other.c\n",
    "\n",
    "    def f2(self, other):\n",
    "        \"\"\"\n",
    "        Calculate the probability that self.a is greater than other.a.\n",
    "        \"\"\"\n",
    "        return self.a / (self.a + other.a)\n",
    "\n",
    "    def f3(self, other):\n",
    "        \"\"\"\n",
    "        Calculate the correlation between attributes of self and other.\n",
    "        \"\"\"\n",
    "        data = pd.DataFrame({\"self\": [self.a, self.b, self.c], \"other\": [other.a, other.b, other.c]})\n",
    "        return data.corr().iloc[0, 1]\n",
    "\n",
    "    def f4(self, others):\n",
    "        \"\"\"\n",
    "        Save attributes of self and others to a CSV file.\n",
    "        \"\"\"\n",
    "        data = [[self.a, self.b, self.c]] + [[o.a, o.b, o.c] for o in others]\n",
    "        df = pd.DataFrame(data, columns=[\"a\", \"b\", \"c\"])\n",
    "        df.to_csv(\"f4_output.csv\", index=False)\n",
    "\n",
    "    def f5(self, other):\n",
    "        \"\"\"\n",
    "        Compare attributes of self and other, returning a vector of differences.\n",
    "        \"\"\"\n",
    "        x_vector = 1 if self.a > other.a else -1 if self.a < other.a else 0\n",
    "        y_vector = 1 if self.b > other.b else -1 if self.b < other.b else 0\n",
    "        z_vector = 1 if self.c > other.c else -1 if self.c < other.c else 0\n",
    "        return (x_vector, y_vector, z_vector)\n",
    "\n",
    "\n",
    "if __name__ == \"__main__\":\n",
    "    # Test cases for functions and class methods\n",
    "    print(f\"q1: {q1((0, 0), (3, 4))}\")  # Output: 5.0\n",
    "    print(f\"q2: {q2(2, 4, 6)}\")  # Output: True\n",
    "    print(f\"q3: {q3([3, 5, 7, 2, 8])}\")  # Output: 8\n",
    "    print(f\"q4: {q4([1, 'a', 7, 'b', 3])}\")  # Output: 7\n",
    "    print(f\"q5: {q5([2, 3, 4, 5, 6, 5])}\")  # Output: [2, 3, 4, 5, 6, 5]\n",
    "\n",
    "    df = pd.DataFrame({\"A\": [1, 2, None, 4], \"B\": [1, 5, 6, None]})\n",
    "    print(f\"q6: {q6(df, 'A')}\")  # Output: True\n",
    "\n",
    "    obj1 = A(3, 6, 9)\n",
    "    obj2 = A(4, 5, 8)\n",
    "    print(f\"f1: {obj1.f1(obj2)}\")  # Output: True or False based on values\n",
    "    print(f\"f2: {obj1.f2(obj2)}\")  # Output: Probability\n",
    "    print(f\"f3: {obj1.f3(obj2)}\")  # Output: Correlation\n",
    "    obj1.f4([obj2])  # Creates f4_output.csv\n",
    "    print(f\"f5: {obj1.f5(obj2)}\")  # Output: Vector of differences"
   ]
  }
 ],
 "metadata": {
  "kernelspec": {
   "display_name": "Python 3 (ipykernel)",
   "language": "python",
   "name": "python3"
  },
  "language_info": {
   "codemirror_mode": {
    "name": "ipython",
    "version": 3
   },
   "file_extension": ".py",
   "mimetype": "text/x-python",
   "name": "python",
   "nbconvert_exporter": "python",
   "pygments_lexer": "ipython3",
   "version": "3.12.4"
  }
 },
 "nbformat": 4,
 "nbformat_minor": 5
}
