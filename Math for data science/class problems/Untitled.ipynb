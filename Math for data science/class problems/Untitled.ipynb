{
 "cells": [
  {
   "cell_type": "code",
   "execution_count": 5,
   "id": "30bcdd1c-c982-4965-aa81-ca784910b3ed",
   "metadata": {},
   "outputs": [
    {
     "name": "stdout",
     "output_type": "stream",
     "text": [
      "[[4 0]\n",
      " [0 2]\n",
      " [1 1]]\n",
      "[[ 2]\n",
      " [ 0]\n",
      " [11]]\n",
      "[[4 0 1]\n",
      " [0 2 1]]\n",
      "[[1.]\n",
      " [2.]]\n"
     ]
    }
   ],
   "source": [
    "import numpy as np\n",
    "from numpy.linalg import inv\n",
    "A = np.array([[4,0],[0,2],[1,1]])\n",
    "b = np.array([[2],[0],[11]])\n",
    "print(A)\n",
    "print(b)\n",
    "At = A.T\n",
    "print(At)\n",
    "\n",
    "X = inv(At@A)@At@b\n",
    "\n",
    "print(X)"
   ]
  },
  {
   "cell_type": "code",
   "execution_count": 6,
   "id": "9196b3d0-41a7-4efe-a619-27097bd0b779",
   "metadata": {},
   "outputs": [
    {
     "name": "stdout",
     "output_type": "stream",
     "text": [
      "[[1.]\n",
      " [2.]]\n"
     ]
    }
   ],
   "source": [
    "from numpy.linalg import pinv\n",
    "x = pinv(A)@b\n",
    "print(x)"
   ]
  },
  {
   "cell_type": "code",
   "execution_count": 15,
   "id": "34b7d6ca-9df3-4bba-ac2a-6574c8858cef",
   "metadata": {},
   "outputs": [
    {
     "name": "stdout",
     "output_type": "stream",
     "text": [
      "9.16515138991168\n"
     ]
    }
   ],
   "source": [
    "from numpy.linalg import norm\n",
    "err = norm(A@x-b)\n",
    "print(err)"
   ]
  }
 ],
 "metadata": {
  "kernelspec": {
   "display_name": "Python 3 (ipykernel)",
   "language": "python",
   "name": "python3"
  },
  "language_info": {
   "codemirror_mode": {
    "name": "ipython",
    "version": 3
   },
   "file_extension": ".py",
   "mimetype": "text/x-python",
   "name": "python",
   "nbconvert_exporter": "python",
   "pygments_lexer": "ipython3",
   "version": "3.12.4"
  }
 },
 "nbformat": 4,
 "nbformat_minor": 5
}
