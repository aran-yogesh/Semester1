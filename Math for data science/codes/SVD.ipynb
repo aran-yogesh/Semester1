{
 "cells": [
  {
   "cell_type": "code",
   "execution_count": 198,
   "id": "c113b9db-b6bf-473c-a4ff-a209d4e76929",
   "metadata": {},
   "outputs": [],
   "source": [
    "import numpy as np\n",
    "import pandas as pd\n",
    "from numpy import linalg as la "
   ]
  },
  {
   "cell_type": "code",
   "execution_count": 199,
   "id": "15a6702a-6edb-43c4-af5d-862d3f44c3c0",
   "metadata": {},
   "outputs": [
    {
     "data": {
      "text/plain": [
       "array([[ 6, -3, -3,  0],\n",
       "       [ 0, -3, -3,  6]])"
      ]
     },
     "execution_count": 199,
     "metadata": {},
     "output_type": "execute_result"
    }
   ],
   "source": [
    "A = np.array([[6,-3,-3,0],[0,-3,-3,6]])\n",
    "A"
   ]
  },
  {
   "cell_type": "code",
   "execution_count": 200,
   "id": "b22c8005-4f19-49fe-bf45-e33258418d04",
   "metadata": {},
   "outputs": [
    {
     "data": {
      "text/plain": [
       "array([[ 36, -18, -18,   0],\n",
       "       [-18,  18,  18, -18],\n",
       "       [-18,  18,  18, -18],\n",
       "       [  0, -18, -18,  36]])"
      ]
     },
     "execution_count": 200,
     "metadata": {},
     "output_type": "execute_result"
    }
   ],
   "source": [
    "result = np.dot(A.T, A)\n",
    "result"
   ]
  },
  {
   "cell_type": "code",
   "execution_count": 201,
   "id": "898f8d48-f8de-45c6-a843-a308304207a6",
   "metadata": {},
   "outputs": [
    {
     "name": "stdout",
     "output_type": "stream",
     "text": [
      "[7.10542736e-15 3.60000000e+01 7.20000000e+01 0.00000000e+00]\n",
      "[[ 5.00000000e-01  7.07106781e-01 -5.00000000e-01  3.12807954e-02]\n",
      " [ 5.00000000e-01 -1.55901856e-16  5.00000000e-01  7.37002429e-01]\n",
      " [ 5.00000000e-01 -3.05195810e-16  5.00000000e-01 -6.74440838e-01]\n",
      " [ 5.00000000e-01 -7.07106781e-01 -5.00000000e-01  3.12807954e-02]]\n"
     ]
    }
   ],
   "source": [
    "l, ev = la.eig(result)\n",
    "print(l)\n",
    "print(ev)"
   ]
  },
  {
   "cell_type": "markdown",
   "id": "276e992e-c304-4fc7-933e-8f8a792ec08a",
   "metadata": {},
   "source": [
    "### SVD code"
   ]
  },
  {
   "cell_type": "code",
   "execution_count": 203,
   "id": "34caa49b-b333-4147-88e0-6d61986244f1",
   "metadata": {
    "scrolled": true
   },
   "outputs": [
    {
     "name": "stdout",
     "output_type": "stream",
     "text": [
      "U:\n",
      "[[-0.70710678 -0.70710678]\n",
      " [-0.70710678  0.70710678]]\n",
      "(2, 2)\n",
      "S:\n",
      "[8.48528137 6.        ]\n",
      "(2,)\n",
      "VT:\n",
      "[[-5.00000000e-01 -7.07106781e-01  2.26209191e-01  4.45902906e-01]\n",
      " [ 5.00000000e-01  1.81592985e-16 -4.04392746e-01  7.65811012e-01]\n",
      " [ 5.00000000e-01  1.36268319e-16  8.56811129e-01  1.25994800e-01]\n",
      " [-5.00000000e-01  7.07106781e-01  2.26209191e-01  4.45902906e-01]]\n",
      "(4, 4)\n"
     ]
    }
   ],
   "source": [
    "\n",
    "U,S,VT = np.linalg.svd(A)\n",
    "\n",
    "print(\"U:\")\n",
    "print(U)\n",
    "print(U.shape)\n",
    "\n",
    "print(\"S:\")\n",
    "print(S)\n",
    "print(S.shape)\n",
    "\n",
    "print(\"VT:\")\n",
    "print(VT.T)\n",
    "print(VT.shape)"
   ]
  }
 ],
 "metadata": {
  "kernelspec": {
   "display_name": "Python 3 (ipykernel)",
   "language": "python",
   "name": "python3"
  },
  "language_info": {
   "codemirror_mode": {
    "name": "ipython",
    "version": 3
   },
   "file_extension": ".py",
   "mimetype": "text/x-python",
   "name": "python",
   "nbconvert_exporter": "python",
   "pygments_lexer": "ipython3",
   "version": "3.12.4"
  }
 },
 "nbformat": 4,
 "nbformat_minor": 5
}
