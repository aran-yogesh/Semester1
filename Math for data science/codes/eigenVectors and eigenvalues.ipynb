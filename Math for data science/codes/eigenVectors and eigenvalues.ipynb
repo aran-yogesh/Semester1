{
 "cells": [
  {
   "cell_type": "code",
   "execution_count": 3,
   "id": "933b13b7-de72-4f90-9b7a-275df14aae93",
   "metadata": {},
   "outputs": [],
   "source": [
    "import numpy as  np \n",
    "from numpy import linalg as LA\n"
   ]
  },
  {
   "cell_type": "markdown",
   "id": "95fbb442-cbfc-4d1d-8847-14ea87a605ba",
   "metadata": {},
   "source": [
    "## eigen vectors"
   ]
  },
  {
   "cell_type": "code",
   "execution_count": 5,
   "id": "a872ef68-e732-4ec2-a9a8-223e7c44ea4c",
   "metadata": {},
   "outputs": [],
   "source": [
    "A = np.array([[1,1,-1,0],[0,5,0,-1],[-1,-3,2,0],[-2,2,0,3]])\n",
    "Lambda = 3\n"
   ]
  },
  {
   "cell_type": "markdown",
   "id": "ca3de839-dd41-4562-a04b-ed675d7f52c5",
   "metadata": {},
   "source": [
    "## eigen Pairs\n"
   ]
  },
  {
   "cell_type": "code",
   "execution_count": 7,
   "id": "65c50598-83fa-490d-8ee9-8e53f079da67",
   "metadata": {},
   "outputs": [
    {
     "ename": "NameError",
     "evalue": "name 'u' is not defined",
     "output_type": "error",
     "traceback": [
      "\u001b[0;31m---------------------------------------------------------------------------\u001b[0m",
      "\u001b[0;31mNameError\u001b[0m                                 Traceback (most recent call last)",
      "Cell \u001b[0;32mIn[7], line 5\u001b[0m\n\u001b[1;32m      2\u001b[0m Lambda \u001b[38;5;241m=\u001b[39m \u001b[38;5;241m3\u001b[39m\n\u001b[1;32m      3\u001b[0m \u001b[38;5;66;03m#u = np.array([[4],[1],[-7],[0]])\u001b[39;00m\n\u001b[0;32m----> 5\u001b[0m eigen_value \u001b[38;5;241m=\u001b[39m Lambda \u001b[38;5;241m*\u001b[39m u\n\u001b[1;32m      7\u001b[0m \u001b[38;5;66;03m#print(A@u)\u001b[39;00m\n\u001b[1;32m      9\u001b[0m \u001b[38;5;28mprint\u001b[39m(eigen_value)\n",
      "\u001b[0;31mNameError\u001b[0m: name 'u' is not defined"
     ]
    }
   ],
   "source": [
    "A = np.array([[11,-20],[4,-7]])\n",
    "Lambda = 3\n",
    "u = np.array([[4],[1],[-7],[0]])\n",
    "\n",
    "eigen_value = Lambda * u\n",
    "\n",
    "#print(A@u)\n",
    "\n",
    "print(eigen_value)"
   ]
  },
  {
   "cell_type": "code",
   "execution_count": 10,
   "id": "87ce2805-19f5-4510-be9f-ee430a28d323",
   "metadata": {},
   "outputs": [
    {
     "name": "stdout",
     "output_type": "stream",
     "text": [
      "[[ 3  0 -1]\n",
      " [ 2  3  1]\n",
      " [-3  4  5]]\n",
      "Eigen values are: [0.62771868 4.         6.37228132]\n",
      "eigen vectors are: [ 0.3158391  -0.58211367  0.74925919] and [-0.57735027 -0.57735027  0.57735027]\n"
     ]
    }
   ],
   "source": [
    "A = np.array([[3,0,-1],[2,3,1],[-3,4,5]])\n",
    "print(A)\n",
    "\n",
    "l, ev = LA.eig(A)\n",
    "print('Eigen values are:', l )\n",
    "print('eigen vectors are:', ev[:,0],'and',ev[:,1])"
   ]
  }
 ],
 "metadata": {
  "kernelspec": {
   "display_name": "Python 3 (ipykernel)",
   "language": "python",
   "name": "python3"
  },
  "language_info": {
   "codemirror_mode": {
    "name": "ipython",
    "version": 3
   },
   "file_extension": ".py",
   "mimetype": "text/x-python",
   "name": "python",
   "nbconvert_exporter": "python",
   "pygments_lexer": "ipython3",
   "version": "3.12.4"
  }
 },
 "nbformat": 4,
 "nbformat_minor": 5
}
