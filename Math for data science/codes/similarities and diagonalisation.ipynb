{
 "cells": [
  {
   "cell_type": "markdown",
   "id": "bf836a47-ec6a-4f01-bd46-f2bd2b6956c7",
   "metadata": {},
   "source": [
    "### The Diagonalization Theorem\n",
    "An nxn matrix A is diagonalizable if and only if A has n\n",
    "linearly independent eigenvectors.\n",
    "\n",
    "If the above holds, we can write A=PDP-1 where D is a\n",
    "diagonal matrix. The diagonal entries of D are\n",
    "eigenvalues of A that correspond, respectively, to the\n",
    "eigenvectors in P."
   ]
  },
  {
   "cell_type": "code",
   "execution_count": 3,
   "id": "1f2611f8-d52d-4d09-9532-3e62b60e82b1",
   "metadata": {},
   "outputs": [
    {
     "data": {
      "text/plain": [
       "array([[ 1,  0],\n",
       "       [ 6, -1]])"
      ]
     },
     "execution_count": 3,
     "metadata": {},
     "output_type": "execute_result"
    }
   ],
   "source": [
    "import numpy as np \n",
    "from numpy import linalg\n",
    "A = np.array([[1,0],[6,-1]])\n",
    "A"
   ]
  },
  {
   "cell_type": "code",
   "execution_count": 5,
   "id": "d41abe88-6d0c-4053-9276-b6fc9f96ccaa",
   "metadata": {},
   "outputs": [
    {
     "data": {
      "text/plain": [
       "-1.0"
      ]
     },
     "execution_count": 5,
     "metadata": {},
     "output_type": "execute_result"
    }
   ],
   "source": [
    "detA = linalg.det(A)\n",
    "detA"
   ]
  },
  {
   "cell_type": "markdown",
   "id": "6ffec6b3-0e93-4bef-aec9-b9bbe40441f0",
   "metadata": {},
   "source": [
    "First find the eigen value and eigen vectors "
   ]
  },
  {
   "cell_type": "code",
   "execution_count": 7,
   "id": "3855fdfe-4ac7-42d0-b0be-e1ce81e2d77c",
   "metadata": {},
   "outputs": [
    {
     "data": {
      "text/plain": [
       "array([-1.,  1.])"
      ]
     },
     "execution_count": 7,
     "metadata": {},
     "output_type": "execute_result"
    }
   ],
   "source": [
    "l , ev  = linalg.eig(A)\n",
    "l"
   ]
  },
  {
   "cell_type": "code",
   "execution_count": 9,
   "id": "c8f2fc97-ad92-49ff-be47-0185026723fc",
   "metadata": {},
   "outputs": [
    {
     "data": {
      "text/plain": [
       "array([[0.        , 0.31622777],\n",
       "       [1.        , 0.9486833 ]])"
      ]
     },
     "execution_count": 9,
     "metadata": {},
     "output_type": "execute_result"
    }
   ],
   "source": [
    "ev"
   ]
  },
  {
   "cell_type": "markdown",
   "id": "cbdcb451-f018-40fa-8ba7-b4c9d8464bf2",
   "metadata": {},
   "source": [
    "We are reducing it to the echelon form just to check if it is dependent or independent"
   ]
  },
  {
   "cell_type": "code",
   "execution_count": 107,
   "id": "ed61d5c5-2982-471d-86f6-31fd63c6e5ec",
   "metadata": {},
   "outputs": [
    {
     "data": {
      "text/latex": [
       "$\\displaystyle \\left[\\begin{matrix}1 & 0\\\\0 & 1\\end{matrix}\\right]$"
      ],
      "text/plain": [
       "Matrix([\n",
       "[1, 0],\n",
       "[0, 1]])"
      ]
     },
     "execution_count": 107,
     "metadata": {},
     "output_type": "execute_result"
    }
   ],
   "source": [
    "import sympy as sp \n",
    "rref_M, pivot_cols = sp.Matrix(ev).rref()\n",
    "rref_M"
   ]
  },
  {
   "cell_type": "code",
   "execution_count": 25,
   "id": "14972dba-ccac-4340-8860-3aa1d0f7a9bd",
   "metadata": {},
   "outputs": [
    {
     "data": {
      "text/plain": [
       "(0, 1, 2)"
      ]
     },
     "execution_count": 25,
     "metadata": {},
     "output_type": "execute_result"
    }
   ],
   "source": [
    "pivot_cols"
   ]
  },
  {
   "cell_type": "markdown",
   "id": "477bf82c-d994-438e-9c49-a95cb33e2db4",
   "metadata": {},
   "source": [
    "If when reduced into a echelon form if it has a coloumn of zeros then we can say thats its not linearly independent \n",
    "\n",
    "Now, that we know that eigenvectors are linearly independent we know, we can\n",
    "diagonalize the matrix A. Let’s form D and P.\n",
    "\n",
    "Pivot voloumns"
   ]
  },
  {
   "cell_type": "code",
   "execution_count": 11,
   "id": "03bf5a3a-8903-4226-a6f7-071199a4a936",
   "metadata": {},
   "outputs": [
    {
     "data": {
      "text/plain": [
       "array([[-1.,  0.],\n",
       "       [ 0.,  1.]])"
      ]
     },
     "execution_count": 11,
     "metadata": {},
     "output_type": "execute_result"
    }
   ],
   "source": [
    "D = np.diag(l)\n",
    "D"
   ]
  },
  {
   "cell_type": "markdown",
   "id": "20b3d2b2-59d2-4d08-8c5a-36ca4243fa0e",
   "metadata": {},
   "source": [
    "The main diagonal 1, -2 , - 2 are the iegen values "
   ]
  },
  {
   "cell_type": "code",
   "execution_count": 13,
   "id": "b5d10a27-3001-4b9a-b8d7-187ef540dc61",
   "metadata": {},
   "outputs": [
    {
     "data": {
      "text/plain": [
       "array([[0.        , 0.31622777],\n",
       "       [1.        , 0.9486833 ]])"
      ]
     },
     "execution_count": 13,
     "metadata": {},
     "output_type": "execute_result"
    }
   ],
   "source": [
    "P = abs(ev)\n",
    "P"
   ]
  },
  {
   "cell_type": "markdown",
   "id": "4d8d9699-4f61-438e-a3c7-8b49a2e53c1c",
   "metadata": {},
   "source": [
    "The eigen values D should be corresponding to the eigen vector P "
   ]
  },
  {
   "cell_type": "code",
   "execution_count": 15,
   "id": "539b7811-1c8f-40e0-b192-69c951a9b286",
   "metadata": {},
   "outputs": [
    {
     "name": "stdout",
     "output_type": "stream",
     "text": [
      "[[3 2]\n",
      " [1 1]]\n"
     ]
    },
    {
     "data": {
      "text/plain": [
       "array([[ 1., -2.],\n",
       "       [-1.,  3.]])"
      ]
     },
     "execution_count": 15,
     "metadata": {},
     "output_type": "execute_result"
    }
   ],
   "source": [
    "ev = np.array([[3,2],[1,1]])\n",
    "P_inv = linalg.inv(ev)\n",
    "print(ev)\n",
    "P_inv"
   ]
  },
  {
   "cell_type": "code",
   "execution_count": 17,
   "id": "9865b0b0-3fa5-4c70-83c4-3d380012a54d",
   "metadata": {},
   "outputs": [
    {
     "data": {
      "text/plain": [
       "array([[-0.31622777,  0.9486833 ],\n",
       "       [-1.9486833 ,  4.84604989]])"
      ]
     },
     "execution_count": 17,
     "metadata": {},
     "output_type": "execute_result"
    }
   ],
   "source": [
    "P@D@P_inv"
   ]
  },
  {
   "cell_type": "markdown",
   "id": "5c2d3308-713e-48f6-91c5-d6e08f0aa50c",
   "metadata": {},
   "source": [
    "### B =M^-1 AM"
   ]
  },
  {
   "cell_type": "code",
   "execution_count": 49,
   "id": "3c49a611-4d28-4940-97a1-0e50268e887c",
   "metadata": {},
   "outputs": [
    {
     "data": {
      "text/plain": [
       "array([[6.00000000e+00, 2.22044605e-16, 0.00000000e+00, 0.00000000e+00],\n",
       "       [2.22044605e-16, 3.00000000e+00, 0.00000000e+00, 0.00000000e+00],\n",
       "       [0.00000000e+00, 0.00000000e+00, 5.40000000e+00, 8.00000000e-01],\n",
       "       [0.00000000e+00, 0.00000000e+00, 7.20000000e+00, 4.40000000e+00]])"
      ]
     },
     "execution_count": 49,
     "metadata": {},
     "output_type": "execute_result"
    }
   ],
   "source": [
    "A = np.array([[-3,-2,0,0],[-3,4,0,0],[0,0,-5,-4],[0,0,-2,2]])\n",
    "M = np.array([[0,0,1,2],[0,0,3,1],[4,-1,0,0],[1,2,0,0]])\n",
    "M_inv = linalg.inv(M)\n",
    "B = abs(M_inv@A@M)\n",
    "B"
   ]
  },
  {
   "cell_type": "code",
   "execution_count": 137,
   "id": "02e9a57c-0e12-431f-b478-a873bfbb164d",
   "metadata": {},
   "outputs": [
    {
     "data": {
      "text/plain": [
       "array([[2.00000000e+00, 2.22044605e-16],\n",
       "       [0.00000000e+00, 1.00000000e+00]])"
      ]
     },
     "execution_count": 137,
     "metadata": {},
     "output_type": "execute_result"
    }
   ],
   "source": [
    "p = np.array([[3,1],[2,1]])\n",
    "D = np.array([[4,-3],[2,-1]])\n",
    "p_inv = linalg.inv(p)\n",
    "\n",
    "A = p_inv@D@p\n",
    "A"
   ]
  },
  {
   "cell_type": "markdown",
   "id": "d1fe1e12-7d1b-4a65-a714-9433c29c65f8",
   "metadata": {},
   "source": [
    "### Principal Component Analysis"
   ]
  },
  {
   "cell_type": "code",
   "execution_count": null,
   "id": "b9dab7ac-ccfe-4929-b4fa-518eba8a4689",
   "metadata": {},
   "outputs": [],
   "source": []
  }
 ],
 "metadata": {
  "kernelspec": {
   "display_name": "Python 3 (ipykernel)",
   "language": "python",
   "name": "python3"
  },
  "language_info": {
   "codemirror_mode": {
    "name": "ipython",
    "version": 3
   },
   "file_extension": ".py",
   "mimetype": "text/x-python",
   "name": "python",
   "nbconvert_exporter": "python",
   "pygments_lexer": "ipython3",
   "version": "3.12.4"
  }
 },
 "nbformat": 4,
 "nbformat_minor": 5
}
