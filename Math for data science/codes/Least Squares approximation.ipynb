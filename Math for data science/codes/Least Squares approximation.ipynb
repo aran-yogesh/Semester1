{
 "cells": [
  {
   "cell_type": "markdown",
   "id": "1de717f6-f5c7-4593-8355-a4d8e03c1b39",
   "metadata": {},
   "source": [
    "# Application: Least-squares approximation"
   ]
  },
  {
   "cell_type": "markdown",
   "id": "bc1f070a-c6e8-4926-856c-ac99cc0693e7",
   "metadata": {},
   "source": [
    "### THE GENREAL LEAST-SQUARES PROBLEM"
   ]
  },
  {
   "cell_type": "code",
   "execution_count": 7,
   "id": "1722841c-218f-490a-ba18-4046ef0b675d",
   "metadata": {},
   "outputs": [
    {
     "name": "stdout",
     "output_type": "stream",
     "text": [
      "[[ 6  7]\n",
      " [-1 -1]]\n",
      "[[-3]\n",
      " [ 1]]\n",
      "[[-4.]\n",
      " [ 3.]]\n"
     ]
    }
   ],
   "source": [
    "import numpy as np\n",
    "from numpy.linalg import inv\n",
    "A = np.array([[6,7],[-1,-1]])\n",
    "b = np.array([[-3],[1]])\n",
    "\n",
    "print(A)\n",
    "print(b)\n",
    "\n",
    "x = inv(A.T@A)@A.T@b\n",
    "print(x)"
   ]
  },
  {
   "cell_type": "markdown",
   "id": "565761ae-a0f9-4521-a441-7a5c9648759c",
   "metadata": {},
   "source": [
    "### OR "
   ]
  },
  {
   "cell_type": "code",
   "execution_count": 11,
   "id": "7fe24719-6619-4022-aeec-553188e9341a",
   "metadata": {},
   "outputs": [
    {
     "name": "stdout",
     "output_type": "stream",
     "text": [
      "[[-4.]\n",
      " [ 3.]]\n"
     ]
    },
    {
     "ename": "NameError",
     "evalue": "name 'norm' is not defined",
     "output_type": "error",
     "traceback": [
      "\u001b[0;31m---------------------------------------------------------------------------\u001b[0m",
      "\u001b[0;31mNameError\u001b[0m                                 Traceback (most recent call last)",
      "Cell \u001b[0;32mIn[11], line 5\u001b[0m\n\u001b[1;32m      2\u001b[0m x \u001b[38;5;241m=\u001b[39m pinv(A)\u001b[38;5;129m@b\u001b[39m\n\u001b[1;32m      3\u001b[0m \u001b[38;5;28mprint\u001b[39m(x)\n\u001b[0;32m----> 5\u001b[0m err \u001b[38;5;241m=\u001b[39m norm(A\u001b[38;5;129m@x\u001b[39m \u001b[38;5;241m-\u001b[39m b)\n\u001b[1;32m      6\u001b[0m \u001b[38;5;28mprint\u001b[39m(err)\n",
      "\u001b[0;31mNameError\u001b[0m: name 'norm' is not defined"
     ]
    }
   ],
   "source": [
    "from numpy.linalg as pinv\n",
    "x = pinv(A)@b\n",
    "print(x)\n",
    "\n",
    "err = norm(A@x - b)\n",
    "print(err)"
   ]
  },
  {
   "cell_type": "markdown",
   "id": "674d585f-54a8-4b97-ac04-d1dc57dc34a9",
   "metadata": {},
   "source": [
    "## Finding a least-squares solution.\n"
   ]
  },
  {
   "cell_type": "code",
   "execution_count": 40,
   "id": "047c320a-45f8-4ea3-9099-143835334ade",
   "metadata": {},
   "outputs": [
    {
     "name": "stdout",
     "output_type": "stream",
     "text": [
      "Matrix A [[ 1 12]\n",
      " [ 1 20]\n",
      " [ 1 22]\n",
      " [ 1  6]]\n",
      "Matrix B [[307. ]\n",
      " [445.6]\n",
      " [485.2]\n",
      " [184.6]]\n",
      "ATA =  [[   4   60]\n",
      " [  60 1064]]\n",
      "ATb =  [[ 1422.4]\n",
      " [24378. ]]\n",
      "Solution: Matrix([[77.3682926829268], [18.5487804878049]])\n"
     ]
    }
   ],
   "source": [
    "import numpy as np\n",
    "import sympy\n",
    "from numpy.linalg import inv\n",
    "import matplotlib.pyplot as plt\n",
    "A = np.array([[1,12],[1,20],[1,22],[1,6]])\n",
    "b = np.array([[307],[445.6],[485.2],[184.6]])\n",
    "\n",
    "print('Matrix A',A)\n",
    "print('Matrix B',b)\n",
    "\n",
    "ATA = A.T @ A\n",
    "ATb = A.T @ b \n",
    "\n",
    "print('ATA = ',ATA)\n",
    "print('ATb = ',ATb)\n",
    "\n",
    "#ATA = np.array([[4,48],[48,774]])\n",
    "#ATb = np.array([[491.5],[6898.0]])\n",
    "\n",
    "# Create an augmented matrix\n",
    "augmented_matrix = np.hstack((ATA, ATb))\n",
    "\n",
    "# Find the reduced row echelon form\n",
    "rref = sympy.Matrix(augmented_matrix).rref()[0]\n",
    "\n",
    "# Extract the solution from the reduced row echelon form\n",
    "solution = rref[:, -1]\n",
    "\n",
    "print(\"Solution:\", solution)\n",
    "\n",
    "\n"
   ]
  },
  {
   "cell_type": "markdown",
   "id": "68d2038a-1f27-4547-b844-c45b99d7df0c",
   "metadata": {},
   "source": [
    "## Finding a least-squares approximation to a quadratic."
   ]
  },
  {
   "cell_type": "code",
   "execution_count": null,
   "id": "fe76ae48-77b3-4e3e-b95d-20a0a47e2d13",
   "metadata": {},
   "outputs": [],
   "source": []
  }
 ],
 "metadata": {
  "kernelspec": {
   "display_name": "Python 3 (ipykernel)",
   "language": "python",
   "name": "python3"
  },
  "language_info": {
   "codemirror_mode": {
    "name": "ipython",
    "version": 3
   },
   "file_extension": ".py",
   "mimetype": "text/x-python",
   "name": "python",
   "nbconvert_exporter": "python",
   "pygments_lexer": "ipython3",
   "version": "3.12.4"
  }
 },
 "nbformat": 4,
 "nbformat_minor": 5
}
