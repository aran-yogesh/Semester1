{
 "cells": [
  {
   "cell_type": "code",
   "execution_count": 1,
   "id": "216c7a7a-c50f-42f5-9e39-c4a5434ef508",
   "metadata": {},
   "outputs": [],
   "source": [
    "import numpy as np \n",
    "from numpy import linalg\n"
   ]
  },
  {
   "cell_type": "code",
   "execution_count": 2,
   "id": "d2977a23-bd4c-4647-912f-279f42c339b3",
   "metadata": {},
   "outputs": [
    {
     "name": "stdout",
     "output_type": "stream",
     "text": [
      "[[ 0.27 -0.35 -0.51]\n",
      " [39.05 19.64 48.5 ]]\n"
     ]
    },
    {
     "data": {
      "text/plain": [
       "(2, 3)"
      ]
     },
     "execution_count": 2,
     "metadata": {},
     "output_type": "execute_result"
    }
   ],
   "source": [
    "X = np.array([[0.27,-0.35,-0.51],[39.05,19.64,48.5]])\n",
    "print(X)\n",
    "X.shape"
   ]
  },
  {
   "cell_type": "code",
   "execution_count": 3,
   "id": "4e8ac6f5-4720-42ea-bcac-9c20f3e6acec",
   "metadata": {},
   "outputs": [
    {
     "name": "stdout",
     "output_type": "stream",
     "text": [
      "[-0.19666667 35.73      ]\n"
     ]
    },
    {
     "data": {
      "text/plain": [
       "array([[  0.46666667,  -0.15333333,  -0.31333333],\n",
       "       [  3.32      , -16.09      ,  12.77      ]])"
      ]
     },
     "execution_count": 3,
     "metadata": {},
     "output_type": "execute_result"
    }
   ],
   "source": [
    "m = X.mean(axis = 1)\n",
    "print(m)\n",
    "B = X - m.reshape(2,1)\n",
    "B"
   ]
  },
  {
   "cell_type": "code",
   "execution_count": 16,
   "id": "f8997356-0478-4e92-a3f5-a513b6279d54",
   "metadata": {},
   "outputs": [
    {
     "data": {
      "text/plain": [
       "array([[1.69733333e-01, 7.60000000e-03],\n",
       "       [7.60000000e-03, 2.16491700e+02]])"
      ]
     },
     "execution_count": 16,
     "metadata": {},
     "output_type": "execute_result"
    }
   ],
   "source": [
    "S = (B@B.T)/(X.shape[1]-1)\n",
    "S"
   ]
  },
  {
   "cell_type": "code",
   "execution_count": 18,
   "id": "de3cc18f-8b6e-4e59-a823-2f8c768240ed",
   "metadata": {},
   "outputs": [
    {
     "data": {
      "text/plain": [
       "216.66143333333332"
      ]
     },
     "execution_count": 18,
     "metadata": {},
     "output_type": "execute_result"
    }
   ],
   "source": [
    "S.trace()"
   ]
  },
  {
   "cell_type": "code",
   "execution_count": 22,
   "id": "85303a57-28af-4b7c-b9ce-ca41bcde2fe6",
   "metadata": {},
   "outputs": [
    {
     "data": {
      "text/plain": [
       "8782.873558911875"
      ]
     },
     "execution_count": 22,
     "metadata": {},
     "output_type": "execute_result"
    }
   ],
   "source": [
    "tv =  np.var(S)\n",
    "tv"
   ]
  },
  {
   "cell_type": "code",
   "execution_count": 5,
   "id": "5ae1344a-f4b6-4478-bc63-9674fc8b65f1",
   "metadata": {},
   "outputs": [
    {
     "name": "stdout",
     "output_type": "stream",
     "text": [
      "[1.69733066e-01 2.16491700e+02]\n",
      "[[-9.99999999e-01 -3.51328166e-05]\n",
      " [ 3.51328166e-05 -9.99999999e-01]]\n"
     ]
    },
    {
     "data": {
      "text/plain": [
       "array([[-1.69733066e-01,  5.96320069e-06],\n",
       "       [-7.60596321e-03, -2.16491700e+02]])"
      ]
     },
     "execution_count": 5,
     "metadata": {},
     "output_type": "execute_result"
    }
   ],
   "source": [
    "\n",
    "l,p = linalg.eig(S)\n",
    "print(l)\n",
    "print(p)\n",
    "D= p.T @S\n",
    "D\n"
   ]
  },
  {
   "cell_type": "code",
   "execution_count": 6,
   "id": "25085b67-11ad-411f-8022-024751b22d2a",
   "metadata": {},
   "outputs": [
    {
     "name": "stdout",
     "output_type": "stream",
     "text": [
      "[[-0.96  0.26]\n",
      " [ 0.26  0.96]]\n",
      "[[ 8  9 11]\n",
      " [30 34 41]]\n"
     ]
    },
    {
     "data": {
      "text/plain": [
       "array([[ 9.8938,  5.4424, 13.0996],\n",
       "       [37.5582, 18.7634, 46.4274]])"
      ]
     },
     "execution_count": 6,
     "metadata": {},
     "output_type": "execute_result"
    }
   ],
   "source": [
    "p = np.array([[-0.96,0.26],[0.26,0.96]])\n",
    "x = np.array([[8,9,11],[30,34,41]])\n",
    "y = p @ X\n",
    "print(p)\n",
    "print(x)\n",
    "y"
   ]
  },
  {
   "cell_type": "code",
   "execution_count": 7,
   "id": "2f33e911-c557-4ca0-99fb-074964398e59",
   "metadata": {},
   "outputs": [
    {
     "data": {
      "text/plain": [
       "array([[  0.4152    ,  -4.0362    ,   3.621     ],\n",
       "       [  3.30853333, -15.48626667,  12.17773333]])"
      ]
     },
     "execution_count": 7,
     "metadata": {},
     "output_type": "execute_result"
    }
   ],
   "source": [
    "Y = p.T @ B\n",
    "Y \n"
   ]
  }
 ],
 "metadata": {
  "kernelspec": {
   "display_name": "Python 3 (ipykernel)",
   "language": "python",
   "name": "python3"
  },
  "language_info": {
   "codemirror_mode": {
    "name": "ipython",
    "version": 3
   },
   "file_extension": ".py",
   "mimetype": "text/x-python",
   "name": "python",
   "nbconvert_exporter": "python",
   "pygments_lexer": "ipython3",
   "version": "3.12.4"
  }
 },
 "nbformat": 4,
 "nbformat_minor": 5
}
