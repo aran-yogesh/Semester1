{
 "cells": [
  {
   "cell_type": "markdown",
   "id": "168fb0ea-3361-42b4-b3fc-ba37e23745f2",
   "metadata": {},
   "source": [
    "vector operations"
   ]
  },
  {
   "cell_type": "code",
   "execution_count": 34,
   "id": "e80db3f5-0e21-4d14-8d89-02db22f15c17",
   "metadata": {},
   "outputs": [
    {
     "name": "stdout",
     "output_type": "stream",
     "text": [
      "(3, 1)\n",
      "[[ 84]\n",
      " [-62]\n",
      " [  7]]\n"
     ]
    }
   ],
   "source": [
    "import numpy as np \n",
    "u = np.array([[5],[-9],[2]])\n",
    "print(u.shape)\n",
    "\n",
    "v = np.array([[8],[-5],[-6]])\n",
    "k = np.array([[9],[1],[7]])\n",
    "\n",
    "print(5*u+4*v+3*k)\n"
   ]
  },
  {
   "cell_type": "markdown",
   "id": "bd35950c",
   "metadata": {},
   "source": [
    "Matrix Multiplication"
   ]
  },
  {
   "cell_type": "code",
   "execution_count": 15,
   "id": "67f10585-ce07-4c30-a964-cd00258edc58",
   "metadata": {},
   "outputs": [
    {
     "name": "stdout",
     "output_type": "stream",
     "text": [
      "A=\n",
      " [[-5  3 -4]\n",
      " [-5  2 -1]\n",
      " [ 5 -1  3]] \n",
      " B=\n",
      " [[ 3]\n",
      " [ 2]\n",
      " [-1]]\n",
      "[[ -5]\n",
      " [-10]\n",
      " [ 10]]\n"
     ]
    }
   ],
   "source": [
    "import numpy as np\n",
    "A = np.array([[-5,3,-4],[-5,2,-1],[5,-1,3]])\n",
    "B = np.array([[3],[2],[-1]])\n",
    "\n",
    "print('A=\\n' ,A, '\\n' , 'B=\\n',B) \n",
    "\n",
    "print(A@B)"
   ]
  },
  {
   "cell_type": "code",
   "execution_count": 26,
   "id": "9875c512-2f3c-4a52-8601-ae5748bcf45d",
   "metadata": {},
   "outputs": [
    {
     "name": "stdout",
     "output_type": "stream",
     "text": [
      "A=\n",
      " [[1 2 3]\n",
      " [1 0 1]\n",
      " [4 1 2]\n",
      " [2 3 0]\n",
      " [5 2 4]\n",
      " [0 2 5]] \n",
      " B=\n",
      " [[2 1 2]\n",
      " [1 3 0]\n",
      " [2 0 5]]\n",
      "A_Transpose=\n",
      " [[1 1 4 2 5 0]\n",
      " [2 0 1 3 2 2]\n",
      " [3 1 2 0 4 5]]\n",
      "B_Transpose=\n",
      " [[2 1 2]\n",
      " [1 3 0]\n",
      " [2 0 5]]\n",
      "shapes of A and B matrix (6, 3) (3, 3)\n",
      "shapes of A and B matrix (3, 6) (3, 3)\n"
     ]
    }
   ],
   "source": [
    "import numpy as np\n",
    "A = np.array([[1,2,3],[1,0,1],[4,1,2],[2,3,0],[5,2,4],[0,2,5]])\n",
    "B = np.array([[2,1,2],[1,3,0],[2,0,5]])\n",
    "\n",
    "AT = A.T\n",
    "BT = B.T\n",
    "\n",
    "print('A=\\n' ,A, '\\n' , 'B=\\n',B) \n",
    "print('A_Transpose=\\n',AT)\n",
    "print('B_Transpose=\\n',BT)\n",
    "print('shapes of A and B matrix',A.shape,B.shape)\n",
    "print('shapes of A and B matrix',AT.shape,BT.shape)\n",
    "\n",
    "Products = [    (A, A), (A, AT), (A, B), (A, BT),\n",
    "    (AT, A), (AT, AT), (AT, B), (AT, BT),\n",
    "    (B, A), (B, AT), (B, B), (B, BT),\n",
    "    (BT, A), (BT, AT), (BT, B), (BT, BT)\n",
    "]\n",
    "for i , j in \n",
    "\n",
    "\n"
   ]
  },
  {
   "cell_type": "markdown",
   "id": "1f64dedb-914a-4893-974b-59ab02e947ba",
   "metadata": {},
   "source": [
    "Dot Product"
   ]
  },
  {
   "cell_type": "code",
   "execution_count": 43,
   "id": "c7921787-8178-4c14-a026-a7598feeffb0",
   "metadata": {},
   "outputs": [
    {
     "name": "stdout",
     "output_type": "stream",
     "text": [
      "19\n"
     ]
    }
   ],
   "source": [
    "import numpy as np \n",
    "from numpy.linalg import norm \n",
    "u = np.array([5,-5,6])\n",
    "v = np.array([-2,-7,-1])\n",
    "print(np.dot(u,v))\n"
   ]
  },
  {
   "cell_type": "markdown",
   "id": "147e7f3a-b200-474c-8ca4-144e5a3b5131",
   "metadata": {},
   "source": [
    "lenght of the vector"
   ]
  },
  {
   "cell_type": "code",
   "execution_count": 5,
   "id": "96d6e409-f589-4d3c-8b58-ad50f0d75ce8",
   "metadata": {},
   "outputs": [
    {
     "data": {
      "text/plain": [
       "5.0990195135927845"
      ]
     },
     "execution_count": 5,
     "metadata": {},
     "output_type": "execute_result"
    }
   ],
   "source": [
    "import math \n",
    "u = [1,-3,4]\n",
    "math.sqrt(np.dot(u,u))"
   ]
  },
  {
   "cell_type": "code",
   "execution_count": 6,
   "id": "6b7afe62-11f2-49b2-8199-048099813e9a",
   "metadata": {},
   "outputs": [
    {
     "data": {
      "text/plain": [
       "5.0990195135927845"
      ]
     },
     "execution_count": 6,
     "metadata": {},
     "output_type": "execute_result"
    }
   ],
   "source": [
    "from numpy.linalg import norm \n",
    "norm(u)"
   ]
  },
  {
   "cell_type": "markdown",
   "id": "6994aab2-8498-432e-ac6c-f8ee7d2c6b93",
   "metadata": {},
   "source": [
    "Unit Vector"
   ]
  },
  {
   "cell_type": "code",
   "execution_count": 7,
   "id": "052b94c8-95b9-40c2-af2d-6d7e39eaf4c9",
   "metadata": {},
   "outputs": [
    {
     "name": "stdout",
     "output_type": "stream",
     "text": [
      "[ 0.33333333 -0.66666667  0.66666667  0.        ]\n"
     ]
    },
    {
     "data": {
      "text/plain": [
       "3.0"
      ]
     },
     "execution_count": 7,
     "metadata": {},
     "output_type": "execute_result"
    }
   ],
   "source": [
    "a = np.array([1,-2,2,0])\n",
    "unitA = a/norm(a)\n",
    "print(unitA)\n",
    "norm(a)"
   ]
  },
  {
   "cell_type": "markdown",
   "id": "1fd2c0f6-aa07-4f43-802a-4d1f780bd0e2",
   "metadata": {},
   "source": [
    "Find the angle between the vectors"
   ]
  },
  {
   "cell_type": "code",
   "execution_count": 38,
   "id": "f96efd1b-db23-4f5e-880f-358688023b4e",
   "metadata": {},
   "outputs": [
    {
     "name": "stdout",
     "output_type": "stream",
     "text": [
      "113.89807621333344\n"
     ]
    }
   ],
   "source": [
    "import numpy as np \n",
    "import math\n",
    "from numpy.linalg import norm \n",
    "u = np.array([-2,9,5]) ##enter the first matrix\n",
    "v = np.array([-6,-9,4]) ## enter the second matrix\n",
    "dot= np.dot(u,v)\n",
    "mag_u = norm(u)\n",
    "mag_v = norm(v)\n",
    "\n",
    "costheta = dot / (mag_u * mag_v)\n",
    "\n",
    "rad = math.acos(costheta)\n",
    "deg = math.degrees(rad)\n",
    "\n",
    "print(deg)\n"
   ]
  },
  {
   "cell_type": "markdown",
   "id": "21a5381b-cdff-4879-9cf2-c8caccf7099b",
   "metadata": {},
   "source": [
    "scalar projection of vector"
   ]
  },
  {
   "cell_type": "code",
   "execution_count": 58,
   "id": "74985489-ca7f-431d-a5bd-915f13b9687c",
   "metadata": {},
   "outputs": [
    {
     "name": "stdout",
     "output_type": "stream",
     "text": [
      "9.525793444156804\n"
     ]
    }
   ],
   "source": [
    "import numpy as np\n",
    "from numpy.linalg import norm \n",
    "u = np.array([-6,9,-5])\n",
    "v = np.array([-2,7,1])\n",
    "dot = np.dot(u,v)\n",
    "mag_v = norm(v)\n",
    "\n",
    "comp_V_on_U = dot/ mag_v\n",
    "print(comp_V_on_U )\n",
    "\n"
   ]
  },
  {
   "cell_type": "markdown",
   "id": "ea672fc3-a775-4ad2-a2ac-4ddc4fa12b9d",
   "metadata": {},
   "source": [
    "Vector Projection"
   ]
  },
  {
   "cell_type": "code",
   "execution_count": 60,
   "id": "88ac4e1e-f510-44f5-a831-63b371f55b8c",
   "metadata": {},
   "outputs": [
    {
     "name": "stdout",
     "output_type": "stream",
     "text": [
      "[ 6.05309735  2.69026549 -2.69026549]\n"
     ]
    }
   ],
   "source": [
    "import numpy as np\n",
    "from numpy.linalg import norm\n",
    "u = np.array([8,-5,-6])\n",
    "v = np.array([9,4,-4])\n",
    "dot = np.dot(u,v)\n",
    "mag_v = norm(v)\n",
    "\n",
    "proj_V = (dot / mag_v**2)*v\n",
    "print(proj_V)"
   ]
  },
  {
   "cell_type": "markdown",
   "id": "7a51a4b2-16a5-428b-b786-51a44009d8fd",
   "metadata": {},
   "source": [
    "Matrix addition and subtraction "
   ]
  },
  {
   "cell_type": "code",
   "execution_count": 89,
   "id": "196c2c62-5b3f-4490-8b43-09ed502dfaca",
   "metadata": {},
   "outputs": [
    {
     "name": "stdout",
     "output_type": "stream",
     "text": [
      "(2, 2)\n",
      "(2, 2)\n",
      "v=\n",
      " [[ 5  0]\n",
      " [-6 -8]] \n",
      " v=\n",
      " [[-3  4]\n",
      " [ 3 -5]]\n"
     ]
    },
    {
     "data": {
      "text/plain": [
       "array([[  2,   4],\n",
       "       [ -3, -13]])"
      ]
     },
     "execution_count": 89,
     "metadata": {},
     "output_type": "execute_result"
    }
   ],
   "source": [
    "import numpy as np\n",
    "u = np.array([[5,0],[-6,-8]])\n",
    "v = np.array([[-3,4],[3,-5]])\n",
    "print(u.shape)\n",
    "print(v.shape)\n",
    "print('v=\\n' ,u, '\\n' , 'v=\\n',v) \n",
    "u+v\n"
   ]
  },
  {
   "cell_type": "markdown",
   "id": "fd7425d7-f4d6-4e15-bec8-e2ee5efec0d9",
   "metadata": {},
   "source": [
    "matrix multiplication"
   ]
  },
  {
   "cell_type": "code",
   "execution_count": 86,
   "id": "9e98bbaa-d0be-4034-bba5-72a16ea553ba",
   "metadata": {},
   "outputs": [
    {
     "name": "stdout",
     "output_type": "stream",
     "text": [
      "(2, 2)\n",
      "(3, 3)\n",
      "v=\n",
      " [[3 0]\n",
      " [0 2]] \n",
      " v=\n",
      " [[3 0 0]\n",
      " [0 9 0]\n",
      " [0 0 8]]\n"
     ]
    },
    {
     "data": {
      "text/plain": [
       "array([[27,  0],\n",
       "       [ 0,  8]])"
      ]
     },
     "execution_count": 86,
     "metadata": {},
     "output_type": "execute_result"
    }
   ],
   "source": [
    "import numpy as np \n",
    "u = np.array([[8,-9],[0,2]])\n",
    "##v = np.array([[3,0,0],[0,9,0],[0,0,8]])\n",
    "print(u.shape)\n",
    "print(v.shape)\n",
    "\n",
    "print('v=\\n' ,u, '\\n' , 'v=\\n',v) \n",
    "\n",
    "u**3\n"
   ]
  },
  {
   "cell_type": "code",
   "execution_count": 7,
   "id": "2269c66a-74ee-49be-94ab-655bd91aa601",
   "metadata": {},
   "outputs": [
    {
     "data": {
      "text/html": [
       "<style type=\"text/css\">\n",
       "</style>\n",
       "<table id=\"T_343f6\">\n",
       "  <thead>\n",
       "    <tr>\n",
       "      <th id=\"T_343f6_level0_col0\" class=\"col_heading level0 col0\" >Action</th>\n",
       "      <th id=\"T_343f6_level0_col1\" class=\"col_heading level0 col1\" >Drama</th>\n",
       "      <th id=\"T_343f6_level0_col2\" class=\"col_heading level0 col2\" >Documentary</th>\n",
       "    </tr>\n",
       "  </thead>\n",
       "  <tbody>\n",
       "    <tr>\n",
       "      <td id=\"T_343f6_row0_col0\" class=\"data row0 col0\" >1</td>\n",
       "      <td id=\"T_343f6_row0_col1\" class=\"data row0 col1\" >2</td>\n",
       "      <td id=\"T_343f6_row0_col2\" class=\"data row0 col2\" >3</td>\n",
       "    </tr>\n",
       "    <tr>\n",
       "      <td id=\"T_343f6_row1_col0\" class=\"data row1 col0\" >4</td>\n",
       "      <td id=\"T_343f6_row1_col1\" class=\"data row1 col1\" >5</td>\n",
       "      <td id=\"T_343f6_row1_col2\" class=\"data row1 col2\" >6</td>\n",
       "    </tr>\n",
       "  </tbody>\n",
       "</table>\n"
      ],
      "text/plain": [
       "<pandas.io.formats.style.Styler at 0x14438ac30>"
      ]
     },
     "execution_count": 7,
     "metadata": {},
     "output_type": "execute_result"
    }
   ],
   "source": [
    "import pandas as pd\n",
    "\n",
    "# Example data\n",
    "A = [[1, 2, 3], [4, 5, 6]]\n",
    "B = [[7, 8, 9], [10, 11, 12]]\n",
    "\n",
    "# Create DataFrames\n",
    "df1 = pd.DataFrame(A, columns=['Action', 'Drama', 'Documentary'])\n",
    "df2 = pd.DataFrame(B, columns=['The Batman', 'Mickey 17', 'Bowling for Columbine'])\n",
    "\n",
    "# Use the Styler object to hide the index\n",
    "df1_styled = df1.style.hide(axis='index')\n",
    "\n",
    "# To view the styled DataFrame in Jupyter Notebook or similar environment\n",
    "df1_styled\n"
   ]
  },
  {
   "cell_type": "code",
   "execution_count": 1,
   "id": "a46ae9da-d2a5-4b15-9431-32a56e89f4ba",
   "metadata": {},
   "outputs": [
    {
     "name": "stdout",
     "output_type": "stream",
     "text": [
      "A:\n",
      " [[1 2 3]\n",
      " [1 0 1]\n",
      " [4 1 2]\n",
      " [2 3 0]\n",
      " [5 2 4]\n",
      " [0 2 5]]\n",
      "B:\n",
      " [[2 1 2]\n",
      " [1 3 0]\n",
      " [2 0 5]]\n",
      "AT:\n",
      " [[1 1 4 2 5 0]\n",
      " [2 0 1 3 2 2]\n",
      " [3 1 2 0 4 5]]\n",
      "BT:\n",
      " [[2 1 2]\n",
      " [1 3 0]\n",
      " [2 0 5]]\n",
      "A * A: Incompatible\n",
      "A * AT:\n",
      "(6, 3) @ (3, 6) = (6, 6)\n",
      "[[14  4 12  8 21 19]\n",
      " [ 4  2  6  2  9  5]\n",
      " [12  6 21 11 30 12]\n",
      " [ 8  2 11 13 16  6]\n",
      " [21  9 30 16 45 24]\n",
      " [19  5 12  6 24 29]]\n",
      "A * B:\n",
      "(6, 3) @ (3, 3) = (6, 3)\n",
      "[[10  7 17]\n",
      " [ 4  1  7]\n",
      " [13  7 18]\n",
      " [ 7 11  4]\n",
      " [20 11 30]\n",
      " [12  6 25]]\n",
      "A * BT:\n",
      "(6, 3) @ (3, 3) = (6, 3)\n",
      "[[10  7 17]\n",
      " [ 4  1  7]\n",
      " [13  7 18]\n",
      " [ 7 11  4]\n",
      " [20 11 30]\n",
      " [12  6 25]]\n",
      "AT * A:\n",
      "(3, 6) @ (6, 3) = (3, 3)\n",
      "[[47 22 32]\n",
      " [22 22 26]\n",
      " [32 26 55]]\n",
      "AT * AT: Incompatible\n",
      "AT * B: Incompatible\n",
      "AT * BT: Incompatible\n",
      "B * A: Incompatible\n",
      "B * AT:\n",
      "(3, 3) @ (3, 6) = (3, 6)\n",
      "[[10  4 13  7 20 12]\n",
      " [ 7  1  7 11 11  6]\n",
      " [17  7 18  4 30 25]]\n",
      "B * B:\n",
      "(3, 3) @ (3, 3) = (3, 3)\n",
      "[[ 9  5 14]\n",
      " [ 5 10  2]\n",
      " [14  2 29]]\n",
      "B * BT:\n",
      "(3, 3) @ (3, 3) = (3, 3)\n",
      "[[ 9  5 14]\n",
      " [ 5 10  2]\n",
      " [14  2 29]]\n",
      "BT * A: Incompatible\n",
      "BT * AT:\n",
      "(3, 3) @ (3, 6) = (3, 6)\n",
      "[[10  4 13  7 20 12]\n",
      " [ 7  1  7 11 11  6]\n",
      " [17  7 18  4 30 25]]\n",
      "BT * B:\n",
      "(3, 3) @ (3, 3) = (3, 3)\n",
      "[[ 9  5 14]\n",
      " [ 5 10  2]\n",
      " [14  2 29]]\n",
      "BT * BT:\n",
      "(3, 3) @ (3, 3) = (3, 3)\n",
      "[[ 9  5 14]\n",
      " [ 5 10  2]\n",
      " [14  2 29]]\n"
     ]
    }
   ],
   "source": [
    "import numpy as np\n",
    "\n",
    "A = np.array([[1, 2, 3],\n",
    "              [1, 0, 1],\n",
    "              [4, 1, 2],\n",
    "              [2, 3, 0],\n",
    "              [5, 2, 4],\n",
    "              [0, 2, 5]])\n",
    "\n",
    "B = np.array([[2, 1, 2],\n",
    "              [1, 3, 0],\n",
    "              [2, 0, 5]])\n",
    "\n",
    "# Transpose of matrix A\n",
    "AT = A.T\n",
    "\n",
    "# Transpose of Matrix B\n",
    "BT = B.T\n",
    "\n",
    "# Print the matrices\n",
    "print(\"A:\\n\", A)\n",
    "print(\"B:\\n\", B)\n",
    "print(\"AT:\\n\", AT)\n",
    "print(\"BT:\\n\", BT)\n",
    "\n",
    "# Perform all possible matrix multiplications and check compatibility\n",
    "products = [\n",
    "    (\"A * A\", A, A), (\"A * AT\", A, AT), (\"A * B\", A, B), (\"A * BT\", A, BT),\n",
    "    (\"AT * A\", AT, A), (\"AT * AT\", AT, AT), (\"AT * B\", AT, B), (\"AT * BT\", AT, BT),\n",
    "    (\"B * A\", B, A), (\"B * AT\", B, AT), (\"B * B\", B, B), (\"B * BT\", B, BT),\n",
    "    (\"BT * A\", BT, A), (\"BT * AT\", BT, AT), (\"BT * B\", BT, B), (\"BT * BT\", BT, BT)\n",
    "]\n",
    "\n",
    "for name, matrix1, matrix2 in products:\n",
    "    try:\n",
    "        result = np.dot(matrix1, matrix2)\n",
    "        print(f\"{name}:\")\n",
    "        print(f\"{matrix1.shape} @ {matrix2.shape} = {result.shape}\")\n",
    "        print(result)\n",
    "    except ValueError:\n",
    "        print(f\"{name}: Incompatible\")"
   ]
  },
  {
   "cell_type": "code",
   "execution_count": 2,
   "id": "6b6cc650-1dbf-449e-8acf-5bcada88e78f",
   "metadata": {},
   "outputs": [
    {
     "data": {
      "text/plain": [
       "array([[10,  7, 17],\n",
       "       [ 4,  1,  7],\n",
       "       [13,  7, 18],\n",
       "       [ 7, 11,  4],\n",
       "       [20, 11, 30],\n",
       "       [12,  6, 25]])"
      ]
     },
     "execution_count": 2,
     "metadata": {},
     "output_type": "execute_result"
    }
   ],
   "source": [
    "A@B\n"
   ]
  },
  {
   "cell_type": "code",
   "execution_count": 3,
   "id": "d1c88f0a-9b70-4651-8bec-6f72545eb3b7",
   "metadata": {},
   "outputs": [
    {
     "data": {
      "text/plain": [
       "array([[14,  4, 12,  8, 21, 19],\n",
       "       [ 4,  2,  6,  2,  9,  5],\n",
       "       [12,  6, 21, 11, 30, 12],\n",
       "       [ 8,  2, 11, 13, 16,  6],\n",
       "       [21,  9, 30, 16, 45, 24],\n",
       "       [19,  5, 12,  6, 24, 29]])"
      ]
     },
     "execution_count": 3,
     "metadata": {},
     "output_type": "execute_result"
    }
   ],
   "source": [
    "A@AT"
   ]
  },
  {
   "cell_type": "code",
   "execution_count": 5,
   "id": "b70ebd70-3382-4601-b101-188bedb7dc43",
   "metadata": {},
   "outputs": [
    {
     "name": "stdout",
     "output_type": "stream",
     "text": [
      "(6, 3) @ (6, 3) is incompatible\n",
      "(6, 3) @ (3, 6) = (6, 6)\n",
      "[[14  4 12  8 21 19]\n",
      " [ 4  2  6  2  9  5]\n",
      " [12  6 21 11 30 12]\n",
      " [ 8  2 11 13 16  6]\n",
      " [21  9 30 16 45 24]\n",
      " [19  5 12  6 24 29]]\n",
      "(6, 3) @ (3, 3) = (6, 3)\n",
      "[[10  7 17]\n",
      " [ 4  1  7]\n",
      " [13  7 18]\n",
      " [ 7 11  4]\n",
      " [20 11 30]\n",
      " [12  6 25]]\n",
      "(6, 3) @ (3, 3) = (6, 3)\n",
      "[[10  7 17]\n",
      " [ 4  1  7]\n",
      " [13  7 18]\n",
      " [ 7 11  4]\n",
      " [20 11 30]\n",
      " [12  6 25]]\n",
      "(3, 6) @ (6, 3) = (3, 3)\n",
      "[[47 22 32]\n",
      " [22 22 26]\n",
      " [32 26 55]]\n",
      "(3, 6) @ (3, 6) is incompatible\n",
      "(3, 6) @ (3, 3) is incompatible\n",
      "(3, 6) @ (3, 3) is incompatible\n",
      "(3, 3) @ (6, 3) is incompatible\n",
      "(3, 3) @ (3, 6) = (3, 6)\n",
      "[[10  4 13  7 20 12]\n",
      " [ 7  1  7 11 11  6]\n",
      " [17  7 18  4 30 25]]\n",
      "(3, 3) @ (3, 3) = (3, 3)\n",
      "[[ 9  5 14]\n",
      " [ 5 10  2]\n",
      " [14  2 29]]\n",
      "(3, 3) @ (3, 3) = (3, 3)\n",
      "[[ 9  5 14]\n",
      " [ 5 10  2]\n",
      " [14  2 29]]\n",
      "(3, 3) @ (6, 3) is incompatible\n",
      "(3, 3) @ (3, 6) = (3, 6)\n",
      "[[10  4 13  7 20 12]\n",
      " [ 7  1  7 11 11  6]\n",
      " [17  7 18  4 30 25]]\n",
      "(3, 3) @ (3, 3) = (3, 3)\n",
      "[[ 9  5 14]\n",
      " [ 5 10  2]\n",
      " [14  2 29]]\n",
      "(3, 3) @ (3, 3) = (3, 3)\n",
      "[[ 9  5 14]\n",
      " [ 5 10  2]\n",
      " [14  2 29]]\n"
     ]
    }
   ],
   "source": [
    "import numpy as np\n",
    "\n",
    "A = np.array([[1, 2, 3],\n",
    "              [1, 0, 1],\n",
    "              [4, 1, 2],\n",
    "              [2, 3, 0],\n",
    "              [5, 2, 4],\n",
    "              [0, 2, 5]])\n",
    "\n",
    "B = np.array([[2, 1, 2],\n",
    "              [1, 3, 0],\n",
    "              [2, 0, 5]])\n",
    "\n",
    "# Transpose of matrix A\n",
    "AT = A.T\n",
    "\n",
    "# Transpose of Matrix B\n",
    "BT = B.T\n",
    "products = [\n",
    "    (A, A), (A, AT), (A, B), (A, BT),\n",
    "    (AT, A), ( AT, AT), (AT, B), (AT, BT),\n",
    "    (B, A), (B, AT), (B, B), (B, BT),\n",
    "    (BT, A), (BT, AT), (BT, B), (BT, BT)\n",
    "]\n",
    "i = 0\n",
    "while i <len(products):\n",
    "    matrix1 , matrix2 = products[i]\n",
    "    try:\n",
    "        result = np.dot(matrix1,matrix2)\n",
    "        print(f\"{matrix1.shape} @ {matrix2.shape} = {result.shape}\")\n",
    "        print(result)\n",
    "    except ValueError:\n",
    "        print(f\"{matrix1.shape} @ {matrix2.shape} is incompatible\")\n",
    "    i+=1\n",
    "    "
   ]
  },
  {
   "cell_type": "markdown",
   "id": "d9495f81-2dc7-4ebd-b988-99d7c6eae846",
   "metadata": {},
   "source": []
  },
  {
   "cell_type": "code",
   "execution_count": 30,
   "id": "96151f19-503b-45f6-9d2f-3673216a5b1a",
   "metadata": {},
   "outputs": [
    {
     "name": "stdout",
     "output_type": "stream",
     "text": [
      "[[-1 -7]\n",
      " [ 1  6]]\n",
      "[[ 6.  7.]\n",
      " [-1. -1.]]\n"
     ]
    }
   ],
   "source": [
    "import numpy as np\n",
    "from numpy.linalg import inv\n",
    "A = np.array([[-1,-7],[1,6]])\n",
    "print(A)\n",
    "print(inv(A))\n"
   ]
  },
  {
   "cell_type": "markdown",
   "id": "7abf5067-641f-48cc-9ad6-5a83a398298c",
   "metadata": {},
   "source": [
    "## X = A^-1b"
   ]
  },
  {
   "cell_type": "code",
   "execution_count": 32,
   "id": "8f15091c-f79a-4b85-b0ef-2b8fcca14658",
   "metadata": {},
   "outputs": [
    {
     "name": "stdout",
     "output_type": "stream",
     "text": [
      "[[ 6  7]\n",
      " [-1 -1]]\n",
      "[[-11]\n",
      " [  2]]\n"
     ]
    }
   ],
   "source": [
    "import numpy as np\n",
    "from numpy.linalg import inv\n",
    "A = np.array([[6,7],[-1,-1]])\n",
    "b = np.array([[-3],[1]])\n",
    "print(A)\n",
    "x = A@b\n",
    "print(x)"
   ]
  },
  {
   "cell_type": "markdown",
   "id": "7d7cdecf-c35b-4013-a28b-7277071b05a2",
   "metadata": {},
   "source": [
    " ## Balancing a chemical equation "
   ]
  },
  {
   "cell_type": "code",
   "execution_count": null,
   "id": "658aa326-76a2-42f7-8ce1-05c28058f594",
   "metadata": {},
   "outputs": [],
   "source": [
    "import numpy as np\n",
    "from numpy.linalg import inv\n",
    "A = np.array([[6,7],[-1,-1]])\n",
    "b = np.array([[-3],[1]])\n",
    "Ainv =inv(A)\n",
    "print(Ainv)\n",
    "x = A@b\n",
    "print(x)"
   ]
  }
 ],
 "metadata": {
  "kernelspec": {
   "display_name": "Python 3 (ipykernel)",
   "language": "python",
   "name": "python3"
  },
  "language_info": {
   "codemirror_mode": {
    "name": "ipython",
    "version": 3
   },
   "file_extension": ".py",
   "mimetype": "text/x-python",
   "name": "python",
   "nbconvert_exporter": "python",
   "pygments_lexer": "ipython3",
   "version": "3.12.4"
  }
 },
 "nbformat": 4,
 "nbformat_minor": 5
}
