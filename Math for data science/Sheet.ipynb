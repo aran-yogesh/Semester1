{
 "cells": [
  {
   "cell_type": "code",
   "execution_count": 377,
   "id": "99d2dd00-e2bc-4b5f-8fe4-4df23de9b8de",
   "metadata": {},
   "outputs": [],
   "source": [
    "import numpy as np \n",
    "import math\n",
    "from numpy.linalg import inv \n",
    "from numpy.linalg import pinv\n",
    "from scipy.linalg import norm\n",
    "from numpy import linalg as LA\n",
    "import sympy"
   ]
  },
  {
   "cell_type": "markdown",
   "id": "6099399a-ba9c-4b9f-913f-6093ba0a5451",
   "metadata": {},
   "source": [
    "### Position of Vectors"
   ]
  },
  {
   "cell_type": "code",
   "execution_count": 379,
   "id": "ce894b10-2321-4f40-91e5-e061058c1473",
   "metadata": {},
   "outputs": [
    {
     "data": {
      "text/plain": [
       "array([[  5],\n",
       "       [-10],\n",
       "       [  1]])"
      ]
     },
     "execution_count": 379,
     "metadata": {},
     "output_type": "execute_result"
    }
   ],
   "source": [
    "A = np.array([[0],[4],[-3]])   # initial point\n",
    "B = np.array([[5],[-6],[-2]])  # terminal point\n",
    "\n",
    "position = B - A\n",
    "position"
   ]
  },
  {
   "cell_type": "markdown",
   "id": "c8c210df-2428-4ace-a191-308f37046b8d",
   "metadata": {},
   "source": [
    "### Vector Operations ( Addition and multipliction)"
   ]
  },
  {
   "cell_type": "code",
   "execution_count": 381,
   "id": "22db9fd9-8627-426a-8a73-50726ba55e9d",
   "metadata": {},
   "outputs": [
    {
     "name": "stdout",
     "output_type": "stream",
     "text": [
      "shape of U  (3, 1)\n",
      "[[ 84]\n",
      " [-62]\n",
      " [  7]]\n"
     ]
    }
   ],
   "source": [
    "u = np.array([[5],[-9],[2]])\n",
    "print(\"shape of U \",u.shape)\n",
    "\n",
    "v = np.array([[8],[-5],[-6]])\n",
    "k = np.array([[9],[1],[7]])\n",
    "\n",
    "print(5*u+4*v+3*k)"
   ]
  },
  {
   "cell_type": "markdown",
   "id": "8bab536d-42e1-4487-befe-3ba686e219bc",
   "metadata": {},
   "source": [
    "### Matrix multiplication"
   ]
  },
  {
   "cell_type": "code",
   "execution_count": 383,
   "id": "43a14bf4-b671-489a-975f-29019097d9e2",
   "metadata": {},
   "outputs": [
    {
     "name": "stdout",
     "output_type": "stream",
     "text": [
      "A=\n",
      " [[-5  3 -4]\n",
      " [-5  2 -1]\n",
      " [ 5 -1  3]] \n",
      " B=\n",
      " [[ 3]\n",
      " [ 2]\n",
      " [-1]]\n",
      "A=\n",
      " (3, 3) \n",
      " B=\n",
      " (3, 1)\n",
      "Matrix Multiplication [[ -5]\n",
      " [-10]\n",
      " [ 10]]\n"
     ]
    }
   ],
   "source": [
    "A = np.array([[-5,3,-4],[-5,2,-1],[5,-1,3]])\n",
    "B = np.array([[3],[2],[-1]])\n",
    "print('A=\\n' ,A, '\\n' , 'B=\\n',B) \n",
    "print('A=\\n' ,A.shape, '\\n' , 'B=\\n',B.shape) \n",
    "\n",
    "print(\"Matrix Multiplication\",A@B) # matrix multiplication \n"
   ]
  },
  {
   "cell_type": "markdown",
   "id": "918b46a3-f600-499f-8b06-1a36b4b72a8f",
   "metadata": {},
   "source": [
    "### Dot product"
   ]
  },
  {
   "cell_type": "code",
   "execution_count": 385,
   "id": "8e6d89c1-aa67-4efa-8d0a-90aa673e3eb1",
   "metadata": {},
   "outputs": [
    {
     "name": "stdout",
     "output_type": "stream",
     "text": [
      "54\n"
     ]
    },
    {
     "data": {
      "text/plain": [
       "7.3484692283495345"
      ]
     },
     "execution_count": 385,
     "metadata": {},
     "output_type": "execute_result"
    }
   ],
   "source": [
    "u = np.array([5,-5,6,7,7])\n",
    "v = np.array([-2,-7,-1])\n",
    "print(np.dot(v,v))\n",
    "\n",
    "from numpy.linalg import norm\n",
    "norm(v)"
   ]
  },
  {
   "cell_type": "markdown",
   "id": "217ac71a-795d-44bc-9519-9fd0eb14545f",
   "metadata": {},
   "source": [
    "### Length of Vector or Magnitude of vector or L2 Norm"
   ]
  },
  {
   "cell_type": "code",
   "execution_count": 387,
   "id": "b0469c43-acb0-4ef8-89a8-475744cb23ae",
   "metadata": {},
   "outputs": [
    {
     "name": "stdout",
     "output_type": "stream",
     "text": [
      "10.0\n"
     ]
    },
    {
     "data": {
      "text/plain": [
       "10.0"
      ]
     },
     "execution_count": 387,
     "metadata": {},
     "output_type": "execute_result"
    }
   ],
   "source": [
    "u = [8,-6]\n",
    "print(math.sqrt(np.dot(u,u)))\n",
    "from numpy.linalg import norm\n",
    "norm(u)"
   ]
  },
  {
   "cell_type": "markdown",
   "id": "f74832bd-9b74-45df-aae1-ec8f57f6e109",
   "metadata": {},
   "source": [
    "### Unit Vector"
   ]
  },
  {
   "cell_type": "code",
   "execution_count": 389,
   "id": "9afabcfe-fc1b-407d-81ec-d647914038b8",
   "metadata": {},
   "outputs": [
    {
     "name": "stdout",
     "output_type": "stream",
     "text": [
      "[0.57735027 0.57735027 0.57735027]\n"
     ]
    },
    {
     "data": {
      "text/plain": [
       "1.7320508075688772"
      ]
     },
     "execution_count": 389,
     "metadata": {},
     "output_type": "execute_result"
    }
   ],
   "source": [
    "a = np.array([1,1,1])\n",
    "unitA = a/norm(a)\n",
    "print(unitA)\n",
    "norm(a)"
   ]
  },
  {
   "cell_type": "markdown",
   "id": "ae97c8b1-e620-4d88-be71-aa59f0e99fd4",
   "metadata": {},
   "source": [
    "### Scaling back to original vector"
   ]
  },
  {
   "cell_type": "code",
   "execution_count": 391,
   "id": "9ca0cbba-f004-4433-92c9-a4c5fa6226a7",
   "metadata": {},
   "outputs": [
    {
     "name": "stdout",
     "output_type": "stream",
     "text": [
      "[3. 4.]\n"
     ]
    }
   ],
   "source": [
    "import numpy as np\n",
    "\n",
    "def scale_unit_vector(unit_vector, original_magnitude):\n",
    "  \"\"\"Scales a unit vector back to its original magnitude.\n",
    "\n",
    "  Args:\n",
    "    unit_vector: A NumPy array representing the unit vector.\n",
    "    original_magnitude: The original magnitude of the vector.\n",
    "\n",
    "  Returns:\n",
    "    A NumPy array representing the original vector.\n",
    "  \"\"\"\n",
    "\n",
    "  return unit_vector * original_magnitude\n",
    "\n",
    "v = np.array([3, 4])\n",
    "magnitude = np.linalg.norm(v)\n",
    "unit_v = v / magnitude\n",
    "\n",
    "scaled_v = scale_unit_vector(unit_v, magnitude)\n",
    "print(scaled_v)"
   ]
  },
  {
   "cell_type": "markdown",
   "id": "60e462b1-eeb0-446e-a464-154f5d6c7abd",
   "metadata": {},
   "source": [
    "### Finding the Angle between the vectors  or geometricla relationships "
   ]
  },
  {
   "cell_type": "code",
   "execution_count": 393,
   "id": "20451ab9-0f43-42de-8b1f-7e7c85e7fda2",
   "metadata": {},
   "outputs": [
    {
     "name": "stdout",
     "output_type": "stream",
     "text": [
      "63.43494882292201\n"
     ]
    }
   ],
   "source": [
    "u = np.array([-2,1]) ##enter the first matrix\n",
    "v = np.array([0,3]) ## enter the second matrix\n",
    "dot= np.dot(u,v)             ## if the dot product of u and v are 0 then its orthogonal \n",
    "mag_u = norm(u)\n",
    "mag_v = norm(v)\n",
    "\n",
    "costheta = dot / (mag_u * mag_v)\n",
    "\n",
    "rad = math.acos(costheta)\n",
    "deg = math.degrees(rad)\n",
    "\n",
    "print(deg)"
   ]
  },
  {
   "cell_type": "markdown",
   "id": "af913834-8dfa-41c8-bb8d-6a8a0a74bf27",
   "metadata": {},
   "source": [
    "### Scalar and vector Projections"
   ]
  },
  {
   "cell_type": "code",
   "execution_count": 466,
   "id": "9e8e0c8e-b657-4311-8ec8-9e1b0a53faed",
   "metadata": {},
   "outputs": [
    {
     "ename": "TypeError",
     "evalue": "unsupported operand type(s) for /: 'int' and 'rv_continuous_frozen'",
     "output_type": "error",
     "traceback": [
      "\u001b[0;31m---------------------------------------------------------------------------\u001b[0m",
      "\u001b[0;31mTypeError\u001b[0m                                 Traceback (most recent call last)",
      "Cell \u001b[0;32mIn[466], line 6\u001b[0m\n\u001b[1;32m      3\u001b[0m dot\u001b[38;5;241m=\u001b[39m np\u001b[38;5;241m.\u001b[39mdot(u,v)  \n\u001b[1;32m      4\u001b[0m mag_v \u001b[38;5;241m=\u001b[39m norm(v)\n\u001b[0;32m----> 6\u001b[0m projvu \u001b[38;5;241m=\u001b[39m dot \u001b[38;5;241m/\u001b[39m mag_v\n\u001b[1;32m      7\u001b[0m projvu\n",
      "\u001b[0;31mTypeError\u001b[0m: unsupported operand type(s) for /: 'int' and 'rv_continuous_frozen'"
     ]
    }
   ],
   "source": [
    "u = np.array([1,-2,1]) ##enter the first matrix\n",
    "v = np.array([1,0,-1]) ## enter the second matrix\n",
    "dot= np.dot(u,v)  \n",
    "mag_v = norm(v)\n",
    "\n",
    "projvu = dot / mag_v\n",
    "projvu\n"
   ]
  },
  {
   "cell_type": "markdown",
   "id": "688e0d3b-3d6a-4eb3-a5d2-0bb5460e8160",
   "metadata": {},
   "source": [
    "### Inverse of matrix "
   ]
  },
  {
   "cell_type": "code",
   "execution_count": 397,
   "id": "71ea0c33-4636-4e88-8228-0bd9c2e23c5a",
   "metadata": {},
   "outputs": [
    {
     "name": "stdout",
     "output_type": "stream",
     "text": [
      "[[ 1  2]\n",
      " [-3 -5]]\n",
      "[[-5. -2.]\n",
      " [ 3.  1.]]\n"
     ]
    }
   ],
   "source": [
    "A = np.array([[1,2],[-3,-5]])\n",
    "Ainv = inv(A)\n",
    "print(A)\n",
    "print(inv(A))"
   ]
  },
  {
   "cell_type": "markdown",
   "id": "42e34c24-f86c-4f4d-97ab-45e810215d3e",
   "metadata": {},
   "source": [
    "### X = A^-1b"
   ]
  },
  {
   "cell_type": "code",
   "execution_count": 399,
   "id": "1ad71558-fbcf-4db9-bced-6428e3b8d9fe",
   "metadata": {},
   "outputs": [
    {
     "name": "stdout",
     "output_type": "stream",
     "text": [
      "[[-1. -7.]\n",
      " [ 1.  6.]]\n",
      "[[-4.]\n",
      " [ 3.]]\n"
     ]
    }
   ],
   "source": [
    "A = np.array([[6,7],[-1,-1]])\n",
    "b = np.array([[-3],[1]])\n",
    "Ainv =inv(A)\n",
    "print(Ainv)\n",
    "x = Ainv@b\n",
    "print(x)"
   ]
  },
  {
   "cell_type": "code",
   "execution_count": 400,
   "id": "740ca148-5ab0-4f24-9e27-3f5c01bb7f9d",
   "metadata": {},
   "outputs": [
    {
     "name": "stdout",
     "output_type": "stream",
     "text": [
      "[[-4.]\n",
      " [ 3.]]\n",
      "1.4715376939894124e-14\n"
     ]
    }
   ],
   "source": [
    "x = pinv(A)@b\n",
    "print(x)\n",
    "\n",
    "err = norm(A@x - b)\n",
    "print(err)"
   ]
  },
  {
   "cell_type": "markdown",
   "id": "54ab36bf-5384-4ff7-9c10-e52da80ea469",
   "metadata": {},
   "source": [
    "### least-squares solution solve for X^"
   ]
  },
  {
   "cell_type": "code",
   "execution_count": 402,
   "id": "886b08c2-4346-4693-9783-11bd4b41cae7",
   "metadata": {},
   "outputs": [
    {
     "name": "stdout",
     "output_type": "stream",
     "text": [
      "Matrix A\n",
      " [[ 1  1 -2]]\n",
      "Matrix B\n",
      " [[ 2  1 -6]]\n",
      "ATA =\n",
      " [[ 1  1 -2]\n",
      " [ 1  1 -2]\n",
      " [-2 -2  4]]\n",
      "ATb = \n",
      " [[ 2  1 -6]\n",
      " [ 2  1 -6]\n",
      " [-4 -2 12]]\n",
      "Augmented Matrix: \n",
      " [[ 1  1 -2  2  1 -6]\n",
      " [ 1  1 -2  2  1 -6]\n",
      " [-2 -2  4 -4 -2 12]]\n",
      "Solution:\n",
      " Matrix([[-6], [0], [0]])\n"
     ]
    }
   ],
   "source": [
    "A = np.array([[1,1,-2]])\n",
    "b = np.array([[2,1,-6]])\n",
    "\n",
    "print('Matrix A\\n',A)\n",
    "print('Matrix B\\n',b)\n",
    "\n",
    "ATA = A.T @ A\n",
    "ATb = A.T @ b \n",
    "\n",
    "print('ATA =\\n',ATA)\n",
    "print('ATb = \\n',ATb)\n",
    "\n",
    "#ATA = np.array([[4,48],[48,774]])\n",
    "#ATb = np.array([[491.5],[6898.0]])\n",
    "\n",
    "# Create an augmented matrix\n",
    "augmented_matrix = np.hstack((ATA, ATb))\n",
    "\n",
    "print(\"Augmented Matrix: \\n\",augmented_matrix)\n",
    "\n",
    "# Find the reduced row echelon form\n",
    "rref = sympy.Matrix(augmented_matrix).rref()[0]\n",
    "\n",
    "# Extract the solution from the reduced row echelon form\n",
    "solution = rref[:, -1]\n",
    "\n",
    "print(\"Solution:\\n\", solution)"
   ]
  },
  {
   "cell_type": "markdown",
   "id": "55401dda-cb20-41f9-8002-d53584ab6f0f",
   "metadata": {},
   "source": [
    "### To find eigen values or to find the spectrum of matrix "
   ]
  },
  {
   "cell_type": "code",
   "execution_count": 404,
   "id": "fe9ab733-171d-41c7-8c58-0071e11defd8",
   "metadata": {},
   "outputs": [
    {
     "name": "stdout",
     "output_type": "stream",
     "text": [
      "[[ 4 -3]\n",
      " [ 2 -1]]\n",
      "Eigen values are: [2. 1.]\n",
      "eigen vectors are: [0.83205029 0.5547002 ] and [0.70710678 0.70710678]\n"
     ]
    }
   ],
   "source": [
    "A = np.array([[4,-3],[2,-1]])\n",
    "print(A)\n",
    "\n",
    "l, ev = LA.eig(A)\n",
    "print('Eigen values are:', l )\n",
    "print('eigen vectors are:', ev[:,0],'and',ev[:,1])"
   ]
  },
  {
   "cell_type": "markdown",
   "id": "5f7ecdd9-c10d-4c11-9c61-5835cc1a0b49",
   "metadata": {},
   "source": [
    "### similarity B =M^-1 AM"
   ]
  },
  {
   "cell_type": "code",
   "execution_count": 406,
   "id": "11bec2a2-b9ad-4239-bf33-b2f261f4ae2b",
   "metadata": {},
   "outputs": [
    {
     "data": {
      "text/plain": [
       "array([[6.00000000e+00, 2.22044605e-16, 0.00000000e+00, 0.00000000e+00],\n",
       "       [2.22044605e-16, 3.00000000e+00, 0.00000000e+00, 0.00000000e+00],\n",
       "       [0.00000000e+00, 0.00000000e+00, 5.40000000e+00, 8.00000000e-01],\n",
       "       [0.00000000e+00, 0.00000000e+00, 7.20000000e+00, 4.40000000e+00]])"
      ]
     },
     "execution_count": 406,
     "metadata": {},
     "output_type": "execute_result"
    }
   ],
   "source": [
    "A = np.array([[-3,-2,0,0],[-3,4,0,0],[0,0,-5,-4],[0,0,-2,2]])\n",
    "M = np.array([[0,0,1,2],[0,0,3,1],[4,-1,0,0],[1,2,0,0]])\n",
    "M_inv = LA.inv(M)\n",
    "B = abs(M_inv@A@M)\n",
    "B"
   ]
  },
  {
   "cell_type": "markdown",
   "id": "47aa1302-0b72-4bad-a86d-d87adc860157",
   "metadata": {},
   "source": [
    "### The Diagonalization Theorem"
   ]
  },
  {
   "cell_type": "code",
   "execution_count": 408,
   "id": "6319e76e-60cc-4887-82b5-6651b8b980be",
   "metadata": {},
   "outputs": [
    {
     "name": "stdout",
     "output_type": "stream",
     "text": [
      "[[ 1  0]\n",
      " [ 6 -1]]\n",
      "[-1.  1.]\n",
      "[[0.         0.31622777]\n",
      " [1.         0.9486833 ]]\n",
      "[[3 2]\n",
      " [1 1]]\n"
     ]
    },
    {
     "data": {
      "text/plain": [
       "array([[-0.31622777,  0.9486833 ],\n",
       "       [-1.9486833 ,  4.84604989]])"
      ]
     },
     "execution_count": 408,
     "metadata": {},
     "output_type": "execute_result"
    }
   ],
   "source": [
    "import numpy as np \n",
    "from numpy import linalg\n",
    "A = np.array([[1,0],[6,-1]])\n",
    "print(A)\n",
    "l , ev  = linalg.eig(A)\n",
    "print(l)\n",
    "print(ev)\n",
    "import sympy as sp \n",
    "rref_M, pivot_cols = sp.Matrix(ev).rref()\n",
    "rref_M\n",
    "pivot_cols\n",
    "D = np.diag(l)\n",
    "D\n",
    "P = abs(ev)\n",
    "P\n",
    "ev = np.array([[3,2],[1,1]])\n",
    "P_inv = linalg.inv(ev)\n",
    "print(ev)\n",
    "P_inv\n",
    "P@D@P_inv"
   ]
  },
  {
   "cell_type": "markdown",
   "id": "9e1f2f0c-3a26-4920-ab98-e6844b6fa5e5",
   "metadata": {},
   "source": [
    "### singular matrix"
   ]
  },
  {
   "cell_type": "code",
   "execution_count": 410,
   "id": "1e4cfa9c-e3ec-4636-a411-a793a61427e0",
   "metadata": {},
   "outputs": [
    {
     "name": "stdout",
     "output_type": "stream",
     "text": [
      "The matrix is singular. Determinant = 0.0\n"
     ]
    }
   ],
   "source": [
    "def is_singular(matrix):\n",
    "    # Calculate the determinant\n",
    "    determinant = np.linalg.det(matrix)\n",
    "    \n",
    "    if np.isclose(determinant, 0):  # Check if determinant is close to zero\n",
    "        return True, determinant\n",
    "    else:\n",
    "        return False, determinant\n",
    "\n",
    "# Example matrix\n",
    "A = np.array([[1, 2], [2, 4]])  # Singular matrix (rows are linearly dependent)\n",
    "\n",
    "# Check if the matrix is singular\n",
    "singular, det = is_singular(A)\n",
    "\n",
    "if singular:\n",
    "    print(f\"The matrix is singular. Determinant = {det}\")\n",
    "else:\n",
    "    print(f\"The matrix is not singular. Determinant = {det}\")"
   ]
  },
  {
   "cell_type": "markdown",
   "id": "5b2bd607-5d1c-4ca5-9305-1ab70534841c",
   "metadata": {},
   "source": [
    "### PCA python implementation "
   ]
  },
  {
   "cell_type": "code",
   "execution_count": 412,
   "id": "fa9149cd-165c-4415-b3d9-9a24834a63e9",
   "metadata": {},
   "outputs": [
    {
     "name": "stdout",
     "output_type": "stream",
     "text": [
      "Eigenvalues: [1.73707382 0.05392618]\n",
      "Eigenvectors: [[ 0.72474155 -0.68902082]\n",
      " [ 0.68902082  0.72474155]]\n",
      "Reduced Data: [ 0.44362444 -2.17719404  0.57071239 -0.12902465  1.29188186]\n"
     ]
    }
   ],
   "source": [
    "import numpy as np\n",
    "\n",
    "# Example dataset\n",
    "X = np.array([[2.5, 2.4],\n",
    "              [0.5, 0.7],\n",
    "              [2.2, 2.9],\n",
    "              [1.9, 2.2],\n",
    "              [3.1, 3.0]])\n",
    "\n",
    "# Step 1: Standardize the data\n",
    "X_mean = np.mean(X, axis=0)\n",
    "X_centered = X - X_mean\n",
    "\n",
    "# Step 2: Compute the covariance matrix\n",
    "cov_matrix = np.cov(X_centered, rowvar=False)\n",
    "\n",
    "# Step 3: Compute eigenvalues and eigenvectors\n",
    "eigenvalues, eigenvectors = np.linalg.eig(cov_matrix)\n",
    "\n",
    "# Step 4: Sort eigenvalues and eigenvectors\n",
    "sorted_indices = np.argsort(eigenvalues)[::-1]\n",
    "eigenvalues = eigenvalues[sorted_indices]\n",
    "eigenvectors = eigenvectors[:, sorted_indices]\n",
    "\n",
    "# Step 5: Transform data to the first principal component\n",
    "PC1 = eigenvectors[:, 0]  # First principal component\n",
    "X_reduced = np.dot(X_centered, PC1)\n",
    "\n",
    "print(\"Eigenvalues:\", eigenvalues)\n",
    "print(\"Eigenvectors:\", eigenvectors)\n",
    "print(\"Reduced Data:\", X_reduced)"
   ]
  },
  {
   "cell_type": "markdown",
   "id": "ccbafdaf-a048-4a16-9b83-0cc4405abe53",
   "metadata": {},
   "source": [
    "### PCA Scikit Learn "
   ]
  },
  {
   "cell_type": "code",
   "execution_count": 414,
   "id": "a471933c-56a2-4acc-9439-00c539989f38",
   "metadata": {},
   "outputs": [
    {
     "name": "stdout",
     "output_type": "stream",
     "text": [
      "Explained Variance Ratio: [0.96982031]\n",
      "Principal Components: [[-0.70710678 -0.70710678]]\n",
      "Reduced Data: (5, 1)\n"
     ]
    }
   ],
   "source": [
    "from sklearn.decomposition import PCA\n",
    "from sklearn.preprocessing import StandardScaler\n",
    "\n",
    "# Example dataset\n",
    "X = np.array([[2.5, 2.4],\n",
    "              [0.5, 0.7],\n",
    "              [2.2, 2.9],\n",
    "              [1.9, 2.2],\n",
    "              [3.1, 3.0]])\n",
    "\n",
    "# Step 1: Standardize the data\n",
    "scaler = StandardScaler()\n",
    "X_scaled = scaler.fit_transform(X)\n",
    "\n",
    "# Step 2: Apply PCA\n",
    "pca = PCA(n_components=1)  # Reduce to 1 principal component\n",
    "X_reduced = pca.fit_transform(X_scaled)\n",
    "\n",
    "print(\"Explained Variance Ratio:\", pca.explained_variance_ratio_)\n",
    "print(\"Principal Components:\", pca.components_)\n",
    "print(\"Reduced Data:\", X_reduced.shape)"
   ]
  },
  {
   "cell_type": "markdown",
   "id": "da24538e-dd5b-45d7-83b2-560b671b4a8b",
   "metadata": {},
   "source": [
    "### SVD\n"
   ]
  },
  {
   "cell_type": "code",
   "execution_count": 416,
   "id": "a1e80b53-7533-4f67-9597-32cfac62a1db",
   "metadata": {},
   "outputs": [
    {
     "name": "stdout",
     "output_type": "stream",
     "text": [
      "Original Matrix (A):\n",
      "[[1 2 3]\n",
      " [4 5 6]\n",
      " [7 8 9]]\n",
      "\n",
      "Left Singular Vectors (U):\n",
      "[[-0.21483724  0.88723069  0.40824829]\n",
      " [-0.52058739  0.24964395 -0.81649658]\n",
      " [-0.82633754 -0.38794278  0.40824829]]\n",
      "\n",
      "Singular Values (Sigma):\n",
      "[1.68481034e+01 1.06836951e+00 3.33475287e-16]\n",
      "\n",
      "Right Singular Vectors (V^T):\n",
      "[[-0.47967118 -0.57236779 -0.66506441]\n",
      " [-0.77669099 -0.07568647  0.62531805]\n",
      " [-0.40824829  0.81649658 -0.40824829]]\n"
     ]
    }
   ],
   "source": [
    "import numpy as np\n",
    "\n",
    "# Example data matrix\n",
    "A = np.array([[1, 2, 3],\n",
    "              [4, 5, 6],\n",
    "              [7, 8, 9]])\n",
    "\n",
    "# Perform SVD\n",
    "U, Sigma, Vt = np.linalg.svd(A)\n",
    "\n",
    "# Display the components\n",
    "print(\"Original Matrix (A):\")\n",
    "print(A)\n",
    "\n",
    "print(\"\\nLeft Singular Vectors (U):\")\n",
    "print(U)\n",
    "\n",
    "print(\"\\nSingular Values (Sigma):\")\n",
    "print(Sigma)\n",
    "\n",
    "print(\"\\nRight Singular Vectors (V^T):\")\n",
    "print(Vt)"
   ]
  },
  {
   "cell_type": "code",
   "execution_count": 417,
   "id": "22891c68-2d68-4282-91ee-87f925aac10a",
   "metadata": {},
   "outputs": [
    {
     "name": "stdout",
     "output_type": "stream",
     "text": [
      "\n",
      "Reconstructed Matrix (A):\n",
      "[[1. 2. 3.]\n",
      " [4. 5. 6.]\n",
      " [7. 8. 9.]]\n"
     ]
    }
   ],
   "source": [
    "# Reconstruct the original matrix\n",
    "Sigma_diag = np.zeros((A.shape[0], A.shape[1]))\n",
    "np.fill_diagonal(Sigma_diag, Sigma)\n",
    "A_reconstructed = np.dot(U, np.dot(Sigma_diag, Vt))\n",
    "\n",
    "print(\"\\nReconstructed Matrix (A):\")\n",
    "print(A_reconstructed)"
   ]
  },
  {
   "cell_type": "markdown",
   "id": "df1299e2-9316-495c-84f6-413475878f60",
   "metadata": {},
   "source": [
    "### hypothesis testing"
   ]
  },
  {
   "cell_type": "markdown",
   "id": "b4d9754f-cef7-4009-9794-16be136924b6",
   "metadata": {},
   "source": [
    "1. One-Sample Z-Test\n",
    "$$\n",
    "Z = \\frac{\\bar{X} - \\mu}{\\frac{\\sigma}{\\sqrt{n}}}\n",
    "$$\n"
   ]
  },
  {
   "cell_type": "markdown",
   "id": "90e44fe0-f3aa-44d6-ba4a-b4a78289470d",
   "metadata": {},
   "source": [
    "Where:\n",
    "\t•\t\\bar{X}: Sample mean.\n",
    " \n",
    "\t•\t\\mu: Population mean.\n",
    " \n",
    "\t•\t\\sigma: Population standard deviation.\n",
    " \n",
    "\t•\tn: Sample size."
   ]
  },
  {
   "cell_type": "markdown",
   "id": "1a43d595-a4ba-4373-b540-24657f0c4f0b",
   "metadata": {},
   "source": [
    "#### which P value to use\n",
    " Formulas:\n",
    "\t•\tTwo-tailed Test:\n",
    "\n",
    "p = 2 x (1 - CDF(|Z|))\n",
    "\n",
    "\t•\tOne-tailed Test (Right-tailed):\n",
    "\n",
    "p = 1 - CDF(Z)\n",
    "\n",
    "\t•\tOne-tailed Test (Left-tailed):\n",
    "\n",
    "p = CDF(Z)\n"
   ]
  },
  {
   "cell_type": "code",
   "execution_count": 422,
   "id": "0809566b-49a0-46e9-9103-45c85a208d8b",
   "metadata": {},
   "outputs": [
    {
     "name": "stdout",
     "output_type": "stream",
     "text": [
      "Z-Statistic: 2.8284271247461925\n",
      "P-Value: 0.004677734981047177\n",
      "Reject the null hypothesis.\n"
     ]
    }
   ],
   "source": [
    "#A school claims that the average height of students is 5.5 feet. \n",
    "#A sample of 50 students has a mean height of 5.7 feet with a population standard deviation of 0.5 feet. Is the claim valid?\n",
    "\n",
    "from scipy.stats import norm\n",
    "import numpy as np\n",
    "\n",
    "# Given data\n",
    "sample_mean = 5.7\n",
    "population_mean = 5.5\n",
    "population_std = 0.5\n",
    "sample_size = 50\n",
    "\n",
    "# Calculate Z-Statistic\n",
    "z_stat = (sample_mean - population_mean) / (population_std / np.sqrt(sample_size))\n",
    "\n",
    "# Calculate p-value\n",
    "p_value = 2 * (1 - norm.cdf(abs(z_stat)))  # Two-tailed test\n",
    "\n",
    "print(\"Z-Statistic:\", z_stat)\n",
    "print(\"P-Value:\", p_value)\n",
    "\n",
    "# Decision\n",
    "alpha = 0.05\n",
    "if p_value < alpha:\n",
    "    print(\"Reject the null hypothesis.\")\n",
    "else:\n",
    "    print(\"Fail to reject the null hypothesis.\")"
   ]
  },
  {
   "cell_type": "markdown",
   "id": "34827cbc-7c20-4787-932c-79ccf02b7b7d",
   "metadata": {},
   "source": [
    "### Two sample z test"
   ]
  },
  {
   "cell_type": "markdown",
   "id": "1f78d51f-7699-4ee7-93f6-b512c66204a6",
   "metadata": {},
   "source": [
    "$$\n",
    "Z = \\frac{(\\bar{X}_1 - \\bar{X}_2)}{\\sqrt{\\frac{\\sigma_1^2}{n_1} + \\frac{\\sigma_2^2}{n_2}}}\n",
    "$$"
   ]
  },
  {
   "cell_type": "markdown",
   "id": "0db0fce6-b86b-4a47-98b6-98c48ed4920c",
   "metadata": {},
   "source": [
    "Where:\n",
    "\t•\t\\bar{X}_1, \\bar{X}_2: Sample means.\n",
    " \n",
    "\t•\t\\sigma_1, \\sigma_2: Population standard deviations.\n",
    " \n",
    "\t•\tn_1, n_2: Sample sizes."
   ]
  },
  {
   "cell_type": "code",
   "execution_count": 426,
   "id": "85c1c00c-4113-49fb-978a-1068a3726240",
   "metadata": {},
   "outputs": [
    {
     "name": "stdout",
     "output_type": "stream",
     "text": [
      "Z-Statistic: 3.5355339059327373\n",
      "P-Value: 0.00020347600872250293\n",
      "Reject the null hypothesis.\n"
     ]
    }
   ],
   "source": [
    "#The average weight of males is 70 kg, and for females, it is 65 kg. \n",
    "#Both groups have a standard deviation of 10 kg, with sample sizes of 100 each. Test if males weigh significantly more than females.\n",
    "# Given data\n",
    "mean1, mean2 = 70, 65\n",
    "std1, std2 = 10, 10\n",
    "n1, n2 = 100, 100\n",
    "\n",
    "# Calculate Z-Statistic\n",
    "z_stat = (mean1 - mean2) / np.sqrt((std1**2 / n1) + (std2**2 / n2))\n",
    "\n",
    "# Calculate p-value for a right-tailed test\n",
    "p_value = 1 - norm.cdf(z_stat)\n",
    "\n",
    "print(\"Z-Statistic:\", z_stat)\n",
    "print(\"P-Value:\", p_value)\n",
    "\n",
    "# Decision\n",
    "alpha = 0.05\n",
    "if p_value < alpha:\n",
    "    print(\"Reject the null hypothesis.\")\n",
    "else:\n",
    "    print(\"Fail to reject the null hypothesis.\")"
   ]
  },
  {
   "cell_type": "markdown",
   "id": "96fe54a7-b56b-4cab-8ece-cd5d09310815",
   "metadata": {},
   "source": [
    "| **Scenario**                               | **Test**                              | **Example**                                                                 |\n",
    "|--------------------------------------------|---------------------------------------|-----------------------------------------------------------------------------|\n",
    "| Numerical Data: 1 sample, mean comparison  | One-Sample Z-Test/T-Test             | Is the average height of students 5.5 feet?                                |\n",
    "| Numerical Data: 2 independent samples, mean comparison | Two-Sample T-Test/Z-Test            | Is the average salary of males different from females?                     |\n",
    "| Numerical Data: 2 related samples (paired) | Paired T-Test                        | Did a weight-loss program reduce weight (before vs. after)?                |\n",
    "| Numerical Data: 3+ groups, mean comparison | ANOVA                                | Does the test score differ among three teaching methods?                   |\n",
    "| Categorical Data: 1 variable, proportions  | Chi-Square Goodness-of-Fit Test      | Does a die roll follow a uniform distribution?                             |\n",
    "| Categorical Data: 2 variables, association | Chi-Square Test for Independence     | Is gender associated with voting preference?                               |\n",
    "| Numerical vs. Numerical: Correlation       | Pearson/Spearman Correlation         | Is there a relationship between income and happiness scores?               |\n",
    "| Numerical Data: Predicting one variable from another | Linear Regression                  | Does the number of study hours predict exam scores?                        |\n",
    "| Categorical Data: Predicting a category    | Logistic Regression                  | Can we predict whether a person will buy a product based on their income?  |"
   ]
  },
  {
   "cell_type": "markdown",
   "id": "3293ac12-0497-42d9-989b-2c32ebea29a7",
   "metadata": {},
   "source": [
    "### chi square test "
   ]
  },
  {
   "cell_type": "code",
   "execution_count": 429,
   "id": "a8fc143b-e2d7-4ec9-90b7-8536949e84e5",
   "metadata": {},
   "outputs": [
    {
     "name": "stdout",
     "output_type": "stream",
     "text": [
      "Chi-Square Statistic: 15.041666666666668\n",
      "P-Value: 0.00010516355403363098\n",
      "Degrees of Freedom: 1\n",
      "Expected Frequencies:\n",
      " [[20. 30.]\n",
      " [20. 30.]]\n",
      "Reject the null hypothesis: Variables are dependent.\n"
     ]
    }
   ],
   "source": [
    "from scipy.stats import chi2_contingency\n",
    "import numpy as np\n",
    "\n",
    "# Example Contingency Table\n",
    "data = np.array([[30, 20], [10, 40]])\n",
    "\n",
    "# Perform Chi-Square Test\n",
    "chi2, p_value, dof, expected = chi2_contingency(data)\n",
    "\n",
    "print(\"Chi-Square Statistic:\", chi2)\n",
    "print(\"P-Value:\", p_value)\n",
    "print(\"Degrees of Freedom:\", dof)\n",
    "print(\"Expected Frequencies:\\n\", expected)\n",
    "\n",
    "# Decision\n",
    "alpha = 0.05\n",
    "if p_value < alpha:\n",
    "    print(\"Reject the null hypothesis: Variables are dependent.\")\n",
    "else:\n",
    "    print(\"Fail to reject the null hypothesis: Variables are independent.\")"
   ]
  },
  {
   "cell_type": "markdown",
   "id": "4103d6b5-60af-46fe-903c-d51ff1e882af",
   "metadata": {},
   "source": [
    "### Mann-Whitney U Test\n"
   ]
  },
  {
   "cell_type": "code",
   "execution_count": 431,
   "id": "2c797b59-b75d-439c-99e6-3b401c3b8e54",
   "metadata": {},
   "outputs": [
    {
     "name": "stdout",
     "output_type": "stream",
     "text": [
      "Mann-Whitney U Statistic: 0.0\n",
      "P-Value: 0.007936507936507936\n",
      "Reject the null hypothesis: Groups differ.\n"
     ]
    }
   ],
   "source": [
    "from scipy.stats import mannwhitneyu\n",
    "\n",
    "# Sample Data (Independent Groups)\n",
    "group1 = [12, 15, 14, 10, 13]\n",
    "group2 = [22, 25, 19, 30, 27]\n",
    "\n",
    "# Perform Mann-Whitney U Test\n",
    "u_stat, p_value = mannwhitneyu(group1, group2, alternative='two-sided')\n",
    "\n",
    "print(\"Mann-Whitney U Statistic:\", u_stat)\n",
    "print(\"P-Value:\", p_value)\n",
    "\n",
    "# Decision\n",
    "alpha = 0.05\n",
    "if p_value < alpha:\n",
    "    print(\"Reject the null hypothesis: Groups differ.\")\n",
    "else:\n",
    "    print(\"Fail to reject the null hypothesis: Groups do not differ.\")"
   ]
  },
  {
   "cell_type": "markdown",
   "id": "ed5f5954-28b4-4ffa-9884-164eb759ef88",
   "metadata": {},
   "source": [
    "### Wilcoxxxon test "
   ]
  },
  {
   "cell_type": "code",
   "execution_count": 433,
   "id": "7f233c83-5717-4a3f-ac04-ef81350797e2",
   "metadata": {},
   "outputs": [
    {
     "name": "stdout",
     "output_type": "stream",
     "text": [
      "Wilcoxon Statistic: 0.0\n",
      "P-Value: 0.0625\n",
      "Fail to reject the null hypothesis: Groups do not differ.\n"
     ]
    }
   ],
   "source": [
    "from scipy.stats import wilcoxon\n",
    "\n",
    "# Sample Data (Paired Groups)\n",
    "before = [85, 90, 88, 92, 87]\n",
    "after = [80, 88, 85, 90, 83]\n",
    "\n",
    "# Perform Wilcoxon Signed-Rank Test\n",
    "stat, p_value = wilcoxon(before, after)\n",
    "\n",
    "print(\"Wilcoxon Statistic:\", stat)\n",
    "print(\"P-Value:\", p_value)\n",
    "\n",
    "# Decision\n",
    "alpha = 0.05\n",
    "if p_value < alpha:\n",
    "    print(\"Reject the null hypothesis: Groups differ.\")\n",
    "else:\n",
    "    print(\"Fail to reject the null hypothesis: Groups do not differ.\")"
   ]
  },
  {
   "cell_type": "markdown",
   "id": "dea9303f-ee31-4571-a22a-c91dbb1e2047",
   "metadata": {},
   "source": [
    "### ANOVA"
   ]
  },
  {
   "cell_type": "code",
   "execution_count": 435,
   "id": "131bb786-a40d-41df-8155-1b5656a98809",
   "metadata": {},
   "outputs": [
    {
     "name": "stdout",
     "output_type": "stream",
     "text": [
      "F-Statistic: 162.0\n",
      "P-Value: 2.0751610723423055e-09\n",
      "Reject the null hypothesis: At least one group mean is different.\n"
     ]
    }
   ],
   "source": [
    "from scipy.stats import f_oneway\n",
    "\n",
    "# Sample Data (Independent Groups)\n",
    "group1 = [10, 12, 14, 11, 13]\n",
    "group2 = [20, 21, 23, 19, 22]\n",
    "group3 = [30, 29, 31, 28, 32]\n",
    "\n",
    "# Perform One-Way ANOVA\n",
    "f_stat, p_value = f_oneway(group1, group2, group3)\n",
    "\n",
    "print(\"F-Statistic:\", f_stat)\n",
    "print(\"P-Value:\", p_value)\n",
    "\n",
    "# Decision\n",
    "alpha = 0.05\n",
    "if p_value < alpha:\n",
    "    print(\"Reject the null hypothesis: At least one group mean is different.\")\n",
    "else:\n",
    "    print(\"Fail to reject the null hypothesis: All group means are the same.\")"
   ]
  }
 ],
 "metadata": {
  "kernelspec": {
   "display_name": "Python 3 (ipykernel)",
   "language": "python",
   "name": "python3"
  },
  "language_info": {
   "codemirror_mode": {
    "name": "ipython",
    "version": 3
   },
   "file_extension": ".py",
   "mimetype": "text/x-python",
   "name": "python",
   "nbconvert_exporter": "python",
   "pygments_lexer": "ipython3",
   "version": "3.12.4"
  }
 },
 "nbformat": 4,
 "nbformat_minor": 5
}
