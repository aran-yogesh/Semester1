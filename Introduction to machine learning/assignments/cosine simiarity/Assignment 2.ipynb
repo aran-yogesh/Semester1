{
 "cells": [
  {
   "cell_type": "markdown",
   "id": "dd08818f-615b-4c2f-adff-b8fe4179c869",
   "metadata": {},
   "source": [
    "## Assignment 2 Cosine Similarity"
   ]
  },
  {
   "cell_type": "markdown",
   "id": "c019ed19-6764-409e-8614-cf33f45371c6",
   "metadata": {},
   "source": [
    "#### Importing numpy, Pandas and random"
   ]
  },
  {
   "cell_type": "code",
   "execution_count": 3,
   "id": "93d4abce-e204-4167-8ac7-dda2900f5bd5",
   "metadata": {
    "scrolled": true
   },
   "outputs": [
    {
     "data": {
      "text/html": [
       "<div>\n",
       "<style scoped>\n",
       "    .dataframe tbody tr th:only-of-type {\n",
       "        vertical-align: middle;\n",
       "    }\n",
       "\n",
       "    .dataframe tbody tr th {\n",
       "        vertical-align: top;\n",
       "    }\n",
       "\n",
       "    .dataframe thead th {\n",
       "        text-align: right;\n",
       "    }\n",
       "</style>\n",
       "<table border=\"1\" class=\"dataframe\">\n",
       "  <thead>\n",
       "    <tr style=\"text-align: right;\">\n",
       "      <th></th>\n",
       "      <th>Name</th>\n",
       "      <th>Party</th>\n",
       "      <th>State</th>\n",
       "      <th>B1</th>\n",
       "      <th>B2</th>\n",
       "      <th>B3</th>\n",
       "      <th>B4</th>\n",
       "      <th>B5</th>\n",
       "      <th>B6</th>\n",
       "      <th>B7</th>\n",
       "      <th>...</th>\n",
       "      <th>B37</th>\n",
       "      <th>B38</th>\n",
       "      <th>B39</th>\n",
       "      <th>B40</th>\n",
       "      <th>B41</th>\n",
       "      <th>B42</th>\n",
       "      <th>B43</th>\n",
       "      <th>B44</th>\n",
       "      <th>B45</th>\n",
       "      <th>B46</th>\n",
       "    </tr>\n",
       "  </thead>\n",
       "  <tbody>\n",
       "    <tr>\n",
       "      <th>0</th>\n",
       "      <td>Akaka</td>\n",
       "      <td>D</td>\n",
       "      <td>HI</td>\n",
       "      <td>-1</td>\n",
       "      <td>-1</td>\n",
       "      <td>1</td>\n",
       "      <td>1</td>\n",
       "      <td>1</td>\n",
       "      <td>-1</td>\n",
       "      <td>-1</td>\n",
       "      <td>...</td>\n",
       "      <td>1</td>\n",
       "      <td>-1</td>\n",
       "      <td>-1</td>\n",
       "      <td>1</td>\n",
       "      <td>-1</td>\n",
       "      <td>1</td>\n",
       "      <td>-1</td>\n",
       "      <td>1</td>\n",
       "      <td>1</td>\n",
       "      <td>-1</td>\n",
       "    </tr>\n",
       "    <tr>\n",
       "      <th>1</th>\n",
       "      <td>Alexander</td>\n",
       "      <td>R</td>\n",
       "      <td>TN</td>\n",
       "      <td>1</td>\n",
       "      <td>1</td>\n",
       "      <td>1</td>\n",
       "      <td>1</td>\n",
       "      <td>1</td>\n",
       "      <td>1</td>\n",
       "      <td>1</td>\n",
       "      <td>...</td>\n",
       "      <td>1</td>\n",
       "      <td>1</td>\n",
       "      <td>1</td>\n",
       "      <td>1</td>\n",
       "      <td>1</td>\n",
       "      <td>1</td>\n",
       "      <td>1</td>\n",
       "      <td>0</td>\n",
       "      <td>1</td>\n",
       "      <td>1</td>\n",
       "    </tr>\n",
       "    <tr>\n",
       "      <th>2</th>\n",
       "      <td>Allard</td>\n",
       "      <td>R</td>\n",
       "      <td>CO</td>\n",
       "      <td>1</td>\n",
       "      <td>1</td>\n",
       "      <td>1</td>\n",
       "      <td>1</td>\n",
       "      <td>1</td>\n",
       "      <td>1</td>\n",
       "      <td>1</td>\n",
       "      <td>...</td>\n",
       "      <td>1</td>\n",
       "      <td>1</td>\n",
       "      <td>1</td>\n",
       "      <td>1</td>\n",
       "      <td>1</td>\n",
       "      <td>1</td>\n",
       "      <td>1</td>\n",
       "      <td>1</td>\n",
       "      <td>1</td>\n",
       "      <td>1</td>\n",
       "    </tr>\n",
       "    <tr>\n",
       "      <th>3</th>\n",
       "      <td>Allen</td>\n",
       "      <td>R</td>\n",
       "      <td>VA</td>\n",
       "      <td>1</td>\n",
       "      <td>1</td>\n",
       "      <td>1</td>\n",
       "      <td>1</td>\n",
       "      <td>1</td>\n",
       "      <td>1</td>\n",
       "      <td>1</td>\n",
       "      <td>...</td>\n",
       "      <td>1</td>\n",
       "      <td>1</td>\n",
       "      <td>1</td>\n",
       "      <td>1</td>\n",
       "      <td>1</td>\n",
       "      <td>1</td>\n",
       "      <td>1</td>\n",
       "      <td>1</td>\n",
       "      <td>1</td>\n",
       "      <td>1</td>\n",
       "    </tr>\n",
       "    <tr>\n",
       "      <th>4</th>\n",
       "      <td>Baucus</td>\n",
       "      <td>D</td>\n",
       "      <td>MT</td>\n",
       "      <td>-1</td>\n",
       "      <td>1</td>\n",
       "      <td>1</td>\n",
       "      <td>1</td>\n",
       "      <td>1</td>\n",
       "      <td>1</td>\n",
       "      <td>-1</td>\n",
       "      <td>...</td>\n",
       "      <td>1</td>\n",
       "      <td>-1</td>\n",
       "      <td>1</td>\n",
       "      <td>0</td>\n",
       "      <td>1</td>\n",
       "      <td>1</td>\n",
       "      <td>-1</td>\n",
       "      <td>1</td>\n",
       "      <td>1</td>\n",
       "      <td>1</td>\n",
       "    </tr>\n",
       "  </tbody>\n",
       "</table>\n",
       "<p>5 rows × 49 columns</p>\n",
       "</div>"
      ],
      "text/plain": [
       "        Name Party State  B1  B2  B3  B4  B5  B6  B7  ...  B37  B38  B39  B40  \\\n",
       "0      Akaka     D    HI  -1  -1   1   1   1  -1  -1  ...    1   -1   -1    1   \n",
       "1  Alexander     R    TN   1   1   1   1   1   1   1  ...    1    1    1    1   \n",
       "2     Allard     R    CO   1   1   1   1   1   1   1  ...    1    1    1    1   \n",
       "3      Allen     R    VA   1   1   1   1   1   1   1  ...    1    1    1    1   \n",
       "4     Baucus     D    MT  -1   1   1   1   1   1  -1  ...    1   -1    1    0   \n",
       "\n",
       "   B41  B42  B43  B44  B45  B46  \n",
       "0   -1    1   -1    1    1   -1  \n",
       "1    1    1    1    0    1    1  \n",
       "2    1    1    1    1    1    1  \n",
       "3    1    1    1    1    1    1  \n",
       "4    1    1   -1    1    1    1  \n",
       "\n",
       "[5 rows x 49 columns]"
      ]
     },
     "execution_count": 3,
     "metadata": {},
     "output_type": "execute_result"
    }
   ],
   "source": [
    "import numpy as np\n",
    "import pandas as pd\n",
    "import random\n",
    "\n",
    "df = pd.read_csv(\"senate_votes.csv\")\n",
    "df.head()"
   ]
  },
  {
   "cell_type": "code",
   "execution_count": 3,
   "id": "881d4656-810d-4507-afc5-8a4859dd508e",
   "metadata": {
    "scrolled": true
   },
   "outputs": [
    {
     "name": "stdout",
     "output_type": "stream",
     "text": [
      "<class 'pandas.core.frame.DataFrame'>\n",
      "RangeIndex: 99 entries, 0 to 98\n",
      "Data columns (total 49 columns):\n",
      " #   Column  Non-Null Count  Dtype \n",
      "---  ------  --------------  ----- \n",
      " 0   Name    99 non-null     object\n",
      " 1   Party   99 non-null     object\n",
      " 2   State   99 non-null     object\n",
      " 3   B1      99 non-null     int64 \n",
      " 4   B2      99 non-null     int64 \n",
      " 5   B3      99 non-null     int64 \n",
      " 6   B4      99 non-null     int64 \n",
      " 7   B5      99 non-null     int64 \n",
      " 8   B6      99 non-null     int64 \n",
      " 9   B7      99 non-null     int64 \n",
      " 10  B8      99 non-null     int64 \n",
      " 11  B9      99 non-null     int64 \n",
      " 12  B10     99 non-null     int64 \n",
      " 13  B11     99 non-null     int64 \n",
      " 14  B12     99 non-null     int64 \n",
      " 15  B13     99 non-null     int64 \n",
      " 16  B14     99 non-null     int64 \n",
      " 17  B15     99 non-null     int64 \n",
      " 18  B16     99 non-null     int64 \n",
      " 19  B17     99 non-null     int64 \n",
      " 20  B18     99 non-null     int64 \n",
      " 21  B19     99 non-null     int64 \n",
      " 22  B20     99 non-null     int64 \n",
      " 23  B21     99 non-null     int64 \n",
      " 24  B22     99 non-null     int64 \n",
      " 25  B23     99 non-null     int64 \n",
      " 26  B24     99 non-null     int64 \n",
      " 27  B25     99 non-null     int64 \n",
      " 28  B26     99 non-null     int64 \n",
      " 29  B27     99 non-null     int64 \n",
      " 30  B28     99 non-null     int64 \n",
      " 31  B29     99 non-null     int64 \n",
      " 32  B30     99 non-null     int64 \n",
      " 33  B31     99 non-null     int64 \n",
      " 34  B32     99 non-null     int64 \n",
      " 35  B33     99 non-null     int64 \n",
      " 36  B34     99 non-null     int64 \n",
      " 37  B35     99 non-null     int64 \n",
      " 38  B36     99 non-null     int64 \n",
      " 39  B37     99 non-null     int64 \n",
      " 40  B38     99 non-null     int64 \n",
      " 41  B39     99 non-null     int64 \n",
      " 42  B40     99 non-null     int64 \n",
      " 43  B41     99 non-null     int64 \n",
      " 44  B42     99 non-null     int64 \n",
      " 45  B43     99 non-null     int64 \n",
      " 46  B44     99 non-null     int64 \n",
      " 47  B45     99 non-null     int64 \n",
      " 48  B46     99 non-null     int64 \n",
      "dtypes: int64(46), object(3)\n",
      "memory usage: 38.0+ KB\n"
     ]
    }
   ],
   "source": [
    "df.info()"
   ]
  },
  {
   "cell_type": "markdown",
   "id": "02aca5bd-19a4-451c-9525-7d0a43505340",
   "metadata": {},
   "source": [
    "There are 49 columns the first three are the senators Name, party and State and 46 Bills"
   ]
  },
  {
   "cell_type": "code",
   "execution_count": 5,
   "id": "a9be11ff-6c11-4b56-8359-4d2fd911433f",
   "metadata": {},
   "outputs": [
    {
     "data": {
      "text/plain": [
       "array(['D', 'R', 'I'], dtype=object)"
      ]
     },
     "execution_count": 5,
     "metadata": {},
     "output_type": "execute_result"
    }
   ],
   "source": [
    "df['Party'].unique()"
   ]
  },
  {
   "cell_type": "markdown",
   "id": "655ec1bc-35b0-4807-a56a-3c4567eec52f",
   "metadata": {},
   "source": [
    "There 2 different parties (Democrats, Republicans) and independent "
   ]
  },
  {
   "cell_type": "code",
   "execution_count": 9,
   "id": "77462da4-ee66-42ad-a28d-082c1ab0213f",
   "metadata": {},
   "outputs": [
    {
     "data": {
      "text/plain": [
       "array(['HI', 'TN', 'CO', 'VA', 'MT', 'IN', 'UT', 'DE', 'NM', 'MO', 'CA',\n",
       "       'KS', 'KY', 'NC', 'WV', 'WA', 'RI', 'GA', 'NY', 'OK', 'MS', 'MN',\n",
       "       'ME', 'ND', 'TX', 'ID', 'SC', 'OH', 'CT', 'IL', 'NV', 'WY', 'WI',\n",
       "       'IA', 'NH', 'NE', 'VT', 'SD', 'MA', 'AZ', 'LA', 'NJ', 'MI', 'AR',\n",
       "       'FL', 'MD', 'AK', 'PA', 'AL', 'OR'], dtype=object)"
      ]
     },
     "execution_count": 9,
     "metadata": {},
     "output_type": "execute_result"
    }
   ],
   "source": [
    "df['State'].unique()"
   ]
  },
  {
   "cell_type": "code",
   "execution_count": 11,
   "id": "213bfbe3-99da-4ed7-bfa9-0b86117f2732",
   "metadata": {},
   "outputs": [],
   "source": [
    "def cosine_similarity(u,v):\n",
    "    dot = np.dot(u,v)\n",
    "    u_norm = np.linalg.norm(u)\n",
    "    v_norm = np.linalg.norm(v)\n",
    "    return dot / (u_norm * v_norm)\n",
    "\n",
    "def cosine_distance(u,v):\n",
    "    cosd = 1 - cosine_similarity\n",
    "    print('the cosine distance', cosd)"
   ]
  },
  {
   "cell_type": "markdown",
   "id": "e16e7ecc-0750-4c91-83e3-03626e2a4afa",
   "metadata": {},
   "source": [
    "There are two distinct functions: one computes cosine similarity, and the other calculates cosine distance"
   ]
  },
  {
   "cell_type": "markdown",
   "id": "a00e4426-6b87-4dc9-98ad-c1ca3eb2be18",
   "metadata": {},
   "source": [
    "### 1. Find the senator whose voting record is closest to Rhode Island senator, Lincoln Chafee."
   ]
  },
  {
   "cell_type": "code",
   "execution_count": 7,
   "id": "ccfc7d88-8170-4520-9ece-fffc1dbc6984",
   "metadata": {},
   "outputs": [
    {
     "data": {
      "text/html": [
       "<div>\n",
       "<style scoped>\n",
       "    .dataframe tbody tr th:only-of-type {\n",
       "        vertical-align: middle;\n",
       "    }\n",
       "\n",
       "    .dataframe tbody tr th {\n",
       "        vertical-align: top;\n",
       "    }\n",
       "\n",
       "    .dataframe thead th {\n",
       "        text-align: right;\n",
       "    }\n",
       "</style>\n",
       "<table border=\"1\" class=\"dataframe\">\n",
       "  <thead>\n",
       "    <tr style=\"text-align: right;\">\n",
       "      <th></th>\n",
       "      <th>B1</th>\n",
       "      <th>B2</th>\n",
       "      <th>B3</th>\n",
       "      <th>B4</th>\n",
       "      <th>B5</th>\n",
       "      <th>B6</th>\n",
       "      <th>B7</th>\n",
       "      <th>B8</th>\n",
       "      <th>B9</th>\n",
       "      <th>B10</th>\n",
       "      <th>...</th>\n",
       "      <th>B37</th>\n",
       "      <th>B38</th>\n",
       "      <th>B39</th>\n",
       "      <th>B40</th>\n",
       "      <th>B41</th>\n",
       "      <th>B42</th>\n",
       "      <th>B43</th>\n",
       "      <th>B44</th>\n",
       "      <th>B45</th>\n",
       "      <th>B46</th>\n",
       "    </tr>\n",
       "  </thead>\n",
       "  <tbody>\n",
       "    <tr>\n",
       "      <th>18</th>\n",
       "      <td>1</td>\n",
       "      <td>-1</td>\n",
       "      <td>1</td>\n",
       "      <td>1</td>\n",
       "      <td>1</td>\n",
       "      <td>1</td>\n",
       "      <td>-1</td>\n",
       "      <td>1</td>\n",
       "      <td>1</td>\n",
       "      <td>1</td>\n",
       "      <td>...</td>\n",
       "      <td>1</td>\n",
       "      <td>-1</td>\n",
       "      <td>-1</td>\n",
       "      <td>1</td>\n",
       "      <td>1</td>\n",
       "      <td>1</td>\n",
       "      <td>-1</td>\n",
       "      <td>1</td>\n",
       "      <td>1</td>\n",
       "      <td>-1</td>\n",
       "    </tr>\n",
       "  </tbody>\n",
       "</table>\n",
       "<p>1 rows × 46 columns</p>\n",
       "</div>"
      ],
      "text/plain": [
       "    B1  B2  B3  B4  B5  B6  B7  B8  B9  B10  ...  B37  B38  B39  B40  B41  \\\n",
       "18   1  -1   1   1   1   1  -1   1   1    1  ...    1   -1   -1    1    1   \n",
       "\n",
       "    B42  B43  B44  B45  B46  \n",
       "18    1   -1    1    1   -1  \n",
       "\n",
       "[1 rows x 46 columns]"
      ]
     },
     "execution_count": 7,
     "metadata": {},
     "output_type": "execute_result"
    }
   ],
   "source": [
    "RI_senator = df.loc[df['Name'] == 'Chafee','B1':'B46']\n",
    "RI_senator"
   ]
  },
  {
   "cell_type": "markdown",
   "id": "e696bfb1-c4de-47b0-89a8-da11ace5c214",
   "metadata": {},
   "source": [
    "Lets take the Rhode island senator Chafee records as the reference "
   ]
  },
  {
   "cell_type": "code",
   "execution_count": 13,
   "id": "755ac7c0-a4b1-412a-9729-ccafa0b031ab",
   "metadata": {},
   "outputs": [
    {
     "data": {
      "text/plain": [
       "array([ 1, -1,  1,  1,  1,  1, -1,  1,  1,  1,  1,  1,  1,  1,  1,  1,  1,\n",
       "        1,  0,  1,  1,  1,  1,  1,  1,  1, -1,  1,  1,  1,  1,  0,  1,  1,\n",
       "        0,  1,  1, -1, -1,  1,  1,  1, -1,  1,  1, -1])"
      ]
     },
     "execution_count": 13,
     "metadata": {},
     "output_type": "execute_result"
    }
   ],
   "source": [
    "RI_refrence_senator = df.loc[df['Name'] == 'Chafee','B1':'B46'].to_numpy().flatten()\n",
    "RI_refrence_senator"
   ]
  },
  {
   "cell_type": "code",
   "execution_count": 15,
   "id": "b4b82fb7-b529-4a10-b577-4f87f1896913",
   "metadata": {},
   "outputs": [
    {
     "name": "stdout",
     "output_type": "stream",
     "text": [
      "     senator  Cosine Similarity  Cosine Distance\n",
      "18    Chafee           1.000000    -2.220446e-16\n",
      "52  Jeffords           0.909326     9.067421e-02\n",
      "71    Murray           0.841126     1.588736e-01\n",
      "8   Bingaman           0.818393     1.816068e-01\n",
      "16  Cantwell           0.786964     2.130359e-01\n",
      "..       ...                ...              ...\n",
      "42    Graham           0.382240     6.177603e-01\n",
      "38      Enzi           0.344850     6.551496e-01\n",
      "49    Inhofe           0.318264     6.817360e-01\n",
      "91    Sununu           0.279070     7.209302e-01\n",
      "21    Coburn           0.272798     7.272023e-01\n",
      "\n",
      "[99 rows x 3 columns]\n",
      "\n",
      "Senator who is closest to Chafee:\n",
      "senator              Jeffords\n",
      "Cosine Similarity    0.909326\n",
      "Cosine Distance      0.090674\n",
      "Name: 52, dtype: object\n"
     ]
    }
   ],
   "source": [
    "def cosine_similarity(u,v):\n",
    "    dot = np.dot(u,v)\n",
    "    u_norm = np.linalg.norm(u)\n",
    "    v_norm = np.linalg.norm(v)\n",
    "    return dot / (u_norm * v_norm)\n",
    "\n",
    "def cosine_distance(u,v):\n",
    "    cosd = 1 - cosine_similarity(u,v)\n",
    "    return cosd\n",
    "    \n",
    "\n",
    "result = []\n",
    "\n",
    "for i, r in df.iterrows():\n",
    "    senator_lastname = r['Name']\n",
    "    comparison_records = r['B1':'B46']\n",
    "\n",
    "    similarity = cosine_similarity(RI_refrence_senator,comparison_records)\n",
    "    distance = cosine_distance(RI_refrence_senator,comparison_records)\n",
    "\n",
    "    result.append({'senator':senator_lastname,'Cosine Similarity':similarity,'Cosine Distance':distance})\n",
    "\n",
    "result_df = pd.DataFrame(result)\n",
    "result_df_sorted = result_df.sort_values(by = 'Cosine Similarity',ascending = False )\n",
    "Closest_senator = result_df_sorted.iloc[1]\n",
    "print(result_df_sorted)\n",
    "print(\"\\nSenator who is closest to Chafee:\")\n",
    "print(Closest_senator)\n"
   ]
  },
  {
   "cell_type": "markdown",
   "id": "fcd93c94-8a20-4998-aaed-0fe0ce627d77",
   "metadata": {},
   "source": [
    "We take a reference senator as the starting point and traverse through the entire dataset, calculating cosine similarity and distance for each senator. This allows us to identify senators with voting patterns most similar or dissimilar to the reference senator. \n",
    "\n",
    "Jefford's voting pattern is most similar to Chafee's, as evidenced by their high cosine similarity. A higher cosine similarity implies a smaller angular difference between their voting vectors."
   ]
  },
  {
   "cell_type": "markdown",
   "id": "6526d15c-8286-4132-bd6f-38ceea14d21b",
   "metadata": {},
   "source": [
    "### 2.Find the senator who disagrees most with Pennsylvania senator, Rick Santorum."
   ]
  },
  {
   "cell_type": "markdown",
   "id": "401d2f1b-63b8-4ad3-bc0d-73749056a23a",
   "metadata": {},
   "source": [
    "we take pennsylvania senator as the refrence senator"
   ]
  },
  {
   "cell_type": "code",
   "execution_count": 19,
   "id": "0007de87-e066-41b5-88f3-ce5a387ab373",
   "metadata": {},
   "outputs": [
    {
     "data": {
      "text/html": [
       "<div>\n",
       "<style scoped>\n",
       "    .dataframe tbody tr th:only-of-type {\n",
       "        vertical-align: middle;\n",
       "    }\n",
       "\n",
       "    .dataframe tbody tr th {\n",
       "        vertical-align: top;\n",
       "    }\n",
       "\n",
       "    .dataframe thead th {\n",
       "        text-align: right;\n",
       "    }\n",
       "</style>\n",
       "<table border=\"1\" class=\"dataframe\">\n",
       "  <thead>\n",
       "    <tr style=\"text-align: right;\">\n",
       "      <th></th>\n",
       "      <th>Name</th>\n",
       "      <th>Party</th>\n",
       "      <th>State</th>\n",
       "      <th>B1</th>\n",
       "      <th>B2</th>\n",
       "      <th>B3</th>\n",
       "      <th>B4</th>\n",
       "      <th>B5</th>\n",
       "      <th>B6</th>\n",
       "      <th>B7</th>\n",
       "      <th>...</th>\n",
       "      <th>B37</th>\n",
       "      <th>B38</th>\n",
       "      <th>B39</th>\n",
       "      <th>B40</th>\n",
       "      <th>B41</th>\n",
       "      <th>B42</th>\n",
       "      <th>B43</th>\n",
       "      <th>B44</th>\n",
       "      <th>B45</th>\n",
       "      <th>B46</th>\n",
       "    </tr>\n",
       "  </thead>\n",
       "  <tbody>\n",
       "    <tr>\n",
       "      <th>81</th>\n",
       "      <td>Santorum</td>\n",
       "      <td>R</td>\n",
       "      <td>PA</td>\n",
       "      <td>0</td>\n",
       "      <td>1</td>\n",
       "      <td>1</td>\n",
       "      <td>1</td>\n",
       "      <td>1</td>\n",
       "      <td>1</td>\n",
       "      <td>1</td>\n",
       "      <td>...</td>\n",
       "      <td>1</td>\n",
       "      <td>1</td>\n",
       "      <td>1</td>\n",
       "      <td>1</td>\n",
       "      <td>1</td>\n",
       "      <td>1</td>\n",
       "      <td>1</td>\n",
       "      <td>1</td>\n",
       "      <td>1</td>\n",
       "      <td>1</td>\n",
       "    </tr>\n",
       "  </tbody>\n",
       "</table>\n",
       "<p>1 rows × 49 columns</p>\n",
       "</div>"
      ],
      "text/plain": [
       "        Name Party State  B1  B2  B3  B4  B5  B6  B7  ...  B37  B38  B39  B40  \\\n",
       "81  Santorum     R    PA   0   1   1   1   1   1   1  ...    1    1    1    1   \n",
       "\n",
       "    B41  B42  B43  B44  B45  B46  \n",
       "81    1    1    1    1    1    1  \n",
       "\n",
       "[1 rows x 49 columns]"
      ]
     },
     "execution_count": 19,
     "metadata": {},
     "output_type": "execute_result"
    }
   ],
   "source": [
    "PA_senator = df.loc[df['Name'] == 'Santorum']\n",
    "PA_senator"
   ]
  },
  {
   "cell_type": "code",
   "execution_count": 13,
   "id": "68b1729a-4c4f-4761-ab32-062bf51a6472",
   "metadata": {},
   "outputs": [
    {
     "data": {
      "text/plain": [
       "array([ 0,  1,  1,  1,  1,  1,  1,  1,  1,  1,  1, -1,  1,  1,  1,  1,  1,\n",
       "        1,  1,  1,  1,  1,  1, -1,  1,  1,  1,  1,  1,  1,  1,  1,  1,  1,\n",
       "        1,  1,  1,  1,  1,  1,  1,  1,  1,  1,  1,  1])"
      ]
     },
     "execution_count": 13,
     "metadata": {},
     "output_type": "execute_result"
    }
   ],
   "source": [
    "PA_reference_senator = df.loc[df['Name'] == 'Santorum','B1':'B46']\n",
    "PA_reference_senator = PA_reference_senator.to_numpy().flatten()\n",
    "PA_reference_senator"
   ]
  },
  {
   "cell_type": "code",
   "execution_count": 15,
   "id": "6f32eabb-6a55-4dbc-aac3-0c661d1e1f92",
   "metadata": {
    "scrolled": true
   },
   "outputs": [
    {
     "name": "stdout",
     "output_type": "stream",
     "text": [
      "     Senator  Cosine Similarity  Cosine Distance\n",
      "39  Feingold           0.065938     9.340620e-01\n",
      "76      Reed           0.285732     7.142685e-01\n",
      "0      Akaka           0.292153     7.078467e-01\n",
      "60     Leahy           0.292153     7.078467e-01\n",
      "10     Boxer           0.311111     6.888889e-01\n",
      "..       ...                ...              ...\n",
      "92    Talent           0.989071     1.092929e-02\n",
      "3      Allen           0.989071     1.092929e-02\n",
      "43  Grassley           0.989071     1.092929e-02\n",
      "9       Bond           0.989071     1.092929e-02\n",
      "81  Santorum           1.000000     1.110223e-16\n",
      "\n",
      "[99 rows x 3 columns]\n",
      "\n",
      "Senator who disagrees most with Rick Santorum:\n",
      "Senator              Feingold\n",
      "Cosine Similarity    0.065938\n",
      "Cosine Distance      0.934062\n",
      "Name: 39, dtype: object\n"
     ]
    }
   ],
   "source": [
    "def cosine_similarity(u,v):\n",
    "    dot = np.dot(u,v)\n",
    "    u_norm = np.linalg.norm(u)\n",
    "    v_norm = np.linalg.norm(v)\n",
    "    return dot / (u_norm * v_norm)\n",
    "\n",
    "def cosine_distance(u,v):\n",
    "    cosd = 1 - cosine_similarity(u,v)\n",
    "    return cosd\n",
    "    \n",
    "results = []\n",
    "\n",
    "for i,r in df.iterrows():\n",
    "    comparison_senator = r['Name']\n",
    "    comparison_record = r['B1':'B46']\n",
    "\n",
    "    similarity = cosine_similarity(PA_reference_senator,comparison_record)\n",
    "    distance = cosine_distance(PA_reference_senator,comparison_record)\n",
    "\n",
    "    results.append({'Senator':comparison_senator,'Cosine Similarity':similarity,'Cosine Distance':distance})\n",
    "\n",
    "results_df = pd.DataFrame(results)\n",
    "results_df_sorted = results_df.sort_values(by = 'Cosine Distance',ascending = False)\n",
    "most_disagreement = results_df_sorted.loc[results_df_sorted['Cosine Distance'].idxmax()]\n",
    "print(results_df_sorted)\n",
    "print(\"\\nSenator who disagrees most with Rick Santorum:\")\n",
    "print(most_disagreement)"
   ]
  },
  {
   "cell_type": "markdown",
   "id": "6276929b-33b8-467f-8119-4b1cc4dc6e83",
   "metadata": {},
   "source": [
    "By selecting a reference senator and comparing their voting record to every other senator, we can identify those who are most dissimilar, as measured by cosine distance. The senator with the highest cosine distance is the one who disagrees most with the reference senator."
   ]
  },
  {
   "cell_type": "markdown",
   "id": "4adf2787-1ec3-48bd-a920-df531ac68e82",
   "metadata": {},
   "source": [
    "### 3. Compare Jefford's record with each of these 10 senators. Would you classify Jeffords as closer to the Democrats or a Republicans?"
   ]
  },
  {
   "cell_type": "code",
   "execution_count": 25,
   "id": "bcf8d6f4-08be-4ad4-beb8-68d33c79aa47",
   "metadata": {},
   "outputs": [
    {
     "data": {
      "text/plain": [
       "array([ 1, -1,  1, -1,  1,  1, -1,  1,  1,  1,  1,  1,  1,  1,  1,  1,  1,\n",
       "        1,  1,  1,  1,  1,  1,  1,  1,  1, -1,  1,  1,  1,  1,  1,  1,  1,\n",
       "        1,  1,  1, -1, -1,  1,  0,  1, -1,  1,  1, -1])"
      ]
     },
     "execution_count": 25,
     "metadata": {},
     "output_type": "execute_result"
    }
   ],
   "source": [
    "Jim_jeffords_record = df.loc[df['Name'] == 'Jeffords','B1':'B46']\n",
    "Jim_jeffords_record = Jim_jeffords_record.to_numpy().flatten()\n",
    "Jim_jeffords_record"
   ]
  },
  {
   "cell_type": "code",
   "execution_count": 27,
   "id": "c98c5e9e-67d8-4446-a630-5c88a2c6e40c",
   "metadata": {
    "scrolled": true
   },
   "outputs": [
    {
     "name": "stdout",
     "output_type": "stream",
     "text": [
      "Average similarity to Democrats: 0.6117809306785664\n",
      "Average similarity to Republicans: 0.5472737159884478\n",
      "Jim Jeffords was closer to Democratic\n"
     ]
    }
   ],
   "source": [
    "D_senator = df[df['Party'] == 'D']\n",
    "R_senator = df[df['Party'] == 'R']\n",
    "\n",
    "random.seed(42)\n",
    "\n",
    "D = D_senator.sample(5,random_state=42)\n",
    "R = R_senator.sample(5,random_state=42)\n",
    "\n",
    "D_similarities = []\n",
    "R_similarities = []\n",
    "\n",
    "for i,r in D.iterrows():\n",
    "    v_record = r['B1':'B46'].to_numpy()\n",
    "    similarity = cosine_similarity(Jim_jeffords_record,v_record)\n",
    "    D_similarities.append(similarity)\n",
    "\n",
    "for i,r in R.iterrows():\n",
    "    v_record = r['B1':'B46'].to_numpy()\n",
    "    similarity = cosine_similarity(Jim_jeffords_record,v_record)\n",
    "    R_similarities.append(similarity)\n",
    "\n",
    "avg_D_similarities = np.mean(D_similarities)\n",
    "avg_R_similarities = np.mean(R_similarities)\n",
    "\n",
    "\n",
    "print(f'Average similarity to Democrats: {avg_D_similarities}')\n",
    "print(f'Average similarity to Republicans: {avg_R_similarities}')\n",
    "\n",
    "if avg_D_similarities > avg_R_similarities:\n",
    "    print(\"Jim Jeffords was closer to Democrat\")\n",
    "else:\n",
    "    print(\"Jim Jeffords was closer to Republican\")\n",
    "    \n"
   ]
  },
  {
   "cell_type": "markdown",
   "id": "d9bbd1a2-6714-4650-a21e-4e7573c96268",
   "metadata": {},
   "source": [
    "The average similarities are compared and gives quantitative measure of Jim Jeffords' political alignment by comparing his voting record to a sample of Democratic and Republican senators."
   ]
  }
 ],
 "metadata": {
  "kernelspec": {
   "display_name": "Python 3 (ipykernel)",
   "language": "python",
   "name": "python3"
  },
  "language_info": {
   "codemirror_mode": {
    "name": "ipython",
    "version": 3
   },
   "file_extension": ".py",
   "mimetype": "text/x-python",
   "name": "python",
   "nbconvert_exporter": "python",
   "pygments_lexer": "ipython3",
   "version": "3.12.4"
  }
 },
 "nbformat": 4,
 "nbformat_minor": 5
}
