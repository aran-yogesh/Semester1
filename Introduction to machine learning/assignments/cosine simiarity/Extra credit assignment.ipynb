{
 "cells": [
  {
   "cell_type": "markdown",
   "id": "e719e268-9553-4401-8e90-1cdbebfcbcff",
   "metadata": {},
   "source": [
    "## Extra credit assignment \n"
   ]
  },
  {
   "cell_type": "markdown",
   "id": "1b4f5cf4-770e-4727-9e6b-c23708bc346b",
   "metadata": {},
   "source": [
    "I gathere data of Last week Roll Call Votes 118th Congress - 2nd Session (2024)"
   ]
  },
  {
   "cell_type": "code",
   "execution_count": 105,
   "id": "12ad945f-06bc-4067-94f1-50909f087ea1",
   "metadata": {},
   "outputs": [
    {
     "data": {
      "text/html": [
       "<div>\n",
       "<style scoped>\n",
       "    .dataframe tbody tr th:only-of-type {\n",
       "        vertical-align: middle;\n",
       "    }\n",
       "\n",
       "    .dataframe tbody tr th {\n",
       "        vertical-align: top;\n",
       "    }\n",
       "\n",
       "    .dataframe thead th {\n",
       "        text-align: right;\n",
       "    }\n",
       "</style>\n",
       "<table border=\"1\" class=\"dataframe\">\n",
       "  <thead>\n",
       "    <tr style=\"text-align: right;\">\n",
       "      <th></th>\n",
       "      <th>Name</th>\n",
       "      <th>Party</th>\n",
       "      <th>State</th>\n",
       "      <th>B0</th>\n",
       "      <th>B1</th>\n",
       "      <th>B2</th>\n",
       "      <th>B3</th>\n",
       "      <th>B4</th>\n",
       "      <th>B5</th>\n",
       "      <th>B6</th>\n",
       "      <th>B7</th>\n",
       "      <th>B8</th>\n",
       "      <th>B9</th>\n",
       "      <th>B10</th>\n",
       "    </tr>\n",
       "  </thead>\n",
       "  <tbody>\n",
       "    <tr>\n",
       "      <th>0</th>\n",
       "      <td>Baldwin</td>\n",
       "      <td>D</td>\n",
       "      <td>WI</td>\n",
       "      <td>Yea</td>\n",
       "      <td>Yea</td>\n",
       "      <td>Yea</td>\n",
       "      <td>Yea</td>\n",
       "      <td>Yea</td>\n",
       "      <td>Yea</td>\n",
       "      <td>Yea</td>\n",
       "      <td>Yea</td>\n",
       "      <td>Yea</td>\n",
       "      <td>Yea</td>\n",
       "      <td>Yea</td>\n",
       "    </tr>\n",
       "    <tr>\n",
       "      <th>1</th>\n",
       "      <td>Barrasso</td>\n",
       "      <td>R</td>\n",
       "      <td>WY</td>\n",
       "      <td>Nay</td>\n",
       "      <td>Nay</td>\n",
       "      <td>Nay</td>\n",
       "      <td>Nay</td>\n",
       "      <td>Nay</td>\n",
       "      <td>Nay</td>\n",
       "      <td>Nay</td>\n",
       "      <td>Nay</td>\n",
       "      <td>Nay</td>\n",
       "      <td>Nay</td>\n",
       "      <td>Nay</td>\n",
       "    </tr>\n",
       "    <tr>\n",
       "      <th>2</th>\n",
       "      <td>Bennet</td>\n",
       "      <td>D</td>\n",
       "      <td>CO</td>\n",
       "      <td>Yea</td>\n",
       "      <td>Yea</td>\n",
       "      <td>Yea</td>\n",
       "      <td>Yea</td>\n",
       "      <td>Yea</td>\n",
       "      <td>Yea</td>\n",
       "      <td>Yea</td>\n",
       "      <td>Yea</td>\n",
       "      <td>Yea</td>\n",
       "      <td>Yea</td>\n",
       "      <td>Yea</td>\n",
       "    </tr>\n",
       "    <tr>\n",
       "      <th>3</th>\n",
       "      <td>Blackburn</td>\n",
       "      <td>R</td>\n",
       "      <td>TN</td>\n",
       "      <td>Not Voting</td>\n",
       "      <td>Nay</td>\n",
       "      <td>Nay</td>\n",
       "      <td>Nay</td>\n",
       "      <td>Nay</td>\n",
       "      <td>Nay</td>\n",
       "      <td>Nay</td>\n",
       "      <td>Nay</td>\n",
       "      <td>Nay</td>\n",
       "      <td>Nay</td>\n",
       "      <td>Nay</td>\n",
       "    </tr>\n",
       "    <tr>\n",
       "      <th>4</th>\n",
       "      <td>Blumenthal</td>\n",
       "      <td>D</td>\n",
       "      <td>CT</td>\n",
       "      <td>Yea</td>\n",
       "      <td>Yea</td>\n",
       "      <td>Yea</td>\n",
       "      <td>Yea</td>\n",
       "      <td>Yea</td>\n",
       "      <td>Yea</td>\n",
       "      <td>Yea</td>\n",
       "      <td>Yea</td>\n",
       "      <td>Yea</td>\n",
       "      <td>Yea</td>\n",
       "      <td>Yea</td>\n",
       "    </tr>\n",
       "  </tbody>\n",
       "</table>\n",
       "</div>"
      ],
      "text/plain": [
       "         Name Party State          B0   B1   B2   B3   B4   B5   B6   B7   B8  \\\n",
       "0     Baldwin     D    WI         Yea  Yea  Yea  Yea  Yea  Yea  Yea  Yea  Yea   \n",
       "1    Barrasso     R    WY         Nay  Nay  Nay  Nay  Nay  Nay  Nay  Nay  Nay   \n",
       "2      Bennet     D    CO         Yea  Yea  Yea  Yea  Yea  Yea  Yea  Yea  Yea   \n",
       "3   Blackburn     R    TN  Not Voting  Nay  Nay  Nay  Nay  Nay  Nay  Nay  Nay   \n",
       "4  Blumenthal     D    CT         Yea  Yea  Yea  Yea  Yea  Yea  Yea  Yea  Yea   \n",
       "\n",
       "    B9  B10  \n",
       "0  Yea  Yea  \n",
       "1  Nay  Nay  \n",
       "2  Yea  Yea  \n",
       "3  Nay  Nay  \n",
       "4  Yea  Yea  "
      ]
     },
     "execution_count": 105,
     "metadata": {},
     "output_type": "execute_result"
    }
   ],
   "source": [
    "import pandas as pd\n",
    "import numpy as np \n",
    "import random\n",
    "df = pd.read_csv('creditdata.csv')\n",
    "df.head()"
   ]
  },
  {
   "cell_type": "code",
   "execution_count": 107,
   "id": "09c9ad1b-e6d2-4d9c-bf65-6542b8a7c831",
   "metadata": {},
   "outputs": [
    {
     "data": {
      "text/plain": [
       "<bound method DataFrame.info of           Name Party State          B0          B1          B2          B3  \\\n",
       "0      Baldwin     D    WI         Yea         Yea         Yea         Yea   \n",
       "1     Barrasso     R    WY         Nay         Nay         Nay         Nay   \n",
       "2       Bennet     D    CO         Yea         Yea         Yea         Yea   \n",
       "3    Blackburn     R    TN  Not Voting         Nay         Nay         Nay   \n",
       "4   Blumenthal     D    CT         Yea         Yea         Yea         Yea   \n",
       "..         ...   ...   ...         ...         ...         ...         ...   \n",
       "95       Welch     D    VT         Yea         Yea         Yea         Yea   \n",
       "96  Whitehouse     D    RI         Yea  Not Voting  Not Voting  Not Voting   \n",
       "97      Wicker     R    MS         Nay         Nay         Nay         Nay   \n",
       "98       Wyden     D    OR         Yea         Yea         Yea         Yea   \n",
       "99       Young     R    IN         Nay         Nay         Nay         Nay   \n",
       "\n",
       "            B4   B5   B6   B7   B8          B9  B10  \n",
       "0          Yea  Yea  Yea  Yea  Yea         Yea  Yea  \n",
       "1          Nay  Nay  Nay  Nay  Nay         Nay  Nay  \n",
       "2          Yea  Yea  Yea  Yea  Yea         Yea  Yea  \n",
       "3          Nay  Nay  Nay  Nay  Nay         Nay  Nay  \n",
       "4          Yea  Yea  Yea  Yea  Yea         Yea  Yea  \n",
       "..         ...  ...  ...  ...  ...         ...  ...  \n",
       "95         Yea  Yea  Yea  Yea  Yea         Yea  Yea  \n",
       "96  Not Voting  Yea  Yea  Yea  Yea         Yea  Yea  \n",
       "97         Nay  Nay  Nay  Nay  Nay  Not Voting  Nay  \n",
       "98         Yea  Yea  Yea  Yea  Yea         Yea  Yea  \n",
       "99         Nay  Nay  Nay  Nay  Nay         Nay  Nay  \n",
       "\n",
       "[100 rows x 14 columns]>"
      ]
     },
     "execution_count": 107,
     "metadata": {},
     "output_type": "execute_result"
    }
   ],
   "source": [
    "df.info"
   ]
  },
  {
   "cell_type": "code",
   "execution_count": 109,
   "id": "53da1e0a-6df2-4fb7-b11b-474d2eca24ce",
   "metadata": {},
   "outputs": [
    {
     "name": "stdout",
     "output_type": "stream",
     "text": [
      "         Name Party State  B0  B1  B2  B3  B4  B5  B6  B7  B8  B9  B10\n",
      "0     Baldwin     D    WI   1   1   1   1   1   1   1   1   1   1    1\n",
      "1    Barrasso     R    WY  -1  -1  -1  -1  -1  -1  -1  -1  -1  -1   -1\n",
      "2      Bennet     D    CO   1   1   1   1   1   1   1   1   1   1    1\n",
      "3   Blackburn     R    TN   0  -1  -1  -1  -1  -1  -1  -1  -1  -1   -1\n",
      "4  Blumenthal     D    CT   1   1   1   1   1   1   1   1   1   1    1\n"
     ]
    }
   ],
   "source": [
    "columns_to_fill = df.columns[3:13]  \n",
    "\n",
    "\n",
    "df[columns_to_fill] = df[columns_to_fill].fillna('Abstain')\n",
    "\n",
    "vote_map = {'Yea': 1, 'Nay': -1, 'Not Voting': 0, 'Abstain': -2}\n",
    "\n",
    "for col in df.columns[3:14]:\n",
    "    df[col] = df[col].map(vote_map)\n",
    "\n",
    "print(df.head())"
   ]
  },
  {
   "cell_type": "code",
   "execution_count": 111,
   "id": "1b2c0c14-9cd1-4978-8933-3cb426c25135",
   "metadata": {},
   "outputs": [
    {
     "data": {
      "text/plain": [
       "array(['D', 'R', 'I'], dtype=object)"
      ]
     },
     "execution_count": 111,
     "metadata": {},
     "output_type": "execute_result"
    }
   ],
   "source": [
    "df['Party'].unique()"
   ]
  },
  {
   "cell_type": "code",
   "execution_count": 113,
   "id": "88cade2b-df4a-496e-812b-5f0523e718b1",
   "metadata": {},
   "outputs": [
    {
     "data": {
      "text/plain": [
       "array(['WI', 'WY', 'CO', 'TN', 'CT', 'NJ', 'AR', 'IN', 'AL', 'OH', 'NC',\n",
       "       'CA', 'WA', 'WV', 'MD', 'DE', 'PA', 'LA', 'ME', 'TX', 'NV', 'ND',\n",
       "       'ID', 'MT', 'IL', 'IA', 'NE', 'NY', 'SC', 'NH', 'MO', 'NM', 'HI',\n",
       "       'MS', 'VA', 'AZ', 'MN', 'OK', 'UT', 'MA', 'KS', 'KY', 'OR', 'AK',\n",
       "       'GA', 'MI', 'RI', 'SD', 'FL', 'VT'], dtype=object)"
      ]
     },
     "execution_count": 113,
     "metadata": {},
     "output_type": "execute_result"
    }
   ],
   "source": [
    "df['State'].unique()"
   ]
  },
  {
   "cell_type": "raw",
   "id": "e5edebee-8352-4cfa-a467-5659852d76fa",
   "metadata": {},
   "source": [
    "here i choose a senator Carper to check whose voting is closest to him"
   ]
  },
  {
   "cell_type": "code",
   "execution_count": 115,
   "id": "573e4fb1-b98d-41ba-9948-8750fdd004ed",
   "metadata": {},
   "outputs": [
    {
     "data": {
      "text/plain": [
       "array([1, 1, 1, 1, 1, 1, 1, 1, 1, 1, 1])"
      ]
     },
     "execution_count": 115,
     "metadata": {},
     "output_type": "execute_result"
    }
   ],
   "source": [
    "RI_senator = df.loc[df['Name'] == 'Carper','B0':'B10'].to_numpy().flatten()\n",
    "RI_senator"
   ]
  },
  {
   "cell_type": "code",
   "execution_count": 117,
   "id": "820c322f-3da1-4d29-ab02-13e8d39a394a",
   "metadata": {},
   "outputs": [
    {
     "name": "stdout",
     "output_type": "stream",
     "text": [
      "       senator  Cosine Similarity  Cosine Distance\n",
      "0      Baldwin                1.0              0.0\n",
      "86      Tester                1.0              0.0\n",
      "90  Van Hollen                1.0              0.0\n",
      "32  Gillibrand                1.0              0.0\n",
      "36      Hassan                1.0              0.0\n",
      "..         ...                ...              ...\n",
      "43     Johnson               -1.0              2.0\n",
      "1     Barrasso               -1.0              2.0\n",
      "53     Manchin               -1.0              2.0\n",
      "66        Paul               -1.0              2.0\n",
      "99       Young               -1.0              2.0\n",
      "\n",
      "[100 rows x 3 columns]\n",
      "\n",
      "Senator who is closest to Carper:\n",
      "senator              Tester\n",
      "Cosine Similarity       1.0\n",
      "Cosine Distance         0.0\n",
      "Name: 86, dtype: object\n"
     ]
    }
   ],
   "source": [
    "def cosine_similarity(u,v):\n",
    "    dot = np.dot(u, v)\n",
    "    u_norm = np.linalg.norm(u)\n",
    "    v_norm = np.linalg.norm(v)\n",
    "\n",
    "\n",
    "    if u_norm == 0 or v_norm == 0:\n",
    "        return 0 \n",
    "    else:\n",
    "        return dot / (u_norm * v_norm)\n",
    "\n",
    "def cosine_distance(u,v):\n",
    "    cosd = 1 - cosine_similarity(u,v)\n",
    "    return cosd\n",
    "    \n",
    "\n",
    "result = []\n",
    "\n",
    "for i, r in df.iterrows():\n",
    "    senator_lastname = r['Name']\n",
    "    comparison_records = r['B0':'B10']\n",
    "\n",
    "    similarity = cosine_similarity(RI_senator,comparison_records)\n",
    "    distance = cosine_distance(RI_senator,comparison_records)\n",
    "\n",
    "    result.append({'senator':senator_lastname,'Cosine Similarity':similarity,'Cosine Distance':distance})\n",
    "\n",
    "result_df = pd.DataFrame(result)\n",
    "result_df_sorted = result_df.sort_values(by = 'Cosine Similarity',ascending = False )\n",
    "Closest_senator = result_df_sorted.iloc[1]\n",
    "print(result_df_sorted)\n",
    "print(\"\\nSenator who is closest to Carper:\")\n",
    "print(Closest_senator)"
   ]
  },
  {
   "cell_type": "markdown",
   "id": "c06d53cb-1fa4-4f21-bb36-36042cf15c67",
   "metadata": {},
   "source": [
    "here i choos senator Blackburn to see who mostly disagree with him"
   ]
  },
  {
   "cell_type": "code",
   "execution_count": 119,
   "id": "ed22ef7a-603e-4a3c-a12c-a52239318665",
   "metadata": {},
   "outputs": [
    {
     "data": {
      "text/plain": [
       "array([ 0, -1, -1, -1, -1, -1, -1, -1, -1, -1, -1])"
      ]
     },
     "execution_count": 119,
     "metadata": {},
     "output_type": "execute_result"
    }
   ],
   "source": [
    "MD_senator = df.loc[df['Name'] == 'Blackburn','B0':'B10'].to_numpy().flatten()\n",
    "MD_senator"
   ]
  },
  {
   "cell_type": "code",
   "execution_count": 121,
   "id": "f5a324b1-c3ef-4c39-9af4-a98fe813de06",
   "metadata": {},
   "outputs": [
    {
     "name": "stdout",
     "output_type": "stream",
     "text": [
      "      Senator  Cosine Similarity  Cosine Distance\n",
      "92     Warner          -1.000000     2.000000e+00\n",
      "41     Hoeven          -1.000000     2.000000e+00\n",
      "0     Baldwin          -0.953463     1.953463e+00\n",
      "68       Reed          -0.953463     1.953463e+00\n",
      "28     Durbin          -0.953463     1.953463e+00\n",
      "..        ...                ...              ...\n",
      "60     Mullin           0.953463     4.653741e-02\n",
      "66       Paul           0.953463     4.653741e-02\n",
      "57   Menendez           1.000000     2.220446e-16\n",
      "3   Blackburn           1.000000     2.220446e-16\n",
      "71     Romney           1.000000     2.220446e-16\n",
      "\n",
      "[100 rows x 3 columns]\n",
      "\n",
      "Senator who disagrees most with Blackburn:\n",
      "Senator              Warner\n",
      "Cosine Similarity      -1.0\n",
      "Cosine Distance         2.0\n",
      "Name: 92, dtype: object\n"
     ]
    }
   ],
   "source": [
    "def cosine_similarity(u,v):\n",
    "    dot = np.dot(u, v)\n",
    "    u_norm = np.linalg.norm(u)\n",
    "    v_norm = np.linalg.norm(v)\n",
    "\n",
    "\n",
    "    if u_norm == 0 or v_norm == 0:\n",
    "        return 0 \n",
    "    else:\n",
    "        return dot / (u_norm * v_norm)\n",
    "\n",
    "def cosine_distance(u,v):\n",
    "    cosd = 1 - cosine_similarity(u,v)\n",
    "    return cosd\n",
    "    \n",
    "results = []\n",
    "\n",
    "for i,r in df.iterrows():\n",
    "    comparison_senator = r['Name']\n",
    "    comparison_record = r['B0':'B10']\n",
    "\n",
    "    similarity = cosine_similarity(MD_senator,comparison_record)\n",
    "    distance = cosine_distance(MD_senator,comparison_record)\n",
    "\n",
    "    results.append({'Senator':comparison_senator,'Cosine Similarity':similarity,'Cosine Distance':distance})\n",
    "\n",
    "results_df = pd.DataFrame(results)\n",
    "results_df_sorted = results_df.sort_values(by = 'Cosine Distance',ascending = False)\n",
    "most_disagreement = results_df_sorted.loc[results_df_sorted['Cosine Distance'].idxmax()]\n",
    "print(results_df_sorted)\n",
    "print(\"\\nSenator who disagrees most with Blackburn:\")\n",
    "print(most_disagreement)"
   ]
  },
  {
   "cell_type": "markdown",
   "id": "36faf623-4cb0-4def-9b48-2e25386eeef6",
   "metadata": {},
   "source": [
    "Here i choose senator sinema who is an Independent candidate to classify wheathere is sinema is closer to to the Democrats or a Republicans"
   ]
  },
  {
   "cell_type": "code",
   "execution_count": 123,
   "id": "28435ca8-bfe1-4e2f-a6be-434685dbccac",
   "metadata": {},
   "outputs": [
    {
     "data": {
      "text/plain": [
       "array([ 1,  0,  1,  1,  1,  1,  1,  1,  1, -1, -1])"
      ]
     },
     "execution_count": 123,
     "metadata": {},
     "output_type": "execute_result"
    }
   ],
   "source": [
    "s_record = df.loc[df['Name'] == 'Sinema','B0':'B10']\n",
    "s_record = s_record.to_numpy().flatten()\n",
    "s_record"
   ]
  },
  {
   "cell_type": "code",
   "execution_count": 125,
   "id": "7c5e2ede-0f3e-46ec-a9b1-6440a644ece9",
   "metadata": {},
   "outputs": [
    {
     "name": "stdout",
     "output_type": "stream",
     "text": [
      "Average similarity to Democrats: 0.5976620428378843\n",
      "Average similarity to Republicans: -0.31627700713964735\n",
      "Sinema was closer to Democrat\n"
     ]
    }
   ],
   "source": [
    "\n",
    "D_senator = df[df['Party'] == 'D']\n",
    "R_senator = df[df['Party'] == 'R']\n",
    "\n",
    "random.seed(42)\n",
    "\n",
    "D = D_senator.sample(5,random_state=42)\n",
    "R = R_senator.sample(5,random_state=42)\n",
    "\n",
    "D_similarities = []\n",
    "R_similarities = []\n",
    "\n",
    "for i,r in D.iterrows():\n",
    "    v_record = r['B0':'B10'].to_numpy()\n",
    "    similarity = cosine_similarity(s_record,v_record)\n",
    "    D_similarities.append(similarity)\n",
    "\n",
    "for i,r in R.iterrows():\n",
    "    v_record = r['B0':'B10'].to_numpy()\n",
    "    similarity = cosine_similarity(s_record,v_record)\n",
    "    R_similarities.append(similarity)\n",
    "\n",
    "avg_D_similarities = np.mean(D_similarities)\n",
    "avg_R_similarities = np.mean(R_similarities)\n",
    "\n",
    "\n",
    "print(f'Average similarity to Democrats: {avg_D_similarities}')\n",
    "print(f'Average similarity to Republicans: {avg_R_similarities}')\n",
    "\n",
    "if avg_D_similarities > avg_R_similarities:\n",
    "    print(\"Sinema was closer to Democrat\")\n",
    "else:\n",
    "    print(\"Sinema was closer to Republican\")\n",
    "    \n"
   ]
  },
  {
   "cell_type": "markdown",
   "id": "81a06391-e334-4e84-a009-29e8676bc988",
   "metadata": {},
   "source": [
    "The average similarities are compared and gives quantitative measure of Sinema' political alignment by comparing her voting record to a sample of Democratic and Republican senators."
   ]
  }
 ],
 "metadata": {
  "kernelspec": {
   "display_name": "Python 3 (ipykernel)",
   "language": "python",
   "name": "python3"
  },
  "language_info": {
   "codemirror_mode": {
    "name": "ipython",
    "version": 3
   },
   "file_extension": ".py",
   "mimetype": "text/x-python",
   "name": "python",
   "nbconvert_exporter": "python",
   "pygments_lexer": "ipython3",
   "version": "3.12.4"
  }
 },
 "nbformat": 4,
 "nbformat_minor": 5
}
