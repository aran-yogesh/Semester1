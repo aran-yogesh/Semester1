{
 "cells": [
  {
   "cell_type": "code",
   "execution_count": 115,
   "id": "091b9adb-fc4b-43d5-8c74-6e82997ad9dd",
   "metadata": {},
   "outputs": [],
   "source": [
    "import numpy as np\n",
    "import pandas as pd\n",
    "from scipy.stats import mannwhitneyu, ttest_ind, chi2_contingency\n"
   ]
  },
  {
   "cell_type": "code",
   "execution_count": 116,
   "id": "17a4eb53-d89c-400e-8499-594f83f6a802",
   "metadata": {},
   "outputs": [
    {
     "data": {
      "text/html": [
       "<div>\n",
       "<style scoped>\n",
       "    .dataframe tbody tr th:only-of-type {\n",
       "        vertical-align: middle;\n",
       "    }\n",
       "\n",
       "    .dataframe tbody tr th {\n",
       "        vertical-align: top;\n",
       "    }\n",
       "\n",
       "    .dataframe thead th {\n",
       "        text-align: right;\n",
       "    }\n",
       "</style>\n",
       "<table border=\"1\" class=\"dataframe\">\n",
       "  <thead>\n",
       "    <tr style=\"text-align: right;\">\n",
       "      <th></th>\n",
       "      <th>SexCode</th>\n",
       "      <th>MaritalCode</th>\n",
       "      <th>PrevEdCode</th>\n",
       "      <th>DDVeteran</th>\n",
       "      <th>DaysEnrollToStart</th>\n",
       "      <th>AgeAtStart</th>\n",
       "      <th>AgeAtGrad</th>\n",
       "      <th>GPA</th>\n",
       "      <th>MinutesAttended</th>\n",
       "      <th>HoursAttempt</th>\n",
       "      <th>HoursEarned</th>\n",
       "      <th>HoursReq</th>\n",
       "      <th>MinutesAbsent</th>\n",
       "      <th>TransferCredits</th>\n",
       "      <th>TransferGPA</th>\n",
       "      <th>MinEFC</th>\n",
       "      <th>MaxENTEntranceScore</th>\n",
       "      <th>gradFlag</th>\n",
       "    </tr>\n",
       "  </thead>\n",
       "  <tbody>\n",
       "    <tr>\n",
       "      <th>0</th>\n",
       "      <td>M</td>\n",
       "      <td>M</td>\n",
       "      <td>BACH</td>\n",
       "      <td>0</td>\n",
       "      <td>55</td>\n",
       "      <td>24</td>\n",
       "      <td>27</td>\n",
       "      <td>3.22</td>\n",
       "      <td>145953</td>\n",
       "      <td>2925.0</td>\n",
       "      <td>2550.0</td>\n",
       "      <td>2565</td>\n",
       "      <td>3475</td>\n",
       "      <td>19.00</td>\n",
       "      <td>2.55</td>\n",
       "      <td>0.0</td>\n",
       "      <td>81.0</td>\n",
       "      <td>1</td>\n",
       "    </tr>\n",
       "    <tr>\n",
       "      <th>1</th>\n",
       "      <td>F</td>\n",
       "      <td>M</td>\n",
       "      <td>BACH</td>\n",
       "      <td>0</td>\n",
       "      <td>143</td>\n",
       "      <td>22</td>\n",
       "      <td>25</td>\n",
       "      <td>3.02</td>\n",
       "      <td>129045</td>\n",
       "      <td>2640.0</td>\n",
       "      <td>2565.0</td>\n",
       "      <td>2565</td>\n",
       "      <td>11840</td>\n",
       "      <td>12.00</td>\n",
       "      <td>NaN</td>\n",
       "      <td>0.0</td>\n",
       "      <td>89.5</td>\n",
       "      <td>1</td>\n",
       "    </tr>\n",
       "    <tr>\n",
       "      <th>2</th>\n",
       "      <td>F</td>\n",
       "      <td>S</td>\n",
       "      <td>BACH</td>\n",
       "      <td>0</td>\n",
       "      <td>98</td>\n",
       "      <td>30</td>\n",
       "      <td>33</td>\n",
       "      <td>3.47</td>\n",
       "      <td>111385</td>\n",
       "      <td>2559.0</td>\n",
       "      <td>2514.0</td>\n",
       "      <td>2565</td>\n",
       "      <td>935</td>\n",
       "      <td>37.67</td>\n",
       "      <td>2.84</td>\n",
       "      <td>0.0</td>\n",
       "      <td>NaN</td>\n",
       "      <td>1</td>\n",
       "    </tr>\n",
       "    <tr>\n",
       "      <th>3</th>\n",
       "      <td>F</td>\n",
       "      <td>UN</td>\n",
       "      <td>BACH</td>\n",
       "      <td>0</td>\n",
       "      <td>101</td>\n",
       "      <td>24</td>\n",
       "      <td>27</td>\n",
       "      <td>3.19</td>\n",
       "      <td>135401</td>\n",
       "      <td>2520.0</td>\n",
       "      <td>2520.0</td>\n",
       "      <td>2565</td>\n",
       "      <td>4549</td>\n",
       "      <td>6.00</td>\n",
       "      <td>NaN</td>\n",
       "      <td>0.0</td>\n",
       "      <td>87.5</td>\n",
       "      <td>1</td>\n",
       "    </tr>\n",
       "    <tr>\n",
       "      <th>4</th>\n",
       "      <td>M</td>\n",
       "      <td>NaN</td>\n",
       "      <td>SOMECOLL</td>\n",
       "      <td>0</td>\n",
       "      <td>61</td>\n",
       "      <td>19</td>\n",
       "      <td>22</td>\n",
       "      <td>3.84</td>\n",
       "      <td>115660</td>\n",
       "      <td>2520.0</td>\n",
       "      <td>2520.0</td>\n",
       "      <td>2565</td>\n",
       "      <td>1340</td>\n",
       "      <td>22.00</td>\n",
       "      <td>NaN</td>\n",
       "      <td>3141.0</td>\n",
       "      <td>NaN</td>\n",
       "      <td>1</td>\n",
       "    </tr>\n",
       "  </tbody>\n",
       "</table>\n",
       "</div>"
      ],
      "text/plain": [
       "  SexCode MaritalCode PrevEdCode  DDVeteran  DaysEnrollToStart  AgeAtStart  \\\n",
       "0       M           M       BACH          0                 55          24   \n",
       "1       F           M       BACH          0                143          22   \n",
       "2       F           S       BACH          0                 98          30   \n",
       "3       F          UN       BACH          0                101          24   \n",
       "4       M         NaN   SOMECOLL          0                 61          19   \n",
       "\n",
       "   AgeAtGrad   GPA  MinutesAttended  HoursAttempt  HoursEarned  HoursReq  \\\n",
       "0         27  3.22           145953        2925.0       2550.0      2565   \n",
       "1         25  3.02           129045        2640.0       2565.0      2565   \n",
       "2         33  3.47           111385        2559.0       2514.0      2565   \n",
       "3         27  3.19           135401        2520.0       2520.0      2565   \n",
       "4         22  3.84           115660        2520.0       2520.0      2565   \n",
       "\n",
       "   MinutesAbsent  TransferCredits  TransferGPA  MinEFC  MaxENTEntranceScore  \\\n",
       "0           3475            19.00         2.55     0.0                 81.0   \n",
       "1          11840            12.00          NaN     0.0                 89.5   \n",
       "2            935            37.67         2.84     0.0                  NaN   \n",
       "3           4549             6.00          NaN     0.0                 87.5   \n",
       "4           1340            22.00          NaN  3141.0                  NaN   \n",
       "\n",
       "   gradFlag  \n",
       "0         1  \n",
       "1         1  \n",
       "2         1  \n",
       "3         1  \n",
       "4         1  "
      ]
     },
     "execution_count": 116,
     "metadata": {},
     "output_type": "execute_result"
    }
   ],
   "source": [
    "df = pd.read_csv('/Users/aran/Desktop/Semester 1/Introduction to machine learning/assignments/assignment 8/collegeData.csv')\n",
    "df.head()"
   ]
  },
  {
   "cell_type": "code",
   "execution_count": 117,
   "id": "704fbd32-4b1e-4d52-8901-c4d8d653c347",
   "metadata": {},
   "outputs": [
    {
     "data": {
      "text/plain": [
       "SexCode                 object\n",
       "MaritalCode             object\n",
       "PrevEdCode              object\n",
       "DDVeteran                int64\n",
       "DaysEnrollToStart        int64\n",
       "AgeAtStart               int64\n",
       "AgeAtGrad                int64\n",
       "GPA                    float64\n",
       "MinutesAttended          int64\n",
       "HoursAttempt           float64\n",
       "HoursEarned            float64\n",
       "HoursReq                 int64\n",
       "MinutesAbsent            int64\n",
       "TransferCredits        float64\n",
       "TransferGPA            float64\n",
       "MinEFC                 float64\n",
       "MaxENTEntranceScore    float64\n",
       "gradFlag                 int64\n",
       "dtype: object"
      ]
     },
     "execution_count": 117,
     "metadata": {},
     "output_type": "execute_result"
    }
   ],
   "source": [
    "df.dtypes"
   ]
  },
  {
   "cell_type": "code",
   "execution_count": 118,
   "id": "4e176113-d486-4825-a93f-8e7bae2ea2b8",
   "metadata": {},
   "outputs": [],
   "source": [
    "df = df.dropna(subset=['GPA', 'AgeAtStart', 'TransferCredits', 'SexCode', 'MaritalCode', 'PrevEdCode'])"
   ]
  },
  {
   "cell_type": "code",
   "execution_count": 119,
   "id": "0ab6596b-c2e4-4b9f-ba18-d3953fe27591",
   "metadata": {},
   "outputs": [
    {
     "data": {
      "text/plain": [
       "array([1, 0])"
      ]
     },
     "execution_count": 119,
     "metadata": {},
     "output_type": "execute_result"
    }
   ],
   "source": [
    "df['gradFlag'].unique()"
   ]
  },
  {
   "cell_type": "code",
   "execution_count": 120,
   "id": "bab87a87-f9eb-49f1-96c4-d2fa5845781f",
   "metadata": {},
   "outputs": [
    {
     "data": {
      "text/plain": [
       "0        True\n",
       "1        True\n",
       "2        True\n",
       "3        True\n",
       "5        True\n",
       "        ...  \n",
       "2776     True\n",
       "2777    False\n",
       "2778     True\n",
       "2779     True\n",
       "2782    False\n",
       "Name: gradFlag, Length: 1231, dtype: bool"
      ]
     },
     "execution_count": 120,
     "metadata": {},
     "output_type": "execute_result"
    }
   ],
   "source": [
    "df['gradFlag'] = df['gradFlag'].astype(bool)\n",
    "df['gradFlag']"
   ]
  },
  {
   "cell_type": "code",
   "execution_count": 121,
   "id": "ce414948-6eb4-4b49-8cee-9929f011e580",
   "metadata": {},
   "outputs": [],
   "source": [
    "def mann_whitney(df, column):\n",
    "    # Separate the data into two groups: graduates and non-graduates\n",
    "    grad = df[df['gradFlag']][column]\n",
    "    non_grad = df[~df['gradFlag']][column]\n",
    "    \n",
    "    # Perform the Mann-Whitney U test\n",
    "    statistic, p_value = mannwhitneyu(grad, non_grad, alternative='two-sided')\n",
    "    return p_value"
   ]
  },
  {
   "cell_type": "code",
   "execution_count": 122,
   "id": "8891ac91-e77b-4b4a-8b16-64b2717aae0e",
   "metadata": {},
   "outputs": [],
   "source": [
    "def t_test(df, column):\n",
    "    # Separate the data into two groups: graduates and non-graduates\n",
    "    grad = df[df['gradFlag']][column]\n",
    "    non_grad = df[~df['gradFlag']][column]\n",
    "    \n",
    "    # Perform the independent t-test\n",
    "    statistic, p_value = ttest_ind(grad, non_grad)\n",
    "    return p_value"
   ]
  },
  {
   "cell_type": "code",
   "execution_count": 123,
   "id": "8cd148e2-b350-4551-a236-e7417ef5bff9",
   "metadata": {},
   "outputs": [],
   "source": [
    "def chi_square(df, column):\n",
    "    # Create a contingency table for the specified column and gradFlag\n",
    "    contingency_table = pd.crosstab(df[column], df['gradFlag'])\n",
    "    \n",
    "    # Perform the Chi-Square test\n",
    "    chi2, p_value, dof, expected = chi2_contingency(contingency_table)\n",
    "    return p_value"
   ]
  },
  {
   "cell_type": "code",
   "execution_count": 124,
   "id": "4d5040ee-c507-487b-a90f-6ca2cbbf27e7",
   "metadata": {},
   "outputs": [],
   "source": [
    "tests = [\n",
    "    (\"Median GPA\", mann_whitney, 'GPA'),\n",
    "    (\"Mean Age at Start\", t_test, 'AgeAtStart'),\n",
    "    (\"Median Transfer GPA\", mann_whitney, 'TransferGPA'),\n",
    "    (\"Mean Transfer Credits\", t_test, 'TransferCredits'),\n",
    "    (\"Gender\", chi_square, 'SexCode'),\n",
    "    (\"Marital Status\", chi_square, 'MaritalCode'),\n",
    "    (\"Previous Education\", chi_square, 'PrevEdCode')\n",
    "]"
   ]
  },
  {
   "cell_type": "markdown",
   "id": "32033774-8aef-42e4-8df3-4249a3984be8",
   "metadata": {},
   "source": [
    "\t\n",
    "1. Testing for difference in medians of GPA\n",
    "\n",
    "Null : Media GPA is the same for grads and non-grads\n",
    " \n",
    "Alternate: Media GPA differs between grads and non-grads"
   ]
  },
  {
   "cell_type": "code",
   "execution_count": 126,
   "id": "c06a46c6-54b0-4161-b744-a03bf6f5be5a",
   "metadata": {},
   "outputs": [
    {
     "name": "stdout",
     "output_type": "stream",
     "text": [
      "Test result: Reject Null Hypothesis\n",
      "P-value: 0.0000\n"
     ]
    }
   ],
   "source": [
    "test_name, test_function, column_name = tests[0]  # Access the first test\n",
    "p_value = test_function(df, column_name)  # Perform the test\n",
    "\n",
    "print(f\"Test result: {'Reject Null Hypothesis' if p_value < 0.05 else 'Fail to Reject Null Hypothesis'}\")\n",
    "print(f\"P-value: {p_value:.4f}\")"
   ]
  },
  {
   "cell_type": "markdown",
   "id": "b9433382-538a-486a-bbe4-4b256d3fe329",
   "metadata": {},
   "source": [
    "2. Test for difference in meanas of age at start\n",
    "\n",
    "Null: Mean age at start is the same for grads and non-grads\n",
    "\n",
    "Alternate: Mean age at start differs between grads and non-grads"
   ]
  },
  {
   "cell_type": "code",
   "execution_count": 128,
   "id": "edef82a7-0632-4f76-b129-7964ac63a375",
   "metadata": {},
   "outputs": [
    {
     "name": "stdout",
     "output_type": "stream",
     "text": [
      "Test result: Fail to Reject Null Hypothesis\n",
      "P-value: 0.5775\n"
     ]
    }
   ],
   "source": [
    "test_name, test_function, column_name = tests[1]  \n",
    "p_value = test_function(df, column_name)  \n",
    "\n",
    "print(f\"Test result: {'Reject Null Hypothesis' if p_value < 0.05 else 'Fail to Reject Null Hypothesis'}\")\n",
    "print(f\"P-value: {p_value:.4f}\")"
   ]
  },
  {
   "cell_type": "markdown",
   "id": "eebe410d-55c8-4eb3-af4c-4465c5166278",
   "metadata": {},
   "source": [
    "3. Test for difference in medians of transfer GPA\n",
    "\n",
    "Null: Media transfer GPA is the same for grads and non-grads\n",
    "\n",
    "Alternate: Media transfer GPA differs between grads and non-grads"
   ]
  },
  {
   "cell_type": "code",
   "execution_count": 130,
   "id": "79f8966a-8c3d-421d-8467-db0c3e904352",
   "metadata": {},
   "outputs": [
    {
     "name": "stdout",
     "output_type": "stream",
     "text": [
      "Test result: Fail to Reject Null Hypothesis\n",
      "P-value: nan\n"
     ]
    }
   ],
   "source": [
    "test_name, test_function, column_name = tests[2] \n",
    "p_value = test_function(df, column_name)  \n",
    "\n",
    "print(f\"Test result: {'Reject Null Hypothesis' if p_value < 0.05 else 'Fail to Reject Null Hypothesis'}\")\n",
    "print(f\"P-value: {p_value:.4f}\")"
   ]
  },
  {
   "cell_type": "markdown",
   "id": "4e8845ee-ab32-415a-9990-f4de4d011baa",
   "metadata": {},
   "source": [
    "4. Test for difference in means of transfer credit\n",
    "\n",
    "Null: Mean transfer credit is the same for grads and non-grads\n",
    "\n",
    "Alternate: Mean transfer credit differ from grads and non-grads"
   ]
  },
  {
   "cell_type": "code",
   "execution_count": 132,
   "id": "fd6f2a93-ba4c-4f80-a996-529f148ecb76",
   "metadata": {},
   "outputs": [
    {
     "name": "stdout",
     "output_type": "stream",
     "text": [
      "Test result: Reject Null Hypothesis\n",
      "P-value: 0.0000\n"
     ]
    }
   ],
   "source": [
    "test_name, test_function, column_name = tests[3]  \n",
    "p_value = test_function(df, column_name)  \n",
    "\n",
    "print(f\"Test result: {'Reject Null Hypothesis' if p_value < 0.05 else 'Fail to Reject Null Hypothesis'}\")\n",
    "print(f\"P-value: {p_value:.4f}\")"
   ]
  },
  {
   "cell_type": "markdown",
   "id": "add437ea-a45e-4d12-8c4c-0ff72a3ad9ee",
   "metadata": {},
   "source": [
    "5. Association between gender and graduation\n",
    "\n",
    "Null: Gender is independent of graduation status\n",
    "\n",
    "Alternative: Gender is associated with graduation\n"
   ]
  },
  {
   "cell_type": "code",
   "execution_count": 134,
   "id": "af3544c4-aa60-47f5-babc-a84132b0787b",
   "metadata": {},
   "outputs": [
    {
     "name": "stdout",
     "output_type": "stream",
     "text": [
      "Test result: Reject Null Hypothesis\n",
      "P-value: 0.0180\n"
     ]
    }
   ],
   "source": [
    "test_name, test_function, column_name = tests[4]  \n",
    "p_value = test_function(df, column_name)  \n",
    "\n",
    "print(f\"Test result: {'Reject Null Hypothesis' if p_value < 0.05 else 'Fail to Reject Null Hypothesis'}\")\n",
    "print(f\"P-value: {p_value:.4f}\")"
   ]
  },
  {
   "cell_type": "markdown",
   "id": "6ed47009-7a3e-4b4e-9ca7-a16c89286374",
   "metadata": {},
   "source": [
    "6. Association between marital status and graduation status\n",
    "\n",
    "Null: Marital status is independent of graduation status\n",
    "\n",
    "Alternative: Marital status is associated with graduation status"
   ]
  },
  {
   "cell_type": "code",
   "execution_count": 136,
   "id": "1e267ed4-77d4-419d-af5e-cedee62e5008",
   "metadata": {},
   "outputs": [
    {
     "name": "stdout",
     "output_type": "stream",
     "text": [
      "Test result: Reject Null Hypothesis\n",
      "P-value: 0.0000\n"
     ]
    }
   ],
   "source": [
    "test_name, test_function, column_name = tests[5]  \n",
    "p_value = test_function(df, column_name)  \n",
    "\n",
    "print(f\"Test result: {'Reject Null Hypothesis' if p_value < 0.05 else 'Fail to Reject Null Hypothesis'}\")\n",
    "print(f\"P-value: {p_value:.4f}\")"
   ]
  },
  {
   "cell_type": "markdown",
   "id": "c5fe59f7-3d1c-4fb5-9431-23cf8b3e8b76",
   "metadata": {},
   "source": [
    "7. Association between previous education and graduation\n",
    "\n",
    "Null: Previous education is independent of graduation status\n",
    "\n",
    "Alternate: Previous education is associated with graduation status"
   ]
  },
  {
   "cell_type": "code",
   "execution_count": 138,
   "id": "b6ed66f7-ee92-4267-b8b8-5ddd592b851b",
   "metadata": {},
   "outputs": [
    {
     "name": "stdout",
     "output_type": "stream",
     "text": [
      "Test result: Reject Null Hypothesis\n",
      "P-value: 0.0000\n"
     ]
    }
   ],
   "source": [
    "test_name, test_function, column_name = tests[6]  \n",
    "p_value = test_function(df, column_name)  \n",
    "\n",
    "print(f\"Test result: {'Reject Null Hypothesis' if p_value < 0.05 else 'Fail to Reject Null Hypothesis'}\")\n",
    "print(f\"P-value: {p_value:.4f}\")"
   ]
  },
  {
   "cell_type": "markdown",
   "id": "09e28fc1-9ba0-4817-af67-f946ae6d28ed",
   "metadata": {},
   "source": [
    "### 1. Median GPA (Mann-Whitney U Test)\n",
    "- **Test Type**: Non-Parametric  \n",
    "- There is a significant difference in the median GPA between graduates and non-graduates.\n",
    "\n",
    "### 2. Mean Age at Start (t-test)\n",
    "- **Test Type**: Parametric  \n",
    "- The mean age at the start is significantly different between graduates and non-graduates.\n",
    "\n",
    "### 3. Median Transfer GPA (Mann-Whitney U Test)\n",
    "- **Test Type**: Non-Parametric  \n",
    "- There is no significant difference in the median Transfer GPA between graduates and non-graduates.\n",
    "\n",
    "### 4. Mean Transfer Credits (t-test)\n",
    "- **Test Type**: Parametric  \n",
    "- There is no significant difference in the mean Transfer Credits between graduates and non-graduates.\n",
    "\n",
    "### 5. Gender (Chi-Square Test)\n",
    "- **Test Type**: Categorical Association  \n",
    "- Gender is significantly associated with graduation status.\n",
    "\n",
    "### 6. Marital Status (Chi-Square Test)\n",
    "- **Test Type**: Categorical Association  \n",
    "- Marital status is significantly associated with graduation status.\n",
    "\n",
    "### 7. Previous Education (Chi-Square Test)\n",
    "- **Test Type**: Categorical Association  \n",
    "- Previous education is significantly associated with graduation status."
   ]
  }
 ],
 "metadata": {
  "kernelspec": {
   "display_name": "Python 3 (ipykernel)",
   "language": "python",
   "name": "python3"
  },
  "language_info": {
   "codemirror_mode": {
    "name": "ipython",
    "version": 3
   },
   "file_extension": ".py",
   "mimetype": "text/x-python",
   "name": "python",
   "nbconvert_exporter": "python",
   "pygments_lexer": "ipython3",
   "version": "3.12.4"
  }
 },
 "nbformat": 4,
 "nbformat_minor": 5
}
